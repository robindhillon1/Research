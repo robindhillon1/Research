{
 "cells": [
  {
   "cell_type": "code",
   "execution_count": 11,
   "metadata": {},
   "outputs": [],
   "source": [
    "import pyneb as pn\n",
    "import astropy.io.fits as fits\n",
    "import matplotlib.pyplot as plt\n",
    "\n",
    "def flux_ratio(amp_SII6716_fit,amp_SII6731_fit,amp_SII6716_br_fit,amp_SII6731_br_fit):\n",
    "    ratio_core = (amp_SII6716_fit/amp_SII6731_fit)\n",
    "    ratio_wing = (amp_SII6716_br_fit/amp_SII6731_br_fit)\n",
    "    return ratio_core,ratio_wing \n",
    "\n",
    "def electron_density(ratio_core,ratio_wing):\n",
    "    S2 = pn.Atom('S',2)\n",
    "    Ne_core = S2.getTemDen(int_ratio=ratio_core,tem=1e4,wave1=6717,wave2=6731)\n",
    "    Ne_wing = S2.getTemDen(int_ratio=ratio_wing,tem=1e4,wave1=6717,wave2=6731)\n",
    "    return Ne_core, Ne_wing"
   ]
  },
  {
   "cell_type": "code",
   "execution_count": 12,
   "metadata": {},
   "outputs": [],
   "source": [
    "with fits.open('subcube_par_3C264_45x45_spec_100loops.fits') as hdu:\n",
    "\n",
    "#hdu = fits.open('subcube_par_3C264_LSQ_45x45_updated.fits')\n",
    "\n",
    "    Ha = hdu[1].data\n",
    "    Ha_br = hdu[2].data\n",
    "    N6583 = hdu[3].data\n",
    "    N6583_br = hdu[4].data\n",
    "    S6716 = hdu[5].data\n",
    "    S6716_br = hdu[6].data\n",
    "    S6731 = hdu[7].data\n",
    "    S6731_br = hdu[8].data\n",
    "    hdu.close()\n",
    "\n",
    "#plt.figure(figsize=(10,10))\n",
    "#plt.imshow(Ha_br,cmap='afmhot',origin='lower')"
   ]
  },
  {
   "cell_type": "code",
   "execution_count": 13,
   "metadata": {},
   "outputs": [
    {
     "name": "stderr",
     "output_type": "stream",
     "text": [
      "D:\\Anaconda\\lib\\site-packages\\ipykernel_launcher.py:6: RuntimeWarning: divide by zero encountered in true_divide\n",
      "  \n",
      "D:\\Anaconda\\lib\\site-packages\\ipykernel_launcher.py:6: RuntimeWarning: overflow encountered in true_divide\n",
      "  \n",
      "D:\\Anaconda\\lib\\site-packages\\ipykernel_launcher.py:7: RuntimeWarning: divide by zero encountered in true_divide\n",
      "  import sys\n",
      "D:\\Anaconda\\lib\\site-packages\\ipykernel_launcher.py:7: RuntimeWarning: overflow encountered in true_divide\n",
      "  import sys\n",
      "D:\\Anaconda\\lib\\site-packages\\ipykernel_launcher.py:7: RuntimeWarning: invalid value encountered in true_divide\n",
      "  import sys\n"
     ]
    }
   ],
   "source": [
    "ratio_core,ratio_wing = flux_ratio(S6716,S6731,S6716_br,S6731_br)\n",
    "Ne_core,Ne_wing = electron_density(ratio_core,ratio_wing)"
   ]
  },
  {
   "cell_type": "code",
   "execution_count": 15,
   "metadata": {},
   "outputs": [
    {
     "name": "stderr",
     "output_type": "stream",
     "text": [
      "D:\\Anaconda\\lib\\site-packages\\ipykernel_launcher.py:1: RuntimeWarning: invalid value encountered in less\n",
      "  \"\"\"Entry point for launching an IPython kernel.\n",
      "D:\\Anaconda\\lib\\site-packages\\ipykernel_launcher.py:2: RuntimeWarning: invalid value encountered in greater\n",
      "  \n"
     ]
    },
    {
     "data": {
      "text/plain": [
       "<matplotlib.image.AxesImage at 0x18735085588>"
      ]
     },
     "execution_count": 15,
     "metadata": {},
     "output_type": "execute_result"
    },
    {
     "data": {
      "image/png": "[encoded data removed]",
      "text/plain": [
       "<Figure size 432x288 with 1 Axes>"
      ]
     },
     "metadata": {
      "needs_background": "light"
     },
     "output_type": "display_data"
    }
   ],
   "source": [
    "Ne_wing[Ne_wing<20] == 0\n",
    "Ne_wing[Ne_wing>10000] == 0"
   ]
  },
  {
   "cell_type": "code",
   "execution_count": 10,
   "metadata": {},
   "outputs": [
    {
     "name": "stderr",
     "output_type": "stream",
     "text": [
      "D:\\Anaconda\\lib\\site-packages\\ipykernel_launcher.py:1: RuntimeWarning: divide by zero encountered in true_divide\n",
      "  \"\"\"Entry point for launching an IPython kernel.\n",
      "D:\\Anaconda\\lib\\site-packages\\ipykernel_launcher.py:1: RuntimeWarning: overflow encountered in true_divide\n",
      "  \"\"\"Entry point for launching an IPython kernel.\n"
     ]
    },
    {
     "data": {
      "text/plain": [
       "array([[1.85702848e+00, 1.48720455e+00, 1.16938965e+02, ...,\n",
       "        4.46388930e-01, 6.62776901e-22, 1.08484829e-13],\n",
       "       [1.41088192e-30, 9.98570615e-23, 3.13556671e+00, ...,\n",
       "        3.83476953e+03, 1.62784389e-22, 3.84014845e-01],\n",
       "       [1.90242123e-35, 2.31332329e-18, 2.26695645e-19, ...,\n",
       "        1.87662244e-01, 1.55722782e-25, 3.18480563e+00],\n",
       "       ...,\n",
       "       [4.07313753e-26, 3.64245522e-26, 1.86597079e-01, ...,\n",
       "        8.74803084e-31, 8.79336816e+03, 1.07160490e-03],\n",
       "       [2.10787643e+02, 7.51225232e-32, 4.52137850e-02, ...,\n",
       "        1.17287981e-39, 8.56633091e+00, 1.19053161e-21],\n",
       "       [2.55331028e-25, 1.42203418e+04, 1.00878427e-33, ...,\n",
       "        4.11500803e-23, 1.64862024e-21, 7.25511551e+25]], dtype=float32)"
      ]
     },
     "execution_count": 10,
     "metadata": {},
     "output_type": "execute_result"
    }
   ],
   "source": [
    "S6716/S6731"
   ]
  },
  {
   "cell_type": "code",
   "execution_count": null,
   "metadata": {},
   "outputs": [],
   "source": []
  }
 ],
 "metadata": {
  "kernelspec": {
   "display_name": "Python 3",
   "language": "python",
   "name": "python3"
  },
  "language_info": {
   "codemirror_mode": {
    "name": "ipython",
    "version": 3
   },
   "file_extension": ".py",
   "mimetype": "text/x-python",
   "name": "python",
   "nbconvert_exporter": "python",
   "pygments_lexer": "ipython3",
   "version": "3.7.7"
  }
 },
 "nbformat": 4,
 "nbformat_minor": 4
}

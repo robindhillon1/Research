{
 "cells": [
  {
   "cell_type": "code",
   "execution_count": 3,
   "metadata": {},
   "outputs": [],
   "source": [
    "import astropy.io.fits as fits\n",
    "import numpy as np\n",
    "import matplotlib.pyplot as plt\n",
    "from scipy import ndimage\n",
    "from scipy.optimize import leastsq\n",
    "from scipy.optimize import least_squares\n",
    "import time\n",
    "from astropy.convolution import convolve, Gaussian2DKernel, Tophat2DKernel\n",
    "from astropy.modeling.models import Gaussian2D\n",
    "from matplotlib.colors import LogNorm\n",
    "from scipy.signal import convolve as scipy_convolve"
   ]
  },
  {
   "cell_type": "code",
   "execution_count": 4,
   "metadata": {},
   "outputs": [],
   "source": [
    "hdu = fits.open('3C264-1s-hanii-STARSUB.fits')\n",
    "qso_data = hdu[1].data\n",
    "qso_error = hdu[2].data\n",
    "qso_header = hdu[1].header\n",
    "wavestart = qso_header['CRVAL3']  # central wavelength = CDELT3 is microns per pixel. \n",
    "wavint = qso_header['CD3_3']  # wavelength interval\n",
    "#wave = wavestart+np.arange(qso_data.shape[0])*wavint. This is the same as the one below. \n",
    "[central_x,central_y]= [55,58]#\n",
    "qso_data[np.isnan(qso_data)] = 0.0000001\n",
    "qso_error[np.isnan(qso_error)] = 0.000001\n",
    "#(central_y,central_x) = ndimage.measurements.maximum_position(qso_data[1584,:,:])"
   ]
  },
  {
   "cell_type": "code",
   "execution_count": 5,
   "metadata": {},
   "outputs": [],
   "source": [
    "mini_cube = qso_data[:,central_y - 22:central_y + 23,central_x - 22:central_x + 23]\n",
    "mini_cube_error = qso_error[:,central_y - 22:central_y + 23,central_x - 22:central_x + 23]\n",
    "qso_header['CRPIX1'] = qso_header['CRPIX1'] - (central_x - 22)\n",
    "qso_header['CRPIX2'] = qso_header['CRPIX2'] - (central_y - 22)\n",
    "new_hdu = fits.HDUList([fits.PrimaryHDU(mini_cube),fits.ImageHDU(mini_cube_error)])\n",
    "new_hdu[0].header = qso_header\n",
    "wave = np.arange(wavestart,(wavestart+(wavint*mini_cube.shape[0])),wavint)"
   ]
  },
  {
   "cell_type": "code",
   "execution_count": 6,
   "metadata": {},
   "outputs": [],
   "source": [
    "z =0.02172 \n",
    "k = 1+z\n",
    "c = 300000\n",
    "central_vel = c*z\n",
    "wave = wave\n",
    "#mini_data = qso_data\n",
    "#mini_error = np.sqrt(qso_error)\n",
    "mini_data = mini_cube\n",
    "mini_error = np.sqrt(mini_cube_error)"
   ]
  },
  {
   "cell_type": "code",
   "execution_count": 7,
   "metadata": {},
   "outputs": [],
   "source": [
    "select = (wave > 6400*k) & (wave < 6800*k)\n",
    "select2 = (wave > 6552*k) & (wave < 6572*k) \n",
    "select3 = (wave > 6750*k) & (wave < 6780*k)\n",
    "par = np.zeros((10,mini_data.shape[1],mini_data.shape[2]),dtype=np.float32)\n",
    "err = np.zeros((10,mini_data.shape[1],mini_data.shape[2]),dtype=np.float32)\n",
    "fitted = np.zeros((np.shape(wave[select])[0],mini_data.shape[1],mini_data.shape[2]),dtype=np.float32)\n",
    "residuals = np.zeros((np.shape(wave[select])[0],mini_data.shape[1],mini_data.shape[2]),dtype=np.float32)"
   ]
  },
  {
   "cell_type": "code",
   "execution_count": 8,
   "metadata": {},
   "outputs": [],
   "source": [
    "# hdu = fits.open('table_3C264_extended_double_gauss.fits')\n",
    "# central_tab = hdu[1].data\n",
    "# central_columns = hdu[1].header\n",
    "vel_core = 6511.82921461\n",
    "vel_core_sigma = 103.01637393\n",
    "vel_wing = 6501.11964805\n",
    "vel_wing_sigma = 340.94087998  # from central fitting "
   ]
  },
  {
   "cell_type": "code",
   "execution_count": 9,
   "metadata": {},
   "outputs": [],
   "source": [
    "def redshift(vel):\n",
    "    return vel/300000.0\n",
    "\n",
    "def line_width(vel_sigma,rest_line,inst_res_fwhm=2.5):\n",
    "    sigma = vel_sigma/(300000.0-vel_sigma)*rest_line\n",
    "    return np.sqrt(sigma**2+(inst_res_fwhm/2.354)**2)\n",
    "\n",
    "def gauss(wave,amplitude,vel,vel_sigma, rest_wave):\n",
    "    line = (amplitude)*np.exp(-(wave-(rest_wave*(1+redshift(vel))))**2/(2*(line_width(vel_sigma, rest_wave))**2))\n",
    "    return line \n",
    "\n",
    "def Ha_gauss(wave,amp_Ha,vel,vel_sigma):\n",
    "    Ha = gauss(wave,amp_Ha,vel,vel_sigma,6562.85)\n",
    "    return Ha\n",
    "\n",
    "def NII_doublet_gauss(wave,amp_N6583,vel,vel_sigma):\n",
    "    N_6548 = 0.33*gauss(wave,amp_N6583,vel,vel_sigma,6548.05)\n",
    "    N_6583 = gauss(wave,amp_N6583,vel,vel_sigma,6583.45)\n",
    "    return N_6548+N_6583\n",
    "\n",
    "def SII_doublet_gauss(wave,amp_S6716,amp_S6731,vel,vel_sigma):\n",
    "    S_6716 = gauss(wave,amp_S6716,vel,vel_sigma,6716.44)\n",
    "    S_6731 = gauss(wave,amp_S6731,vel,vel_sigma,6731.82)\n",
    "    return S_6716+S_6731\n",
    "\n",
    "fixed_parameters = [vel_core,vel_core_sigma,vel_wing,vel_wing_sigma]  \n",
    "\n",
    "def full_gauss(p,wave,data,error,fixed_parameters):    \n",
    "    (amp_Ha,amp_Ha_br,amp_N6583,amp_N6583_br,amp_S6716,amp_S6716_br,amp_S6731,amp_S6731_br,m,c) = p\n",
    "    [vel_core,vel_core_sigma,vel_wing,vel_wing_sigma] = fixed_parameters\n",
    "    narrow_Ha = Ha_gauss(wave,amp_Ha,vel_core,vel_core_sigma)\n",
    "    broad_Ha = Ha_gauss(wave,amp_Ha_br,vel_wing,vel_wing_sigma)\n",
    "    narrow_NII = NII_doublet_gauss(wave,amp_N6583,vel_core,vel_core_sigma)\n",
    "    broad_NII = NII_doublet_gauss(wave,amp_N6583_br,vel_wing,vel_wing_sigma)\n",
    "    narrow_SII = SII_doublet_gauss(wave,amp_S6716,amp_S6731,vel_core,vel_core_sigma)\n",
    "    broad_SII = SII_doublet_gauss(wave,amp_S6716_br,amp_S6731_br,vel_wing,vel_wing_sigma)\n",
    "    cont = (wave/1000.0)*m+c\n",
    "    return (narrow_Ha+broad_Ha+narrow_NII+broad_NII+narrow_SII+broad_SII+cont-data)/error"
   ]
  },
  {
   "cell_type": "code",
   "execution_count": 10,
   "metadata": {},
   "outputs": [
    {
     "name": "stdout",
     "output_type": "stream",
     "text": [
      "Time elapsed:  7507.2266845703125\n"
     ]
    }
   ],
   "source": [
    "start = time.time()\n",
    "\n",
    "for i in range(mini_data.shape[1]):\n",
    "    for j in range(mini_data.shape[2]):\n",
    "        y = mini_data[:,i,j][select]\n",
    "        y_err = mini_error[:,i,j][select]\n",
    "        x = wave[select]\n",
    "        \n",
    "#         emissData = mini_data[:,i,j][select2]\n",
    "#         contData = mini_data[:,i,j][select3]\n",
    "        \n",
    "#         meanFlux = np.mean(emissData)\n",
    "#         noise = np.std(contData)\n",
    "        \n",
    "#         SN = meanFlux/noise\n",
    "#         #print(SN)\n",
    "\n",
    "        lower_bounds = [0,0,0,0,0,0,0,0,-np.inf,-np.inf]\n",
    "        upper_bounds = [np.inf,np.inf,np.inf,np.inf,np.inf,np.inf,np.inf,np.inf,np.inf,np.inf]\n",
    "        bounds_p_init = (lower_bounds,upper_bounds) \n",
    "                      \n",
    "        try:\n",
    "            result = least_squares(full_gauss,x0=[300,30,100,10,10,1,10,1,0,2],bounds=bounds_p_init,args = (x,y,y_err,fixed_parameters),max_nfev=10000000)\n",
    "            popt1 = result['x']  \n",
    "            \n",
    "        except RuntimeError or RuntimeWarning:\n",
    "            popt1 = [1e-5,1e-5,1e-5,1e-5,1e-5,1e-5,1e-5,1e-5,0.0001,0.01]\n",
    "            \n",
    "#         if SN >= 1:\n",
    "#             popt1,pcov1 = leastsq(full_gauss,x0=[300,30,100,10,10,1,10,1,0,2],args = (x,y,y_err,fixed_parameters),maxfev=10000000)\n",
    "#         else:\n",
    "#             popt1 = [1e-14,1e-14,1e-14,1e-14,1e-14,1e-14,1e-14,1e-14,0.0001,0.01]\n",
    "        \n",
    "        par[:,i,j] = popt1\n",
    "        \n",
    "#         model = full_gauss(popt1,x,y,y_err,fixed_parameters)*(y_err)+y\n",
    "#         fitted[:,i,j] = model\n",
    "        \n",
    "#         #plt.plot(x,y)\n",
    "#         #plt.plot(x,model)\n",
    "#         #plt.show()\n",
    "        \n",
    "        residuals[:,i,j] = mini_data[:,i,j][select] - fitted[:,i,j]\n",
    "\n",
    "        Monte_Carlo_loops = 100\n",
    "        parameters_MC = np.zeros((len(popt1),Monte_Carlo_loops))\n",
    "        \n",
    "        for l in range(Monte_Carlo_loops):\n",
    "            iteration_data = np.random.normal(y,y_err)\n",
    "            try:\n",
    "                result_MC = least_squares(full_gauss,x0=[300,30,100,10,10,1,10,1,0,2],bounds=bounds_p_init,args = (x,iteration_data,y_err,fixed_parameters),max_nfev=10000000)\n",
    "                popt_MC = result_MC['x']  \n",
    "            \n",
    "            except RuntimeError or RuntimeWarning:\n",
    "                popt_MC = [1e-5,1e-5,1e-5,1e-5,1e-5,1e-5,1e-5,1e-5,0.0001,0.01]\n",
    "                \n",
    "            parameters_MC[:,l]=popt_MC\n",
    "            \n",
    "        parameters_err = np.std(parameters_MC,1)\n",
    "        err[:,i,j]=parameters_err\n",
    "        \n",
    "\n",
    "print(\"Time elapsed: \", str(time.time() - start))"
   ]
  },
  {
   "cell_type": "code",
   "execution_count": 11,
   "metadata": {},
   "outputs": [],
   "source": [
    "hdus=[]\n",
    "hdus.append(fits.PrimaryHDU())\n",
    "hdus.append(fits.ImageHDU(par[0,:,:],name='amp_Ha'))\n",
    "hdus.append(fits.ImageHDU(par[1,:,:],name='amp_Ha_br'))\n",
    "hdus.append(fits.ImageHDU(par[2,:,:],name='amp_N6583'))\n",
    "hdus.append(fits.ImageHDU(par[3,:,:],name='amp_N6583_br'))\n",
    "hdus.append(fits.ImageHDU(par[4,:,:],name='amp_S6716'))\n",
    "hdus.append(fits.ImageHDU(par[5,:,:],name='amp_S6716_br'))\n",
    "hdus.append(fits.ImageHDU(par[6,:,:],name='amp_S6731'))\n",
    "hdus.append(fits.ImageHDU(par[7,:,:],name='amp_S6731_br'))\n",
    "hdus.append(fits.ImageHDU(par[8,:,:],name='m'))\n",
    "hdus.append(fits.ImageHDU(par[9,:,:],name='c'))\n",
    "hdu = fits.HDUList(hdus)\n",
    "\n",
    "hdu.writeto('subcube_par_3C264_45x45_spec_100loops.fits',overwrite=True)"
   ]
  },
  {
   "cell_type": "code",
   "execution_count": 12,
   "metadata": {},
   "outputs": [
    {
     "data": {
      "text/plain": [
       "<matplotlib.image.AxesImage at 0x27f3fc07a48>"
      ]
     },
     "execution_count": 12,
     "metadata": {},
     "output_type": "execute_result"
    },
    {
     "data": {
      "image/png": "[encoded data removed]",
      "text/plain": [
       "<Figure size 720x720 with 1 Axes>"
      ]
     },
     "metadata": {
      "needs_background": "light"
     },
     "output_type": "display_data"
    }
   ],
   "source": [
    "with fits.open('subcube_par_3C264_45x45_spec_100loops.fits') as hdu:\n",
    "\n",
    "#hdu = fits.open('subcube_par_3C264_LSQ_45x45_updated.fits')\n",
    "\n",
    "    Ha = hdu[1].data\n",
    "    Ha_br = hdu[2].data\n",
    "    N6583 = hdu[3].data\n",
    "    N6583_br = hdu[4].data\n",
    "    S6716 = hdu[5].data\n",
    "    S6716_br = hdu[6].data\n",
    "    S6731 = hdu[7].data\n",
    "    S6731_br = hdu[8].data\n",
    "    hdu.close()\n",
    "\n",
    "plt.figure(figsize=(10,10))\n",
    "plt.imshow(Ha_br,cmap='afmhot',origin='lower')"
   ]
  },
  {
   "cell_type": "code",
   "execution_count": 13,
   "metadata": {},
   "outputs": [
    {
     "data": {
      "text/plain": [
       "<matplotlib.image.AxesImage at 0x27f4eb5fa88>"
      ]
     },
     "execution_count": 13,
     "metadata": {},
     "output_type": "execute_result"
    },
    {
     "data": {
      "image/png": "[encoded data removed]",
      "text/plain": [
       "<Figure size 720x720 with 1 Axes>"
      ]
     },
     "metadata": {
      "needs_background": "light"
     },
     "output_type": "display_data"
    }
   ],
   "source": [
    "fig=plt.figure(figsize=(10,10))\n",
    "kernel = Gaussian2DKernel(0.75)\n",
    "smoothed_data_gauss = convolve(Ha_br, kernel)  #convolving takes the bad values and smooths them to more reasonable values. \n",
    "plt.imshow(smoothed_data_gauss,cmap='afmhot',interpolation='none',origin='lower',vmin=10,vmax=250,norm=LogNorm())"
   ]
  },
  {
   "cell_type": "code",
   "execution_count": 14,
   "metadata": {},
   "outputs": [
    {
     "name": "stdout",
     "output_type": "stream",
     "text": [
      "21 20\n"
     ]
    }
   ],
   "source": [
    "(y0,x0) = ndimage.measurements.maximum_position(Ha)\n",
    "print(y0,x0)\n",
    "\n",
    "# QFitsView says: Image X = 55.672 and Image Y = 57.678"
   ]
  },
  {
   "cell_type": "code",
   "execution_count": 15,
   "metadata": {},
   "outputs": [],
   "source": [
    "hdus=[]\n",
    "hdus.append(fits.PrimaryHDU())\n",
    "hdus.append(fits.ImageHDU(err[0,:,:],name='amp_Ha'))\n",
    "hdus.append(fits.ImageHDU(err[1,:,:],name='amp_Ha_br'))\n",
    "hdus.append(fits.ImageHDU(err[2,:,:],name='amp_N6583'))\n",
    "hdus.append(fits.ImageHDU(err[3,:,:],name='amp_N6583_br'))\n",
    "hdus.append(fits.ImageHDU(err[4,:,:],name='amp_S6716'))\n",
    "hdus.append(fits.ImageHDU(err[5,:,:],name='amp_S6716_br'))\n",
    "hdus.append(fits.ImageHDU(err[6,:,:],name='amp_S6731'))\n",
    "hdus.append(fits.ImageHDU(err[7,:,:],name='amp_S6731_br'))\n",
    "hdus.append(fits.ImageHDU(err[8,:,:],name='m'))\n",
    "hdus.append(fits.ImageHDU(err[9,:,:],name='c'))\n",
    "hdu = fits.HDUList(hdus)\n",
    "\n",
    "hdu.writeto('subcube_par_3C264_err_45x45_spec_100loops.fits',overwrite=True)"
   ]
  },
  {
   "cell_type": "code",
   "execution_count": 16,
   "metadata": {},
   "outputs": [
    {
     "data": {
      "text/plain": [
       "<matplotlib.image.AxesImage at 0x27f4eebec48>"
      ]
     },
     "execution_count": 16,
     "metadata": {},
     "output_type": "execute_result"
    },
    {
     "data": {
      "image/png": "[encoded data removed]",
      "text/plain": [
       "<Figure size 720x720 with 1 Axes>"
      ]
     },
     "metadata": {
      "needs_background": "light"
     },
     "output_type": "display_data"
    }
   ],
   "source": [
    "with fits.open('subcube_par_3C264_err_45x45_spec_100loops.fits') as hdu:\n",
    "\n",
    "#hdu = fits.open('subcube_par_3C264_LSQ_45x45_updated.fits')\n",
    "\n",
    "    Ha = hdu[1].data\n",
    "    Ha_br = hdu[2].data\n",
    "    N6583 = hdu[3].data\n",
    "    N6583_br = hdu[4].data\n",
    "    S6716 = hdu[5].data\n",
    "    S6716_br = hdu[6].data\n",
    "    S6731 = hdu[7].data\n",
    "    S6731_br = hdu[8].data\n",
    "    hdu.close()\n",
    "\n",
    "plt.figure(figsize=(10,10))\n",
    "plt.imshow(Ha_br,cmap='afmhot',origin='lower')"
   ]
  },
  {
   "cell_type": "code",
   "execution_count": 12,
   "metadata": {},
   "outputs": [],
   "source": [
    "#hdu.open=('subcube_par_HE0232-0900_LSQ2.fits')\n",
    "#Hb_blr = hdu[5].data\n",
    "#OIII_nr = hdu[2].data\n",
    "#OIII_br = hdu[3].data\n",
    "#hdu.close()\n",
    "#Hb_blr_centroid = ndimage.measurements.center_of_mass(Hb_blr)\n",
    "#OIII_nr_centroid = ndimage.measurements.center_of_mass(OIII_nr)\n",
    "#OIII_br_centroid = ndimage.measurements.center_of_mass(OIII_br)\n",
    "#print('Centroid of Hb_blr is: ',Hb_blr_centroid)\n",
    "#print('Centroid of OIII_nr is: ',OIII_nr_centroid)\n",
    "#print('Centroid of OIII_br is: ',OIII_br_centroid)"
   ]
  },
  {
   "cell_type": "code",
   "execution_count": 13,
   "metadata": {},
   "outputs": [],
   "source": [
    "#outflow_size_pix = np.sqrt((OIII_br_centroid[0] -  Hb_blr_centroid[0])**2 + (OIII_br_centroid[1] -  Hb_blr_centroid[1])**2)\n",
    "#outflow_size_arc = 0.4*outflow_size_pix   \n",
    "#print(outflow_size_arc)"
   ]
  },
  {
   "cell_type": "code",
   "execution_count": 14,
   "metadata": {},
   "outputs": [],
   "source": [
    "#need distance to galaxy to find distance in parsec\n",
    "#distance = 175.5\n",
    "#outflow_size_parsec = (distance*outflow_size_arc)*4.848\n",
    "#print(outflow_size_parsec) \n",
    "#Check MOFFAT"
   ]
  },
  {
   "cell_type": "code",
   "execution_count": 17,
   "metadata": {},
   "outputs": [
    {
     "data": {
      "text/plain": [
       "<matplotlib.colorbar.Colorbar at 0x27f4ef5fd88>"
      ]
     },
     "execution_count": 17,
     "metadata": {},
     "output_type": "execute_result"
    },
    {
     "data": {
      "image/png": "[encoded data removed]",
      "text/plain": [
       "<Figure size 720x720 with 2 Axes>"
      ]
     },
     "metadata": {
      "needs_background": "light"
     },
     "output_type": "display_data"
    }
   ],
   "source": [
    "plt.figure(figsize=(10,10))\n",
    "ratio_core = par[3,:,:]/par[1,:,:]  # N6583_br/Ha_br\n",
    "ratio_wing = par[4,:,:]/par[2,:,:]  # S6716/N6583\n",
    "plt.imshow(ratio_core,vmin=0.2,vmax=10,origin='lower',cmap='afmhot')  # for SII we can get the electron density from the core. core is extended so high electron density\n",
    "plt.colorbar()\n",
    "## NII and Ha ratio gives us the extent of ionization. Ha is not ionized, while NII is. "
   ]
  },
  {
   "cell_type": "code",
   "execution_count": 48,
   "metadata": {},
   "outputs": [],
   "source": [
    "# plt.figure(figsize=(10,10))\n",
    "# smoothed_data_gauss = convolve(ratio_core, kernel)  #convolving takes the bad values and smooths them to more reasonable values. \n",
    "# plt.imshow(smoothed_data_gauss,cmap='afmhot',interpolation='none',origin='lower',vmin=0.2,vmax=10)"
   ]
  },
  {
   "cell_type": "code",
   "execution_count": 18,
   "metadata": {},
   "outputs": [
    {
     "data": {
      "text/plain": [
       "<matplotlib.image.AxesImage at 0x27f4f28c688>"
      ]
     },
     "execution_count": 18,
     "metadata": {},
     "output_type": "execute_result"
    },
    {
     "data": {
      "image/png": "[encoded data removed]",
      "text/plain": [
       "<Figure size 432x288 with 1 Axes>"
      ]
     },
     "metadata": {
      "needs_background": "light"
     },
     "output_type": "display_data"
    }
   ],
   "source": [
    "plt.imshow(ratio_wing,vmin=0.45,vmax=3)  # may be a pointlike outflow. If it was extended, we would see high electron density"
   ]
  },
  {
   "cell_type": "code",
   "execution_count": 50,
   "metadata": {},
   "outputs": [],
   "source": [
    "# def BIC(data,model,n_free_par):\n",
    "#     N = len(data)\n",
    "#     BIC=stats.chisquare(data,model)[0] +n_free_par*(np.log(N) - np.log(2*np.pi))\n",
    "#     return BIC"
   ]
  }
 ],
 "metadata": {
  "kernelspec": {
   "display_name": "Python 3",
   "language": "python",
   "name": "python3"
  },
  "language_info": {
   "codemirror_mode": {
    "name": "ipython",
    "version": 3
   },
   "file_extension": ".py",
   "mimetype": "text/x-python",
   "name": "python",
   "nbconvert_exporter": "python",
   "pygments_lexer": "ipython3",
   "version": "3.7.7"
  }
 },
 "nbformat": 4,
 "nbformat_minor": 4
}

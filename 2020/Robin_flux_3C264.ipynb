{
 "cells": [
  {
   "cell_type": "code",
   "execution_count": 1,
   "metadata": {},
   "outputs": [],
   "source": [
    "import astropy.io.fits as fits\n",
    "import numpy as np\n",
    "import matplotlib.pyplot as plt\n",
    "from scipy.optimize import curve_fit\n",
    "from scipy import asarray as ar,exp\n",
    "from scipy import ndimage\n",
    "import random\n",
    "from scipy.optimize import leastsq\n",
    "from scipy import ndimage\n",
    "from scipy.optimize import least_squares"
   ]
  },
  {
   "cell_type": "code",
   "execution_count": 2,
   "metadata": {},
   "outputs": [
    {
     "name": "stdout",
     "output_type": "stream",
     "text": [
      "57 57\n"
     ]
    }
   ],
   "source": [
    "hdu = fits.open('3C264-1s-hanii-STARSUB.fits')\n",
    "qso_data = hdu[1].data\n",
    "qso_error = hdu[2].data\n",
    "qso_header = hdu[1].header\n",
    "wavestart = qso_header['CRVAL3']\n",
    "wavint = qso_header['CD3_3']\n",
    "wave = wavestart+np.arange(qso_data.shape[0])*wavint#. This is the same as the one below.\n",
    "qso_data[np.isnan(qso_data)] = 0.0000001\n",
    "qso_error[np.isnan(qso_error)] = 0.000001\n",
    "(central_y,central_x) = ndimage.measurements.maximum_position(qso_data[1584,:,:])\n",
    "print (central_x,central_y)"
   ]
  },
  {
   "cell_type": "code",
   "execution_count": 3,
   "metadata": {},
   "outputs": [],
   "source": [
    "mini_cube = qso_data[:,central_y - 22:central_y + 23,central_x - 22:central_x + 23]\n",
    "mini_cube_error = qso_error[:,central_y - 22:central_y + 23,central_x - 22:central_x + 23]\n",
    "qso_header['CRPIX1'] = qso_header['CRPIX1'] - (central_x - 22)\n",
    "qso_header['CRPIX2'] = qso_header['CRPIX2'] - (central_y - 22)\n",
    "new_hdu = fits.HDUList([fits.PrimaryHDU(mini_cube),fits.ImageHDU(mini_cube_error)])\n",
    "new_hdu[0].header = qso_header\n",
    "wave = np.arange(wavestart,(wavestart+(wavint*mini_cube.shape[0])),wavint)"
   ]
  },
  {
   "cell_type": "code",
   "execution_count": 4,
   "metadata": {},
   "outputs": [],
   "source": [
    "def redshift(vel):\n",
    "    return vel/300000.0\n",
    "\n",
    "def line_width(vel_sigma,rest_line,inst_res_fwhm):\n",
    "    sigma = vel_sigma/(300000.0-vel_sigma)*rest_line\n",
    "    return np.sqrt(sigma**2+(inst_res_fwhm/2.354)**2)\n",
    "\n",
    "def gauss(wave,amplitude,vel,vel_sigma, rest_wave,inst_res_fwhm):\n",
    "    line = (amplitude)*exp(-(wave-(rest_wave*(1+redshift(vel))))**2/(2*(line_width(vel_sigma, rest_wave,inst_res_fwhm))**2))\n",
    "    return line\n",
    "\n",
    "def Ha_gauss(wave,amp_Ha,vel,vel_sigma):\n",
    "    Ha = gauss(wave,amp_Ha,vel,vel_sigma,6562.85,2.5)\n",
    "    return Ha\n",
    "\n",
    "def NII_doublet_gauss(wave,amp_N6583,vel,vel_sigma):\n",
    "    N_6548 = 0.33*gauss(wave,amp_N6583,vel,vel_sigma,6548.05,2.5)\n",
    "    N_6583 = gauss(wave,amp_N6583,vel,vel_sigma,6583.45,2.5)\n",
    "    return N_6548+N_6583\n",
    "\n",
    "def SII_doublet_gauss(wave,amp_S6716,amp_S6731,vel,vel_sigma):\n",
    "    S_6716 = gauss(wave,amp_S6716,vel,vel_sigma,6716.44,2.5)\n",
    "    S_6731 = gauss(wave,amp_S6731,vel,vel_sigma,6730.82,2.5)\n",
    "    return S_6716+S_6731\n",
    "\n",
    "def full_gauss(p,wave,data,error):   \n",
    "    (amp_Ha,amp_Ha_br,amp_N6583,amp_N6583_br,amp_S6716,amp_S6716_br,amp_S6731,amp_S6731_br,vel_core,vel_core_sigma,vel_wing, vel_wing_sigma,m,c) = p\n",
    "    narrow_Ha = Ha_gauss(wave,amp_Ha,vel_core,vel_core_sigma)\n",
    "    broad_Ha = Ha_gauss(wave,amp_Ha_br,vel_wing,vel_wing_sigma)\n",
    "    narrow_NII = NII_doublet_gauss(wave,amp_N6583,vel_core,vel_core_sigma)\n",
    "    broad_NII = NII_doublet_gauss(wave,amp_N6583_br,vel_wing,vel_wing_sigma)\n",
    "    narrow_SII = SII_doublet_gauss(wave,amp_S6716,amp_S6731,vel_core,vel_core_sigma)\n",
    "    broad_SII = SII_doublet_gauss(wave,amp_S6716_br,amp_S6731_br,vel_wing,vel_wing_sigma)\n",
    "    cont = (wave/1000.0)*m+c\n",
    "    return (narrow_Ha+broad_Ha+narrow_NII+broad_NII+narrow_SII+broad_SII+cont-data)/error"
   ]
  },
  {
   "cell_type": "code",
   "execution_count": 5,
   "metadata": {},
   "outputs": [],
   "source": [
    "z =0.02172\n",
    "k = 1+z\n",
    "c = 300000\n",
    "central_vel = c*z\n",
    "wave = wave\n",
    "mini_data = mini_cube\n",
    "mini_error = mini_cube_error\n",
    "\n",
    " \n",
    "select = (wave > 6400*k) & (wave < 6800*k)\n",
    "par = np.zeros((14,mini_data.shape[1],mini_data.shape[2]),dtype=np.float32)\n",
    "err = np.zeros((14,mini_data.shape[1],mini_data.shape[2]),dtype=np.float32)\n",
    "fitted = np.zeros((np.shape(wave[select])[0],mini_data.shape[1],mini_data.shape[2]),dtype=np.float32)\n",
    "residuals = np.zeros((np.shape(wave[select])[0],mini_data.shape[1],mini_data.shape[2]),dtype=np.float32)\n",
    "\n"
   ]
  },
  {
   "cell_type": "code",
   "execution_count": 6,
   "metadata": {},
   "outputs": [
    {
     "name": "stderr",
     "output_type": "stream",
     "text": [
      "D:\\Anaconda\\lib\\site-packages\\ipykernel_launcher.py:9: DeprecationWarning: scipy.exp is deprecated and will be removed in SciPy 2.0.0, use numpy.exp instead\n",
      "  if __name__ == '__main__':\n"
     ]
    }
   ],
   "source": [
    "for i in range(mini_data.shape[1]):\n",
    "    for j in range(mini_data.shape[2]):\n",
    "        x = wave[select]   \n",
    "        y = mini_data[:,i,j][select]\n",
    "        y_err = mini_error[:,i,j][select]\n",
    "       \n",
    "        lower_bounds = [0,0,0,0,0,0,0,0,central_vel - 1000,0,central_vel - 1000,0,-np.inf,-np.inf]\n",
    "        upper_bounds = [np.inf,np.inf,np.inf,np.inf,np.inf,np.inf,np.inf,np.inf,central_vel + 1000,300,central_vel + 1000,1000,np.inf,np.inf]\n",
    "        bounds_p_init = (lower_bounds,upper_bounds)\n",
    "\n",
    "        try:\n",
    "            result = least_squares(full_gauss,x0=[300,30,100,10,10,1,10,1,6516,100,6416,200,0,2],bounds=bounds_p_init,args = (x,y,y_err),max_nfev=10000000)\n",
    "            popt1 = result['x'] \n",
    "\n",
    "        except RuntimeError or RuntimeWarning:\n",
    "            popt1 = [1e-5,1e-5,1e-5,1e-5,1e-5,1e-5,1e-5,1e-5,central_vel,1e-5,central_vel,1e-5,0.0001,0.01]\n",
    "        \n",
    "        par[:,i,j] = popt1"
   ]
  },
  {
   "cell_type": "code",
   "execution_count": 7,
   "metadata": {},
   "outputs": [],
   "source": [
    "hdus=[]\n",
    "hdus.append(fits.PrimaryHDU())\n",
    "hdus.append(fits.ImageHDU(par[0,:,:],name='amp_Ha'))\n",
    "hdus.append(fits.ImageHDU(par[1,:,:],name='amp_Ha_br'))\n",
    "hdus.append(fits.ImageHDU(par[2,:,:],name='amp_N6583'))\n",
    "hdus.append(fits.ImageHDU(par[3,:,:],name='amp_N6583_br'))\n",
    "hdus.append(fits.ImageHDU(par[4,:,:],name='amp_S6716'))\n",
    "hdus.append(fits.ImageHDU(par[5,:,:],name='amp_S6716_br'))\n",
    "hdus.append(fits.ImageHDU(par[6,:,:],name='amp_S6731'))\n",
    "hdus.append(fits.ImageHDU(par[7,:,:],name='amp_S6731_br'))\n",
    "hdus.append(fits.ImageHDU(par[8,:,:],name='vel_core'))\n",
    "hdus.append(fits.ImageHDU(par[9,:,:],name='vel_core_sigma'))\n",
    "hdus.append(fits.ImageHDU(par[10,:,:],name='vel_wing'))\n",
    "hdus.append(fits.ImageHDU(par[11,:,:],name='vel_wing_sigma'))\n",
    "hdus.append(fits.ImageHDU(par[12,:,:],name='m'))\n",
    "hdus.append(fits.ImageHDU(par[13,:,:],name='c'))\n",
    "hdu = fits.HDUList(hdus)\n",
    "\n",
    "hdu.writeto('test.fits',overwrite=True)"
   ]
  },
  {
   "cell_type": "code",
   "execution_count": null,
   "metadata": {},
   "outputs": [],
   "source": []
  }
 ],
 "metadata": {
  "kernelspec": {
   "display_name": "Python 3",
   "language": "python",
   "name": "python3"
  },
  "language_info": {
   "codemirror_mode": {
    "name": "ipython",
    "version": 3
   },
   "file_extension": ".py",
   "mimetype": "text/x-python",
   "name": "python",
   "nbconvert_exporter": "python",
   "pygments_lexer": "ipython3",
   "version": "3.7.7"
  }
 },
 "nbformat": 4,
 "nbformat_minor": 4
}

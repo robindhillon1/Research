{
 "cells": [
  {
   "cell_type": "code",
   "execution_count": 1,
   "metadata": {},
   "outputs": [],
   "source": [
    "import astropy.io.fits as fits\n",
    "import numpy as np\n",
    "import matplotlib.pyplot as plt\n",
    "from scipy import ndimage\n",
    "from scipy.optimize import leastsq\n",
    "from scipy.optimize import least_squares\n",
    "import time\n",
    "from astropy.convolution import convolve, Gaussian2DKernel, Tophat2DKernel\n",
    "from astropy.modeling.models import Gaussian2D\n",
    "from matplotlib.colors import LogNorm\n",
    "from scipy.signal import convolve as scipy_convolve"
   ]
  },
  {
   "cell_type": "code",
   "execution_count": 8,
   "metadata": {},
   "outputs": [],
   "source": [
    "hdu = fits.open('3C264-1s-hanii-STARSUB.fits')\n",
    "qso_data = hdu[1].data\n",
    "qso_error = hdu[2].data\n",
    "qso_header = hdu[1].header\n",
    "wavestart = qso_header['CRVAL3']  # central wavelength. CDELT3 is microns per pixel. \n",
    "wavint = qso_header['CD3_3']\n",
    "#wave = wavestart+np.arange(qso_data.shape[0])*wavint. This is the same as the one below. \n",
    "#[central_x,central_y]= [57,57]#\n",
    "qso_data[np.isnan(qso_data)] = 0.0000001\n",
    "qso_error[np.isnan(qso_error)] = 0.000001\n",
    "(central_y,central_x) = ndimage.measurements.maximum_position(qso_data[1584,:,:])\n",
    "\n",
    "#hdu.info()\n",
    "#print(qso_header)  # Bunit = '10**(-20)*erg/s/cm**2/Angstrom', is the factor multiplied by the ydata"
   ]
  },
  {
   "cell_type": "code",
   "execution_count": 3,
   "metadata": {},
   "outputs": [],
   "source": [
    "mini_cube = qso_data[:,central_y - 22:central_y + 23,central_x - 22:central_x + 23]\n",
    "mini_cube_error = qso_error[:,central_y - 22:central_y + 23,central_x - 22:central_x + 23]\n",
    "qso_header['CRPIX1'] = qso_header['CRPIX1'] - (central_x - 22)\n",
    "qso_header['CRPIX2'] = qso_header['CRPIX2'] - (central_y - 22)\n",
    "new_hdu = fits.HDUList([fits.PrimaryHDU(mini_cube),fits.ImageHDU(mini_cube_error)])\n",
    "new_hdu[0].header = qso_header\n",
    "wave = np.arange(wavestart,(wavestart+(wavint*mini_cube.shape[0])),wavint)"
   ]
  },
  {
   "cell_type": "code",
   "execution_count": 4,
   "metadata": {},
   "outputs": [],
   "source": [
    "z =0.02172 \n",
    "k = 1+z\n",
    "c = 300000\n",
    "central_vel = c*z\n",
    "wave = wave\n",
    "mini_data = qso_data\n",
    "mini_error = np.sqrt(qso_error)\n",
    "#mini_data = mini_cube\n",
    "#mini_error = mini_cube_error"
   ]
  },
  {
   "cell_type": "code",
   "execution_count": 5,
   "metadata": {},
   "outputs": [],
   "source": [
    "select = (wave > 6400*k) & (wave < 6800*k)\n",
    "select2 = (wave > 6552*k) & (wave < 6572*k) \n",
    "select3 = (wave > 6750*k) & (wave < 6780*k)\n",
    "par = np.zeros((14,mini_data.shape[1],mini_data.shape[2]),dtype=np.float32)\n",
    "err = np.zeros((14,mini_data.shape[1],mini_data.shape[2]),dtype=np.float32)\n",
    "fitted = np.zeros((np.shape(wave[select])[0],mini_data.shape[1],mini_data.shape[2]),dtype=np.float32)\n",
    "residuals = np.zeros((np.shape(wave[select])[0],mini_data.shape[1],mini_data.shape[2]),dtype=np.float32)"
   ]
  },
  {
   "cell_type": "code",
   "execution_count": 6,
   "metadata": {},
   "outputs": [],
   "source": [
    "def redshift(vel):\n",
    "    return vel/300000.0\n",
    "\n",
    "def line_width(vel_sigma,rest_line,inst_res_fwhm=2.5):\n",
    "    sigma = vel_sigma/(300000.0-vel_sigma)*rest_line\n",
    "    return np.sqrt(sigma**2+(inst_res_fwhm/2.354)**2)\n",
    "\n",
    "def gauss(wave,amplitude,vel,vel_sigma, rest_wave):\n",
    "    line = (amplitude)*np.exp(-(wave-(rest_wave*(1+redshift(vel))))**2/(2*(line_width(vel_sigma, rest_wave))**2))\n",
    "    return line \n",
    "\n",
    "def Ha_gauss(wave,amp_Ha,vel,vel_sigma):\n",
    "    Ha = gauss(wave,amp_Ha,vel,vel_sigma,6562.85)\n",
    "    return Ha\n",
    "\n",
    "def NII_doublet_gauss(wave,amp_N6583,vel,vel_sigma):\n",
    "    N_6548 = 0.33*gauss(wave,amp_N6583,vel,vel_sigma,6548.05)\n",
    "    N_6583 = gauss(wave,amp_N6583,vel,vel_sigma,6583.45)\n",
    "    return N_6548+N_6583\n",
    "\n",
    "def SII_doublet_gauss(wave,amp_S6716,amp_S6731,vel,vel_sigma):\n",
    "    S_6716 = gauss(wave,amp_S6716,vel,vel_sigma,6716.44)\n",
    "    S_6731 = gauss(wave,amp_S6731,vel,vel_sigma,6731.82)\n",
    "    return S_6716+S_6731\n",
    "\n",
    "def full_gauss(p,wave,data,error):    \n",
    "    (amp_Ha,amp_Ha_br,amp_N6583,amp_N6583_br,amp_S6716,amp_S6716_br,amp_S6731,amp_S6731_br,vel_core,vel_core_sigma,vel_wing, vel_wing_sigma,m,c) = p \n",
    "    narrow_Ha = Ha_gauss(wave,amp_Ha,vel_core,vel_core_sigma)\n",
    "    broad_Ha = Ha_gauss(wave,amp_Ha_br,vel_wing,vel_wing_sigma)\n",
    "    narrow_NII = NII_doublet_gauss(wave,amp_N6583,vel_core,vel_core_sigma)\n",
    "    broad_NII = NII_doublet_gauss(wave,amp_N6583_br,vel_wing,vel_wing_sigma)\n",
    "    narrow_SII = SII_doublet_gauss(wave,amp_S6716,amp_S6731,vel_core,vel_core_sigma)\n",
    "    broad_SII = SII_doublet_gauss(wave,amp_S6716_br,amp_S6731_br,vel_wing,vel_wing_sigma)\n",
    "    cont = (wave/1000.0)*m+c\n",
    "    return (narrow_Ha+broad_Ha+narrow_NII+broad_NII+narrow_SII+broad_SII+cont-data)/error"
   ]
  },
  {
   "cell_type": "code",
   "execution_count": 7,
   "metadata": {},
   "outputs": [
    {
     "name": "stdout",
     "output_type": "stream",
     "text": [
      "Time elapsed:  5552.052725315094\n"
     ]
    }
   ],
   "source": [
    "start = time.time()\n",
    "\n",
    "for i in range(mini_data.shape[1]):\n",
    "    for j in range(mini_data.shape[2]):\n",
    "        y = mini_data[:,i,j][select]\n",
    "        y_err = mini_error[:,i,j][select]\n",
    "        x = wave[select]    \n",
    "        \n",
    "        emissData = mini_data[:,i,j][select2]\n",
    "        contData = mini_data[:,i,j][select3]\n",
    "        \n",
    "        meanFlux = np.mean(emissData)\n",
    "        noise = np.std(contData)\n",
    "        \n",
    "        SN = meanFlux/noise\n",
    "        #print(SN)\n",
    "\n",
    "        lower_bounds = [0,0,0,0,0,0,0,0,central_vel - 1000,0,central_vel - 1000,0,-np.inf,-np.inf]\n",
    "        upper_bounds = [np.inf,np.inf,np.inf,np.inf,np.inf,np.inf,np.inf,np.inf,central_vel + 1000,300,central_vel + 1000,1000,np.inf,np.inf]\n",
    "        bounds_p_init = (lower_bounds,upper_bounds) \n",
    "        \n",
    "        #popt1,pcov1 = leastsq(full_gauss,x0=[850,80,856,640,195,87,176,140,6,103,11,340,-3,18],args = (x,y,y_err),maxfev=10000000)\n",
    "              \n",
    "#         try:\n",
    "#             result = least_squares(full_gauss,x0=[300,30,100,10,10,1,10,1,6516,100,6416,200,0,2],bounds=bounds_p_init,args = (x,y,y_err),max_nfev=10000000)\n",
    "#             popt1 = result['x']  \n",
    "            \n",
    "#         except RuntimeError or RuntimeWarning:\n",
    "#             popt1 = [1e-5,1e-5,1e-5,1e-5,1e-5,1e-5,1e-5,1e-5,central_vel,1e-5,central_vel,1e-5,0.0001,0.01]\n",
    "            \n",
    "        if SN >= 1:\n",
    "            result = least_squares(full_gauss,x0=[300,30,100,10,10,1,10,1,6516,100,6416,200,0,2],bounds=bounds_p_init,args = (x,y,y_err),max_nfev=10000000)\n",
    "            popt1 = result['x']\n",
    "        else:\n",
    "            popt1 = [1e-14,1e-14,1e-14,1e-14,1e-14,1e-14,1e-14,1e-14,central_vel,0,central_vel,0,0.0001,0.01]\n",
    "        \n",
    "        par[:,i,j] = popt1\n",
    "        \n",
    "        model = full_gauss(popt1,x,y,y_err)*(y_err)+y\n",
    "        fitted[:,i,j] = model\n",
    "        \n",
    "        #plt.plot(x,y)\n",
    "        #plt.plot(x,model)\n",
    "        #plt.show()\n",
    "        \n",
    "        residuals[:,i,j] = mini_data[:,i,j][select] - fitted[:,i,j]\n",
    "\n",
    "        Monte_Carlo_loops = 100  # larger the sample size, more accurate it is. \n",
    "        parameters_MC = np.zeros((len(popt1),Monte_Carlo_loops))  # for each loop, we have the fit parameters. \n",
    "        \n",
    "        for l in range(Monte_Carlo_loops):  # simulation to estimate error in spectrum. Fluctuate the data with noise. Parameters should not vary, if does, not accutae. \n",
    "            iteration_data = np.random.normal(y,y_err)  # fluctuations to create gaussian distribution of parameters. std can be used to find error. \n",
    "            if SN >= 1:\n",
    "                result_MC = least_squares(full_gauss,x0=[300,30,100,10,10,1,10,1,6516,100,6416,200,0,2],bounds=bounds_p_init,args = (x,iteration_data,y_err),max_nfev=10000000)\n",
    "                popt_MC = result_MC['x']\n",
    "            else:\n",
    "                popt_MC = [1e-14,1e-14,1e-14,1e-14,1e-14,1e-14,1e-14,1e-14,central_vel,0,central_vel,0,0.0001,0.01]\n",
    "#             try:\n",
    "#                 result_MC = least_squares(full_gauss,x0=[300,30,100,10,10,1,10,1,6516,100,6416,200,0,2],args = (x,iteration_data,y_err),max_nfev=10000000)\n",
    "#                 popt_MC = result_MC['x']\n",
    "#             except RuntimeError or RuntimeWarning:\n",
    "#                 popt_MC = [1e-5,1e-5,1e-5,1e-5,1e-5,1e-5,1e-5,1e-5,central_vel,1e-5,central_vel,1e-5,0.0001,0.01]\n",
    "            parameters_MC[:,l]=popt_MC\n",
    "            \n",
    "        parameters_err = np.nanstd(parameters_MC,1)\n",
    "        err[:,i,j]=parameters_err\n",
    "        \n",
    "\n",
    "print(\"Time elapsed: \", str(time.time() - start))"
   ]
  },
  {
   "cell_type": "code",
   "execution_count": 8,
   "metadata": {},
   "outputs": [],
   "source": [
    "hdus=[]\n",
    "hdus.append(fits.PrimaryHDU())\n",
    "hdus.append(fits.ImageHDU(par[0,:,:],name='amp_Ha'))\n",
    "hdus.append(fits.ImageHDU(par[1,:,:],name='amp_Ha_br'))\n",
    "hdus.append(fits.ImageHDU(par[2,:,:],name='amp_N6583'))\n",
    "hdus.append(fits.ImageHDU(par[3,:,:],name='amp_N6583_br'))\n",
    "hdus.append(fits.ImageHDU(par[4,:,:],name='amp_S6716'))\n",
    "hdus.append(fits.ImageHDU(par[5,:,:],name='amp_S6716_br'))\n",
    "hdus.append(fits.ImageHDU(par[6,:,:],name='amp_S6731'))\n",
    "hdus.append(fits.ImageHDU(par[7,:,:],name='amp_S6731_br'))\n",
    "hdus.append(fits.ImageHDU(par[8,:,:],name='vel_core'))\n",
    "hdus.append(fits.ImageHDU(par[9,:,:],name='vel_core_sigma'))\n",
    "hdus.append(fits.ImageHDU(par[10,:,:],name='vel_wing'))\n",
    "hdus.append(fits.ImageHDU(par[11,:,:],name='vel_wing_sigma'))\n",
    "hdus.append(fits.ImageHDU(par[12,:,:],name='m'))\n",
    "hdus.append(fits.ImageHDU(par[13,:,:],name='c'))\n",
    "hdu = fits.HDUList(hdus)\n",
    "\n",
    "hdu.writeto('subcube_par_3C264_LSQ_121x121_SN.fits',overwrite=True)"
   ]
  },
  {
   "cell_type": "code",
   "execution_count": 9,
   "metadata": {},
   "outputs": [
    {
     "data": {
      "text/plain": [
       "<matplotlib.image.AxesImage at 0x208a5bd9348>"
      ]
     },
     "execution_count": 9,
     "metadata": {},
     "output_type": "execute_result"
    },
    {
     "data": {
      "image/png": "[encoded data removed]",
      "text/plain": [
       "<Figure size 720x720 with 1 Axes>"
      ]
     },
     "metadata": {
      "needs_background": "light"
     },
     "output_type": "display_data"
    }
   ],
   "source": [
    "with fits.open('subcube_par_3C264_LSQ_121x121_SN.fits') as hdu:\n",
    "\n",
    "#hdu = fits.open('subcube_par_3C264_LSQ_45x45_updated.fits')\n",
    "\n",
    "    Ha = hdu[1].data\n",
    "    Ha_br = hdu[2].data\n",
    "    N6583 = hdu[3].data\n",
    "    N6583_br = hdu[4].data\n",
    "    S6716 = hdu[5].data\n",
    "    S6716_br = hdu[6].data\n",
    "    S6731 = hdu[7].data\n",
    "    S6731_br = hdu[8].data\n",
    "    vel_core = hdu[9].data\n",
    "    vel_core_sigma = hdu[10].data\n",
    "    vel_wing = hdu[11].data\n",
    "    vel_wing_sigma = hdu[12].data\n",
    "    hdu.close()\n",
    "\n",
    "plt.figure(figsize=(10,10))\n",
    "plt.imshow(Ha_br,cmap='afmhot',origin='lower')"
   ]
  },
  {
   "cell_type": "code",
   "execution_count": 10,
   "metadata": {},
   "outputs": [
    {
     "data": {
      "text/plain": [
       "<matplotlib.image.AxesImage at 0x208bdd57f08>"
      ]
     },
     "execution_count": 10,
     "metadata": {},
     "output_type": "execute_result"
    },
    {
     "data": {
      "image/png": "[encoded data removed]",
      "text/plain": [
       "<Figure size 720x720 with 1 Axes>"
      ]
     },
     "metadata": {
      "needs_background": "light"
     },
     "output_type": "display_data"
    }
   ],
   "source": [
    "fig=plt.figure(figsize=(10,10))\n",
    "kernel = Gaussian2DKernel(0.75)\n",
    "smoothed_data_gauss = convolve(Ha_br, kernel)  #convolving takes the bad values and smooths them to more reasonable values. \n",
    "plt.imshow(smoothed_data_gauss,cmap='afmhot',interpolation='none',origin='lower',vmin=10,vmax=250,norm=LogNorm())"
   ]
  },
  {
   "cell_type": "code",
   "execution_count": 11,
   "metadata": {},
   "outputs": [
    {
     "name": "stdout",
     "output_type": "stream",
     "text": [
      "57 53\n"
     ]
    }
   ],
   "source": [
    "(y0,x0) = ndimage.measurements.maximum_position(Ha)\n",
    "print(y0,x0)\n",
    "\n",
    "# QFitsView says: Image X = 55.672 and Image Y = 57.678"
   ]
  },
  {
   "cell_type": "code",
   "execution_count": 12,
   "metadata": {},
   "outputs": [],
   "source": [
    "hdus=[]\n",
    "hdus.append(fits.PrimaryHDU())\n",
    "hdus.append(fits.ImageHDU(err[0,:,:],name='amp_Ha_err'))\n",
    "hdus.append(fits.ImageHDU(err[1,:,:],name='amp_Ha_br_err'))\n",
    "hdus.append(fits.ImageHDU(err[2,:,:],name='amp_N6583_err'))\n",
    "hdus.append(fits.ImageHDU(err[3,:,:],name='amp_N6583_br_err'))\n",
    "hdus.append(fits.ImageHDU(err[4,:,:],name='amp_S6716_err'))\n",
    "hdus.append(fits.ImageHDU(err[5,:,:],name='amp_S6716_br_err'))\n",
    "hdus.append(fits.ImageHDU(err[6,:,:],name='amp_S6731_err'))\n",
    "hdus.append(fits.ImageHDU(err[7,:,:],name='amp_S6731_br_err'))\n",
    "hdus.append(fits.ImageHDU(err[8,:,:],name='vel_core_err'))\n",
    "hdus.append(fits.ImageHDU(err[9,:,:],name='vel_core_sigma_err'))\n",
    "hdus.append(fits.ImageHDU(err[10,:,:],name='vel_wing_err'))\n",
    "hdus.append(fits.ImageHDU(err[11,:,:],name='vel_wing_sigma_err'))\n",
    "hdus.append(fits.ImageHDU(err[12,:,:],name='m_err'))\n",
    "hdus.append(fits.ImageHDU(err[13,:,:],name='c_err'))\n",
    "hdu = fits.HDUList(hdus)\n",
    "\n",
    "hdu.writeto('subcube_par_3C264_err_LSQ_121x121_SN_100loops.fits',overwrite=True)"
   ]
  },
  {
   "cell_type": "code",
   "execution_count": 13,
   "metadata": {},
   "outputs": [
    {
     "data": {
      "text/plain": [
       "<matplotlib.image.AxesImage at 0x208bddb0ac8>"
      ]
     },
     "execution_count": 13,
     "metadata": {},
     "output_type": "execute_result"
    },
    {
     "data": {
      "image/png": "[encoded data removed]",
      "text/plain": [
       "<Figure size 720x720 with 1 Axes>"
      ]
     },
     "metadata": {
      "needs_background": "light"
     },
     "output_type": "display_data"
    }
   ],
   "source": [
    "with fits.open('subcube_par_3C264_err_LSQ_121x121_SN_100loops.fits') as hdu:\n",
    "\n",
    "#hdu = fits.open('subcube_par_3C264_LSQ_45x45_updated.fits')\n",
    "\n",
    "    Ha = hdu[1].data\n",
    "    Ha_br = hdu[2].data\n",
    "    N6583 = hdu[3].data\n",
    "    N6583_br = hdu[4].data\n",
    "    S6716 = hdu[5].data\n",
    "    S6716_br = hdu[6].data\n",
    "    S6731 = hdu[7].data\n",
    "    S6731_br = hdu[8].data\n",
    "    vel_core = hdu[9].data\n",
    "    vel_core_sigma = hdu[10].data\n",
    "    vel_wing = hdu[11].data\n",
    "    vel_wing_sigma = hdu[12].data\n",
    "    hdu.close()\n",
    "\n",
    "plt.figure(figsize=(10,10))\n",
    "plt.imshow(Ha_br,cmap='afmhot',origin='lower')\n",
    "\n",
    "#similar shape to the flux maps, so our analysis was accurate. should look similar but with less SN ratio. fluctuations would be \n",
    "#more random. "
   ]
  },
  {
   "cell_type": "code",
   "execution_count": 14,
   "metadata": {},
   "outputs": [],
   "source": [
    "amp_Ha = par[0,:,:].ravel()\n",
    "amp_Ha_br = par[1,:,:].ravel()\n",
    "amp_N6583 = par[2,:,:].ravel()\n",
    "amp_N6583_br = par[3,:,:].ravel()\n",
    "amp_S6716 = par[4,:,:].ravel()\n",
    "amp_S6716_br = par[5,:,:].ravel()\n",
    "amp_S6731 = par[6,:,:].ravel()\n",
    "amp_S6731_br = par[7,:,:].ravel()\n",
    "vel_core = par[8,:,:].ravel()\n",
    "vel_core_sigma = par[9,:,:].ravel()\n",
    "vel_wing = par[10,:,:].ravel()\n",
    "vel_wing_sigma = par[11,:,:].ravel()\n",
    "m = par[12,:,:].ravel()\n",
    "c = par[13,:,:].ravel()\n",
    "\n",
    "amp_Ha_err = err[0,:,:].ravel()\n",
    "amp_Ha_br_err = err[1,:,:].ravel()\n",
    "amp_N6583_err = err[2,:,:].ravel()\n",
    "amp_N6583_br_err = err[3,:,:].ravel()\n",
    "amp_S6716_err = err[4,:,:].ravel()\n",
    "amp_S6716_br_err = err[5,:,:].ravel()\n",
    "amp_S6731_err = err[6,:,:].ravel()\n",
    "amp_S6731_br_err = err[7,:,:].ravel()\n",
    "vel_core_err = err[8,:,:].ravel()\n",
    "vel_core_sigma_err = err[9,:,:].ravel()\n",
    "vel_wing_err = err[10,:,:].ravel()\n",
    "vel_wing_sigma_err = err[11,:,:].ravel()\n",
    "m_err = err[12,:,:].ravel()\n",
    "c_err = err[13,:,:].ravel()"
   ]
  },
  {
   "cell_type": "code",
   "execution_count": 15,
   "metadata": {},
   "outputs": [],
   "source": [
    "c3 = fits.Column(name='amp_Ha', array=amp_Ha, format='E')\n",
    "c4 = fits.Column(name='amp_Ha_err', array=amp_Ha_err, format='E')\n",
    "c5 = fits.Column(name='amp_Ha_br', array=amp_Ha_br, format='E')\n",
    "c6 = fits.Column(name='amp_Ha_br_err', array=amp_Ha_br_err, format='E')\n",
    "c7 = fits.Column(name='amp_N6583', array=amp_N6583, format='E')\n",
    "c8 = fits.Column(name='amp_N6583_err', array=amp_N6583_err, format='E')\n",
    "c9 = fits.Column(name='amp_N6583_br', array=amp_N6583_br, format='E')\n",
    "c10 = fits.Column(name='amp_N6583_br_err', array=amp_N6583_br_err, format='E')\n",
    "c11 = fits.Column(name='amp_S6716', array=amp_S6716, format='E')\n",
    "c12 = fits.Column(name='amp_S6716_err', array=amp_S6716_err, format='E')\n",
    "c13 = fits.Column(name='amp_S6716_br', array=amp_S6716_br, format='E')\n",
    "c14 = fits.Column(name='amp_S6716_br_err', array=amp_S6716_br_err, format='E')\n",
    "c15 = fits.Column(name='amp_S6731', array=amp_S6731, format='E')\n",
    "c16 = fits.Column(name='amp_S6731_err', array=amp_S6731_err, format='E')\n",
    "c17 = fits.Column(name='amp_S6731_br', array=amp_S6731_br, format='E')\n",
    "c18 = fits.Column(name='amp_S6731_br_err', array=amp_S6731_br_err, format='E')\n",
    "c19 = fits.Column(name='vel_core', array=vel_core, format='E')\n",
    "c20 = fits.Column(name='vel_core_err', array=vel_core_err, format='E')\n",
    "c21 = fits.Column(name='vel_core_sigma', array=vel_core_sigma, format='E')\n",
    "c22 = fits.Column(name='vel_core_sigma_err', array=vel_core_sigma_err, format='E')\n",
    "c23 = fits.Column(name='vel_wing', array=vel_wing, format='E')\n",
    "c24 = fits.Column(name='vel_wing_err', array=vel_wing_err, format='E')\n",
    "c25 = fits.Column(name='vel_wing_sigma', array=vel_wing_sigma, format='E')\n",
    "c26 = fits.Column(name='vel_wing_sigma_err', array=vel_wing_sigma_err, format='E')\n",
    "c27 = fits.Column(name='m', array=m, format='E')\n",
    "c28 = fits.Column(name='m_err', array=m_err, format='E')\n",
    "c29 = fits.Column(name='c', array=c, format='E')\n",
    "c30 = fits.Column(name='c_err', array=c_err, format='E')\n",
    "\n",
    "t = fits.BinTableHDU.from_columns([c3, c4, c5, c6, c7, c8, c9, c10, c11, c12, c13, c14, c15, c16, c17, c18, c19, c20, c21, c22,c23,c24,c25,c26,c27,c28,c29,c30])\n",
    "\n",
    "t.writeto('table_3C264_extended_double_gauss.fits',overwrite=True)"
   ]
  },
  {
   "cell_type": "code",
   "execution_count": 12,
   "metadata": {},
   "outputs": [],
   "source": [
    "#hdu.open=('subcube_par_HE0232-0900_LSQ2.fits')\n",
    "#Hb_blr = hdu[5].data\n",
    "#OIII_nr = hdu[2].data\n",
    "#OIII_br = hdu[3].data\n",
    "#hdu.close()\n",
    "#Hb_blr_centroid = ndimage.measurements.center_of_mass(Hb_blr)\n",
    "#OIII_nr_centroid = ndimage.measurements.center_of_mass(OIII_nr)\n",
    "#OIII_br_centroid = ndimage.measurements.center_of_mass(OIII_br)\n",
    "#print('Centroid of Hb_blr is: ',Hb_blr_centroid)\n",
    "#print('Centroid of OIII_nr is: ',OIII_nr_centroid)\n",
    "#print('Centroid of OIII_br is: ',OIII_br_centroid)"
   ]
  },
  {
   "cell_type": "code",
   "execution_count": 13,
   "metadata": {},
   "outputs": [],
   "source": [
    "#outflow_size_pix = np.sqrt((OIII_br_centroid[0] -  Hb_blr_centroid[0])**2 + (OIII_br_centroid[1] -  Hb_blr_centroid[1])**2)\n",
    "#outflow_size_arc = 0.4*outflow_size_pix   \n",
    "#print(outflow_size_arc)"
   ]
  },
  {
   "cell_type": "code",
   "execution_count": 14,
   "metadata": {},
   "outputs": [],
   "source": [
    "#need distance to galaxy to find distance in parsec\n",
    "#distance = 175.5\n",
    "#outflow_size_parsec = (distance*outflow_size_arc)*4.848\n",
    "#print(outflow_size_parsec) \n",
    "#Check MOFFAT"
   ]
  },
  {
   "cell_type": "code",
   "execution_count": 16,
   "metadata": {},
   "outputs": [
    {
     "data": {
      "text/plain": [
       "<matplotlib.colorbar.Colorbar at 0x1ea3bdff208>"
      ]
     },
     "execution_count": 16,
     "metadata": {},
     "output_type": "execute_result"
    },
    {
     "data": {
      "image/png": "[encoded data removed]",
      "text/plain": [
       "<Figure size 720x720 with 2 Axes>"
      ]
     },
     "metadata": {
      "needs_background": "light"
     },
     "output_type": "display_data"
    }
   ],
   "source": [
    "plt.figure(figsize=(10,10))\n",
    "ratio_core = par[3,:,:]/par[1,:,:]\n",
    "ratio_wing = par[4,:,:]/par[2,:,:]\n",
    "plt.imshow(ratio_core,vmin=0.2,vmax=10,origin='lower',cmap='afmhot')  # for SII we can get the electron density from the core. core is extended so high electron density\n",
    "plt.colorbar()\n",
    "## NII and Ha ratio gives us the extent of ionization. Ha is not ionized, while NII is. "
   ]
  },
  {
   "cell_type": "code",
   "execution_count": 48,
   "metadata": {},
   "outputs": [],
   "source": [
    "# plt.figure(figsize=(10,10))\n",
    "# smoothed_data_gauss = convolve(ratio_core, kernel)  #convolving takes the bad values and smooths them to more reasonable values. \n",
    "# plt.imshow(smoothed_data_gauss,cmap='afmhot',interpolation='none',origin='lower',vmin=0.2,vmax=10)"
   ]
  },
  {
   "cell_type": "code",
   "execution_count": 17,
   "metadata": {},
   "outputs": [
    {
     "data": {
      "text/plain": [
       "<matplotlib.image.AxesImage at 0x1ea3c365c48>"
      ]
     },
     "execution_count": 17,
     "metadata": {},
     "output_type": "execute_result"
    },
    {
     "data": {
      "image/png": "[encoded data removed]",
      "text/plain": [
       "<Figure size 432x288 with 1 Axes>"
      ]
     },
     "metadata": {
      "needs_background": "light"
     },
     "output_type": "display_data"
    }
   ],
   "source": [
    "plt.imshow(ratio_wing,vmin=0.45,vmax=3)  # may be a pointlike outflow. If it was extended, we would see high electron density"
   ]
  },
  {
   "cell_type": "code",
   "execution_count": 50,
   "metadata": {},
   "outputs": [],
   "source": [
    "# def BIC(data,model,n_free_par):\n",
    "#     N = len(data)\n",
    "#     BIC=stats.chisquare(data,model)[0] +n_free_par*(np.log(N) - np.log(2*np.pi))\n",
    "#     return BIC"
   ]
  },
  {
   "cell_type": "code",
   "execution_count": null,
   "metadata": {},
   "outputs": [],
   "source": [
    "# ccd pixels can't resolve faraway objects, so they're convolved. point like emission seems to be spread out. \n",
    "# accounting for geometry of imaging system, if we deconvolve to find out actual signal, we can see what the actual structure of \n",
    "# the signal. This is the PSF. "
   ]
  },
  {
   "cell_type": "code",
   "execution_count": 3,
   "metadata": {},
   "outputs": [
    {
     "data": {
      "text/plain": [
       "<matplotlib.image.AxesImage at 0x16bb92b3c48>"
      ]
     },
     "execution_count": 3,
     "metadata": {},
     "output_type": "execute_result"
    },
    {
     "data": {
      "image/png": "[encoded data removed]",
      "text/plain": [
       "<Figure size 720x720 with 1 Axes>"
      ]
     },
     "metadata": {
      "needs_background": "light"
     },
     "output_type": "display_data"
    }
   ],
   "source": [
    "with fits.open('subcube_par_3C264_LSQ_45x45_updated.fits') as hdu:\n",
    "\n",
    "#hdu = fits.open('subcube_par_3C264_LSQ_45x45_updated.fits')\n",
    "\n",
    "    Ha = hdu[1].data\n",
    "    Ha_br = hdu[2].data\n",
    "    N6583 = hdu[3].data\n",
    "    N6583_br = hdu[4].data\n",
    "    S6716 = hdu[5].data\n",
    "    S6716_br = hdu[6].data\n",
    "    S6731 = hdu[7].data\n",
    "    S6731_br = hdu[8].data\n",
    "    vel_core = hdu[9].data\n",
    "    vel_core_sigma = hdu[10].data\n",
    "    vel_wing = hdu[11].data\n",
    "    vel_wing_sigma = hdu[12].data\n",
    "    hdu.close()\n",
    "\n",
    "plt.figure(figsize=(10,10))\n",
    "plt.imshow(Ha,cmap='afmhot',origin='lower')\n",
    "\n",
    "#similar shape to the flux maps, so our analysis was accurate. should look similar but with less SN ratio. fluctuations would be \n",
    "#more random. "
   ]
  },
  {
   "cell_type": "code",
   "execution_count": 4,
   "metadata": {},
   "outputs": [
    {
     "name": "stdout",
     "output_type": "stream",
     "text": [
      "73635.39\n"
     ]
    }
   ],
   "source": [
    "fluxDen = np.sum(Ha)\n",
    "print(fluxDen)"
   ]
  },
  {
   "cell_type": "code",
   "execution_count": null,
   "metadata": {},
   "outputs": [],
   "source": []
  }
 ],
 "metadata": {
  "kernelspec": {
   "display_name": "Python 3",
   "language": "python",
   "name": "python3"
  },
  "language_info": {
   "codemirror_mode": {
    "name": "ipython",
    "version": 3
   },
   "file_extension": ".py",
   "mimetype": "text/x-python",
   "name": "python",
   "nbconvert_exporter": "python",
   "pygments_lexer": "ipython3",
   "version": "3.7.7"
  }
 },
 "nbformat": 4,
 "nbformat_minor": 4
}

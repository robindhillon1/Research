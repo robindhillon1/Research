{
 "cells": [
  {
   "cell_type": "code",
   "execution_count": 1,
   "metadata": {
    "collapsed": true
   },
   "outputs": [],
   "source": [
    "import astropy.io.fits as fits\n",
    "import numpy as np\n",
    "import matplotlib.pyplot as plt\n",
    "from scipy.optimize import curve_fit\n",
    "from scipy import asarray as ar,exp\n",
    "from scipy import ndimage\n",
    "import random\n",
    "from scipy.optimize import leastsq"
   ]
  },
  {
   "cell_type": "code",
   "execution_count": 2,
   "metadata": {
    "collapsed": true
   },
   "outputs": [],
   "source": [
    "hdu = fits.open('HE0232-0900.wo_absorption.fits')\n",
    "#hdu.info()\n",
    "qso_data = hdu[0].data\n",
    "qso_error = hdu[1].data\n",
    "qso_header = hdu[0].header\n",
    "wavestart = qso_header['CRVAL3']\n",
    "wavint = qso_header['CD3_3']\n",
    "#wave = wavestart+np.arange(qso_data.shape[0])*wavint. This is the same as the one below. \n",
    "[central_x,central_y]= [67,51]#"
   ]
  },
  {
   "cell_type": "code",
   "execution_count": 3,
   "metadata": {
    "collapsed": true
   },
   "outputs": [],
   "source": [
    "mini_cube = qso_data[:,central_y - 7:central_y + 8,central_x - 7:central_x + 8]\n",
    "mini_cube_error = qso_error[:,central_y - 7:central_y + 8,central_x - 7:central_x + 8]\n",
    "qso_header['CRPIX1'] = qso_header['CRPIX1'] - (central_x - 7)\n",
    "qso_header['CRPIX2'] = qso_header['CRPIX2'] - (central_y - 7)\n",
    "new_hdu = fits.HDUList([fits.PrimaryHDU(mini_cube),fits.ImageHDU(mini_cube_error)])\n",
    "new_hdu[0].header = qso_header\n",
    "wave = np.arange(wavestart,(wavestart+(wavint*mini_cube.shape[0])),wavint)#start,stop,step"
   ]
  },
  {
   "cell_type": "code",
   "execution_count": 4,
   "metadata": {
    "collapsed": true
   },
   "outputs": [],
   "source": [
    "z =0.043143 \n",
    "k = 1+z\n",
    "mini_data = mini_cube\n",
    "mini_error = mini_cube_error"
   ]
  },
  {
   "cell_type": "code",
   "execution_count": 5,
   "metadata": {
    "collapsed": true
   },
   "outputs": [],
   "source": [
    "select = (wave > 4750*k) & (wave < 5090*k) \n",
    "par = np.zeros((10,mini_data.shape[1],mini_data.shape[2]),dtype=np.float32) #dtype = datatype. the type of the output array\n",
    "err = np.zeros((10,mini_data.shape[1],mini_data.shape[2]),dtype=np.float32)\n",
    "fitted = np.zeros((np.shape(wave[select])[0],mini_data.shape[1],mini_data.shape[2]),dtype=np.float32)\n",
    "residuals = np.zeros((np.shape(wave[select])[0],mini_data.shape[1],mini_data.shape[2]),dtype=np.float32)"
   ]
  },
  {
   "cell_type": "code",
   "execution_count": 6,
   "metadata": {
    "collapsed": true
   },
   "outputs": [],
   "source": [
    "from profile_fitting_HE0232_0900_LSQ import *"
   ]
  },
  {
   "cell_type": "code",
   "execution_count": 7,
   "metadata": {
    "collapsed": true
   },
   "outputs": [],
   "source": [
    "for i in range(mini_data.shape[1]):\n",
    "    for j in range(mini_data.shape[2]):\n",
    "        y = mini_data[:,i,j][select]\n",
    "        y_err = mini_error[:,i,j][select]\n",
    "        x = wave[select]    \n",
    "        \n",
    "        popt1,pcov1 = leastsq(full_gauss2_fixkin,x0=[0.1,0.1,0.1,0.1,0.01,0.01,0.01,0.01,-0.7,0.001],args = (x,y,y_err,fixed_parameters),maxfev=10000000)\n",
    "        par[:,i,j] = popt1\n",
    "        model = full_gauss2_fixkin(popt1,x,y,y_err,fixed_parameters)*(y_err)+y\n",
    "        fitted[:,i,j] = model\n",
    "        \n",
    "        #plt.plot(x,y)\n",
    "        #plt.plot(x,model)\n",
    "        #plt.show()\n",
    "        \n",
    "        residuals[:,i,j] = mini_data[:,i,j][select] - fitted[:,i,j]\n",
    "\n",
    "        Monte_Carlo_loops = 5\n",
    "        parameters_MC = np.zeros((len(popt1),Monte_Carlo_loops))\n",
    "        \n",
    "        for l in range(Monte_Carlo_loops):\n",
    "            iteration_data = np.random.normal(y,y_err) \n",
    "            popt_MC,pcov_MC = leastsq(full_gauss2_fixkin,x0=popt1,args=(x,iteration_data,y_err,fixed_parameters),maxfev = 1000000)\n",
    "            parameters_MC[:,l]=popt_MC\n",
    "            \n",
    "        parameters_err = np.std(parameters_MC,1)\n",
    "        err[:,i,j]=parameters_err"
   ]
  },
  {
   "cell_type": "code",
   "execution_count": 9,
   "metadata": {},
   "outputs": [],
   "source": [
    "hdus=[]\n",
    "hdus.append(fits.PrimaryHDU())\n",
    "hdus.append(fits.ImageHDU(par[0,:,:],name='amp_Hb'))\n",
    "hdus.append(fits.ImageHDU(par[1,:,:],name='amp_OIII5007'))\n",
    "hdus.append(fits.ImageHDU(par[2,:,:],name='amp_OIII5007_br'))\n",
    "hdus.append(fits.ImageHDU(par[3,:,:],name='amp_Hb_br'))\n",
    "hdus.append(fits.ImageHDU(par[4,:,:],name='amp_Hb1'))\n",
    "hdus.append(fits.ImageHDU(par[5,:,:],name='amp_Hb2'))\n",
    "hdus.append(fits.ImageHDU(par[6,:,:],name='amp_Fe5018_1'))\n",
    "hdus.append(fits.ImageHDU(par[7,:,:],name='amp_Fe5018_2'))\n",
    "hdus.append(fits.ImageHDU(par[8,:,:],name='m'))\n",
    "hdus.append(fits.ImageHDU(par[9,:,:],name='c'))\n",
    "hdu = fits.HDUList(hdus)\n",
    "\n",
    "#s = 'subcube_par_HE12_LSQ'\n",
    "#x = random.randint(1,101)\n",
    "#s += str(x)+'.fits'\n",
    "#print(\"Filename: \"+str(s))\n",
    "#hdu.writeto(s,overwrite=True)\n",
    "hdu.writeto('subcube_par_HE0232-0900_LSQ2.fits',overwrite=True)"
   ]
  },
  {
   "cell_type": "code",
   "execution_count": 10,
   "metadata": {},
   "outputs": [],
   "source": [
    "hdus=[]\n",
    "hdus.append(fits.PrimaryHDU())\n",
    "hdus.append(fits.ImageHDU(err[0,:,:],name='amp_Hb'))\n",
    "hdus.append(fits.ImageHDU(err[1,:,:],name='amp_OIII5007'))\n",
    "hdus.append(fits.ImageHDU(err[2,:,:],name='amp_OIII5007_br'))\n",
    "hdus.append(fits.ImageHDU(err[3,:,:],name='amp_Hb_br'))\n",
    "hdus.append(fits.ImageHDU(err[4,:,:],name='amp_Hb1'))\n",
    "hdus.append(fits.ImageHDU(err[5,:,:],name='amp_Hb2'))\n",
    "hdus.append(fits.ImageHDU(err[6,:,:],name='amp_Fe5018_1'))\n",
    "hdus.append(fits.ImageHDU(err[7,:,:],name='amp_Fe5018_2'))\n",
    "hdus.append(fits.ImageHDU(err[8,:,:],name='m'))\n",
    "hdus.append(fits.ImageHDU(err[9,:,:],name='c'))\n",
    "hdu = fits.HDUList(hdus)\n",
    "\n",
    "#s = 'subcube_par_err_HE12_LSQ'\n",
    "#s += str(x)+'.fits'\n",
    "#print(\"Filename: \"+str(s))\n",
    "#hdu.writeto(s,overwrite=True)\n",
    "hdu.writeto('subcube_par_HE0232-0900_err_LSQ2.fits',overwrite=True)"
   ]
  },
  {
   "cell_type": "code",
   "execution_count": null,
   "metadata": {
    "collapsed": true
   },
   "outputs": [],
   "source": [
    "#def flux_err(obj):\n",
    "#    hdus=[]\n",
    "#    hdus.append(fits.PrimaryHDU())\n",
    "#    hdus.append(fits.ImageHDU(err[0,:,:],name='amp_Hb'))\n",
    "#    hdus.append(fits.ImageHDU(err[1,:,:],name='amp_OIII5007'))\n",
    "#    hdus.append(fits.ImageHDU(err[2,:,:],name='amp_OIII5007_br'))\n",
    "#    hdus.append(fits.ImageHDU(err[3,:,:],name='amp_Hb_br'))\n",
    "#    hdus.append(fits.ImageHDU(err[4,:,:],name='amp_Hb1'))\n",
    "#    hdus.append(fits.ImageHDU(err[5,:,:],name='amp_Hb2'))\n",
    "#    hdus.append(fits.ImageHDU(err[6,:,:],name='amp_Fe5018_1'))\n",
    "#    hdus.append(fits.ImageHDU(err[7,:,:],name='amp_Fe5018_2'))\n",
    "#    hdus.append(fits.ImageHDU(err[8,:,:],name='m'))\n",
    "#    hdus.append(fits.ImageHDU(err[9,:,:],name='c'))\n",
    "#    hdu = fits.HDUList(hdus)\n",
    "#    hdu.writeto('%s_flux_map_err.fits'%(obj),overwrite=True)"
   ]
  },
  {
   "cell_type": "code",
   "execution_count": 11,
   "metadata": {},
   "outputs": [
    {
     "name": "stdout",
     "output_type": "stream",
     "text": [
      "Centroid of Hb_blr is:  (7.2290798791987285, 7.1183973827702154)\n",
      "Centroid of OIII_nr is:  (6.9871401347227966, 7.0724545182428358)\n",
      "Centroid of OIII_br is:  (7.0285892730035044, 6.9721758560028482)\n"
     ]
    }
   ],
   "source": [
    "hdu.open=('subcube_par_HE0232-0900_LSQ2.fits')\n",
    "Hb_blr = hdu[5].data\n",
    "OIII_nr = hdu[2].data\n",
    "OIII_br = hdu[3].data\n",
    "hdu.close()\n",
    "Hb_blr_centroid = ndimage.measurements.center_of_mass(Hb_blr)\n",
    "OIII_nr_centroid = ndimage.measurements.center_of_mass(OIII_nr)\n",
    "OIII_br_centroid = ndimage.measurements.center_of_mass(OIII_br)\n",
    "print('Centroid of Hb_blr is: ',Hb_blr_centroid)\n",
    "print('Centroid of OIII_nr is: ',OIII_nr_centroid)\n",
    "print('Centroid of OIII_br is: ',OIII_br_centroid)"
   ]
  },
  {
   "cell_type": "code",
   "execution_count": 12,
   "metadata": {},
   "outputs": [
    {
     "name": "stdout",
     "output_type": "stream",
     "text": [
      "0.099259029262\n"
     ]
    }
   ],
   "source": [
    "outflow_size_pix = np.sqrt((OIII_br_centroid[0] -  Hb_blr_centroid[0])**2 + (OIII_br_centroid[1] -  Hb_blr_centroid[1])**2)\n",
    "outflow_size_arc = 0.4*outflow_size_pix   \n",
    "print(outflow_size_arc)"
   ]
  },
  {
   "cell_type": "code",
   "execution_count": 13,
   "metadata": {},
   "outputs": [
    {
     "name": "stdout",
     "output_type": "stream",
     "text": [
      "84.4519643128\n"
     ]
    }
   ],
   "source": [
    "#need distance to galaxy to find distance in parsec\n",
    "distance = 175.5\n",
    "outflow_size_parsec = (distance*outflow_size_arc)*4.848\n",
    "print(outflow_size_parsec) \n",
    "#Check MOFFAT"
   ]
  },
  {
   "cell_type": "code",
   "execution_count": null,
   "metadata": {
    "collapsed": true
   },
   "outputs": [],
   "source": []
  }
 ],
 "metadata": {
  "kernelspec": {
   "display_name": "Python 3",
   "language": "python",
   "name": "python3"
  },
  "language_info": {
   "codemirror_mode": {
    "name": "ipython",
    "version": 3
   },
   "file_extension": ".py",
   "mimetype": "text/x-python",
   "name": "python",
   "nbconvert_exporter": "python",
   "pygments_lexer": "ipython3",
   "version": "3.6.3"
  }
 },
 "nbformat": 4,
 "nbformat_minor": 2
}

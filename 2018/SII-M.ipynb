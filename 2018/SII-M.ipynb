{
 "cells": [
  {
   "cell_type": "code",
   "execution_count": 1,
   "metadata": {},
   "outputs": [],
   "source": [
    "import numpy as np\n",
    "import matplotlib.pyplot as plt\n",
    "import astropy.io.fits as fits\n",
    "from scipy.optimize import leastsq\n",
    "from scipy import ndimage\n",
    "from scipy import asarray as ar,exp"
   ]
  },
  {
   "cell_type": "code",
   "execution_count": 2,
   "metadata": {
    "collapsed": true
   },
   "outputs": [],
   "source": [
    "hdu = fits.open('HE0232-0900.wo_absorption.fits')\n",
    "#hdu.info()\n",
    "qso_data = hdu[0].data\n",
    "qso_error = hdu[1].data\n",
    "qso_header = hdu[0].header\n",
    "wavestart = qso_header['CRVAL3']\n",
    "wavint = qso_header['CD3_3']\n",
    "#wave = wavestart+np.arange(qso_data.shape[0])*wavint. This is the same as the one below. \n",
    "[central_x,central_y]= [67,51]#"
   ]
  },
  {
   "cell_type": "code",
   "execution_count": 3,
   "metadata": {
    "collapsed": true
   },
   "outputs": [],
   "source": [
    "z = 0.043143\n",
    "k = 1+z"
   ]
  },
  {
   "cell_type": "code",
   "execution_count": 4,
   "metadata": {
    "collapsed": true
   },
   "outputs": [],
   "source": [
    "wave = np.arange(wavestart,(wavestart+(wavint*qso_data.shape[0])),wavint)#start,stop,step\n",
    "select =(wave>6370*k)&(wave<6790*k)"
   ]
  },
  {
   "cell_type": "code",
   "execution_count": 5,
   "metadata": {
    "collapsed": true
   },
   "outputs": [],
   "source": [
    "y = qso_data[:,51,67][select]\n",
    "x = wave[select]\n",
    "y_err = qso_error[:,51,67][select]"
   ]
  },
  {
   "cell_type": "code",
   "execution_count": 6,
   "metadata": {},
   "outputs": [
    {
     "data": {
      "image/png": "[encoded data removed]",
      "text/plain": [
       "<matplotlib.figure.Figure at 0x28ddac2a8d0>"
      ]
     },
     "metadata": {},
     "output_type": "display_data"
    }
   ],
   "source": [
    "plt.plot(x,y)\n",
    "plt.show()"
   ]
  },
  {
   "cell_type": "code",
   "execution_count": 7,
   "metadata": {
    "collapsed": true
   },
   "outputs": [],
   "source": [
    "#6529.03=NI\n",
    "#6549.86=NII\n",
    "#6564.61=Hα\n",
    "#6585.27=NII\n",
    "#6718.29=SII\n",
    "#6732.67=SII#If we doublet, they're coupled(the velocity and velocity dispersion).\n",
    "#[NII] and [SII] got blue wing"
   ]
  },
  {
   "cell_type": "code",
   "execution_count": 8,
   "metadata": {
    "collapsed": true
   },
   "outputs": [],
   "source": [
    "def redshift(vel):\n",
    "    return vel/300000.0\n",
    "\n",
    "def line_width(vel_sigma,rest_line,inst_res_fwhm=2.4):\n",
    "    sigma = vel_sigma/(300000.0-vel_sigma)*rest_line\n",
    "    return np.sqrt(sigma**2+(inst_res_fwhm/2.354)**2)\n",
    "\n",
    "def gauss(wave,amplitude,vel,vel_sigma, rest_wave):\n",
    "    line = (amplitude)*exp(-(wave-(rest_wave*(1+redshift(vel))))**2/(2*(line_width(vel_sigma, rest_wave))**2))\n",
    "    return line \n",
    "\n",
    "def SII_doublet_gauss(wave,amp_SII6716,amp_SII6731,vel,vel_sigma):\n",
    "    SII_6716 = gauss(wave,amp_SII6716,vel,vel_sigma,6716)\n",
    "    SII_6731 = gauss(wave,amp_SII6731,vel,vel_sigma,6731)\n",
    "    return SII_6716+SII_6731\n",
    "\n",
    "def NII_doublet_gauss(wave,amp_NII6583,vel,vel_sigma):\n",
    "    NII_6548 = 0.33*gauss(wave,amp_NII6583,vel,vel_sigma,6548)\n",
    "    NII_6583 = gauss(wave,amp_NII6583,vel,vel_sigma,6583)\n",
    "    return NII_6548+NII_6583\n",
    "\n",
    "def NI_gauss(wave,amp_NI6529,vel,vel_sigma):\n",
    "    NI_6529 = gauss(wave,amp_NI6529,vel,vel_sigma,6529)\n",
    "    return NI_6529\n",
    "\n",
    "def Ha_gauss(wave,amp_Ha,vel,vel_sigma):\n",
    "    Ha = gauss(wave,amp_Ha,vel,vel_sigma,6562.8)\n",
    "    return Ha"
   ]
  },
  {
   "cell_type": "code",
   "execution_count": 9,
   "metadata": {
    "collapsed": true
   },
   "outputs": [],
   "source": [
    "def full_gauss_complex(p,wave,data,error):\n",
    "    (amp_NI6529,vel_NI6529,vel_sigma_NI6529,amp_Ha,vel_Ha,vel_sigma_Ha,amp_NII6583,vel_NII6583,vel_sigma_NII6583,amp_NII6583_br,vel_NII6583_br,vel_sigma_NII6583_br,amp_SII6716,amp_SII6731,vel_SII6731,vel_sigma_SII6731,amp_SII6716_br,amp_SII6731_br,vel_SII6731_br,vel_sigma_SII6731_br,m,c)=p\n",
    "    NI = NI_gauss(wave,amp_NI6529,vel_NI6529,vel_sigma_NI6529)\n",
    "    Ha = Ha_gauss(wave,amp_Ha,vel_Ha,vel_sigma_Ha)\n",
    "    narrow_NII = NII_doublet_gauss(wave,amp_NII6583,vel_NII6583,vel_sigma_NII6583)\n",
    "    broad_NII = NII_doublet_gauss(wave,amp_NII6583_br,vel_NII6583_br,vel_sigma_NII6583_br)\n",
    "    broad_NII = 0\n",
    "    narrow_SII = SII_doublet_gauss(wave,amp_SII6716,amp_SII6731,vel_SII6731,vel_sigma_SII6731)\n",
    "    broad_SII = SII_doublet_gauss(wave,amp_SII6716_br,amp_SII6731_br,vel_SII6731_br,vel_sigma_SII6731_br) \n",
    "    broad_SII = 0\n",
    "    cont = (wave/1000.0)*m+c\n",
    "    return (NI+Ha+narrow_NII+broad_NII+narrow_SII+broad_SII+cont-data)/error\n"
   ]
  },
  {
   "cell_type": "code",
   "execution_count": 10,
   "metadata": {
    "collapsed": true
   },
   "outputs": [],
   "source": [
    "p_init=(0.1,12942,10,23,12942,2000,12,12942,40,0.2,12742,40,1,1,12942,20,0.5,0.5,12742,20,-0.1,0.7)\n"
   ]
  },
  {
   "cell_type": "code",
   "execution_count": 11,
   "metadata": {},
   "outputs": [
    {
     "name": "stdout",
     "output_type": "stream",
     "text": [
      "[  1.45249645e+00   9.44309475e+03   1.23976187e+03   2.97052252e+01\n",
      "   1.29968022e+04   1.96777825e+03   4.42397019e+00   1.28846374e+04\n",
      "   7.16014160e+01   2.00000000e-01   1.27420000e+04   4.00000000e+01\n",
      "   3.52477790e+00   3.31475777e+00   1.29311834e+04   1.68645121e+02\n",
      "   5.00000000e-01   5.00000000e-01   1.27420000e+04   2.00000000e+01\n",
      "  -2.09051616e+00   2.07831832e+01]\n"
     ]
    }
   ],
   "source": [
    "popt,pcov = leastsq(full_gauss_complex,x0=p_init,args=(x,y,y_err))\n",
    "print(popt)\n",
    "[amp_NI6529,vel_NI6529,vel_sigma_NI6529,amp_Ha,vel_Ha,vel_sigma_Ha,amp_NII6583,vel_NII6583,vel_sigma_NII6583,amp_NII6583_br,vel_NII6583_br,vel_sigma_NII6583_br,amp_SII6716,amp_SII6731,vel_SII6731,vel_sigma_SII6731,amp_SII6716_br,amp_SII6731_br,vel_SII6731_br,vel_sigma_SII6731_br,m,c] = popt\n",
    "fit = full_gauss_complex(popt,x,y,y_err)*y_err+y\n",
    "residual = y - fit"
   ]
  },
  {
   "cell_type": "code",
   "execution_count": 12,
   "metadata": {},
   "outputs": [
    {
     "data": {
      "image/png": "[encoded data removed]",
      "text/plain": [
       "<matplotlib.figure.Figure at 0x28ddcbc3ef0>"
      ]
     },
     "metadata": {},
     "output_type": "display_data"
    }
   ],
   "source": [
    "plt.plot(x,y,'ko',markersize=1.2,label='Data')\n",
    "plt.plot(x,fit,label='fit')\n",
    "plt.plot(x,residual,label='Residuals')\n",
    "#plt.plot(x,NI_gauss(x,amp_NI6529,vel_NI6529,vel_sigma_NI6529),'-g')\n",
    "#plt.plot(x,Ha_gauss(x,amp_Ha,vel_Ha,vel_sigma_Ha),'-m')\n",
    "#plt.plot(x,NII_doublet_gauss(x,amp_NII6583,vel_NII6583,vel_sigma_NII6583),'-b')\n",
    "#plt.plot(x,NII_doublet_gauss(x,amp_NII6583_br,vel_NII6583_br,vel_sigma_NII6583_br),'-k')\n",
    "#plt.plot(x,SII_doublet_gauss(x,amp_SII6716,amp_SII6731,vel_SII6731,vel_sigma_SII6731),'-c')\n",
    "#plt.plot(x,SII_doublet_gauss(x,amp_SII6716_br,amp_SII6731_br,vel_SII6731_br,vel_sigma_SII6731_br) ,'-r')\n",
    "plt.legend()\n",
    "plt.show()"
   ]
  },
  {
   "cell_type": "code",
   "execution_count": null,
   "metadata": {
    "collapsed": true
   },
   "outputs": [],
   "source": []
  }
 ],
 "metadata": {
  "kernelspec": {
   "display_name": "Python 3",
   "language": "python",
   "name": "python3"
  },
  "language_info": {
   "codemirror_mode": {
    "name": "ipython",
    "version": 3
   },
   "file_extension": ".py",
   "mimetype": "text/x-python",
   "name": "python",
   "nbconvert_exporter": "python",
   "pygments_lexer": "ipython3",
   "version": "3.6.3"
  }
 },
 "nbformat": 4,
 "nbformat_minor": 2
}

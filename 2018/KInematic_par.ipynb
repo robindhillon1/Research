{
 "cells": [
  {
   "cell_type": "code",
   "execution_count": 1,
   "metadata": {
    "collapsed": true
   },
   "outputs": [],
   "source": [
    "import numpy as np\n",
    "import astropy.io.fits as fits \n",
    "import matplotlib.pyplot as plt\n",
    "from scipy import ndimage\n",
    "import random\n",
    "from scipy.optimize import leastsq\n",
    "import astropy.units as u\n",
    "from astropy.cosmology import FlatLambdaCDM\n",
    "from muse import *"
   ]
  },
  {
   "cell_type": "code",
   "execution_count": 2,
   "metadata": {
    "collapsed": true
   },
   "outputs": [],
   "source": [
    "def flux_blr(Hb1_blr_br_data,Hb2_blr_br_data,sigma_eff_Hb1,sigma_eff_Hb2,broad2=False):\n",
    "    flux1 = np.sum(Hb1_blr_br_data)*(np.sqrt(2.*np.pi)*np.fabs(sigma_eff_Hb1))#instead of Hb1_blr, we use SII amp1,amp2. \n",
    "    flux2 = np.sum(Hb2_blr_br_data)*(np.sqrt(2.*np.pi)*np.fabs(sigma_eff_Hb2)) \n",
    "    if broad2:\n",
    "        flux = (flux1 + flux2)*(10**(-16))\n",
    "    else:\n",
    "        flux = flux1*(10**(-16)) \n",
    "    return flux\n",
    "\n",
    "def flux_nlr(Hb1_nlr_nr_data,Hb2_nlr_nr_data,sigma_eff_Hb1,sigma_eff_Hb2,broad2=False):\n",
    "    flux1 = np.sum(Hb1_nlr_nr_data)*(np.sqrt(2.*np.pi)*np.fabs(sigma_eff_Hb1))\n",
    "    flux2 = np.sum(Hb2_nlr_nr_data)*(np.sqrt(2.*np.pi)*np.fabs(sigma_eff_Hb2)) \n",
    "    if broad2:\n",
    "        flux_2 = (flux1 + flux2)*(10**(-16))\n",
    "    else:\n",
    "        flux_2 = flux1*(10**(-16)) \n",
    "    return flux_2\n",
    "\n",
    "def Hb_blr_lum(z,flux):\n",
    "    cosmo = FlatLambdaCDM(H0=70 * u.km / u.s / u.Mpc, Om0=0.3)\n",
    "    D_L = cosmo.luminosity_distance(z)\n",
    "    dist = D_L.to(u.cm)\n",
    "    Hb_lum = np.log10(4*np.pi)+2*np.log10(dist.value)+np.log10(flux)\n",
    "    return Hb_lum\n",
    "\n",
    "def Hb_nlr_lum(z,flux_2):\n",
    "    cosmo = FlatLambdaCDM(H0=70 * u.km / u.s / u.Mpc, Om0=0.3)\n",
    "    D_L = cosmo.luminosity_distance(z)\n",
    "    dist = D_L.to(u.cm)\n",
    "    Hb_lum2 = np.log10(4*np.pi)+2*np.log10(dist.value)+np.log10(flux_2)\n",
    "    return Hb_lum2\n",
    "    \n",
    "def ratio_offset_vel_line_shape(vel_offset,vel_sigma_OIII_br):\n",
    "    ratio = (vel_sigma_OIII_br/vel_offset)\n",
    "    return ratio\n",
    "\n",
    "def line_shape_par(z,wav_min,wav_max,cor_popt):\n",
    "    c = 3*(10**5)\n",
    "    wave = np.arange(wav_min,wav_max,0.02) \n",
    "    cumsum = np.cumsum(OIII_wo_cont(wave,*cor_popt))\n",
    "    norm_sum=cumsum/cumsum[-1]\n",
    "    \n",
    "    select = (norm_sum>0.1) & (norm_sum<0.9)\n",
    "    w80_spec = wave[select][-1]-wave[select][0]\n",
    "    plt.plot(wave[select],norm_sum[select],'-k',label='w80')\n",
    "    plt.xlim([wav_min+85,wav_max-85])\n",
    "    plt.ylabel('Flux Density')\n",
    "    plt.xlabel('Wavelength(Angstrom)')\n",
    "    plt.legend()\n",
    "    plt.show()\n",
    "    \n",
    "    select =  (norm_sum>0.05) & (norm_sum<0.5)\n",
    "    v5_spec = wave[select][0]-wave[select][-1]\n",
    "    plt.plot(wave[select],norm_sum[select],'-b',label='v5')\n",
    "    plt.xlim([wav_min,wav_max])\n",
    "    plt.ylabel('Flux Density')\n",
    "    plt.xlabel('Wavelength(Angstrom)')\n",
    "    plt.legend()\n",
    "    plt.show()\n",
    "    \n",
    "    [w80,v5] = [((w80_spec)/5006.8)*(c/(1+z)),((v5_spec)/5006.8)*(c/(1+z))]\n",
    "    return w80,v5\n",
    "\n",
    "def par_tab(obj,w80,v5,vel_offset,vel_sigma_OIII_br,ratio,flux,Hb_lum,flux_2,Hb_lum2):\n",
    "    par = [w80,v5,vel_offset,vel_sigma_OIII_br,ratio,flux,Hb_lum,flux_2,Hb_lum2]\n",
    "    column_names={'w80':0,'v5':1,'vel_offset':2,'vel_sigma_OIII_br':3,'ratio':4,'Hb_blr_flux':5,'log_Hb_lum':6,'Hb_nlr_flux':7,'log_Hb_lum2':8}\n",
    "    columns=[]\n",
    "    for key in column_names.keys():\n",
    "        columns.append(fits.Column(name=key,format='E',array=[par[column_names[key]]]))\n",
    "    coldefs = fits.ColDefs(columns)\n",
    "    hdu = fits.BinTableHDU.from_columns(coldefs)\n",
    "    hdu.writeto('%s_par_table.fits'%(obj),overwrite=True)      \n",
    "    "
   ]
  },
  {
   "cell_type": "code",
   "execution_count": 3,
   "metadata": {
    "collapsed": true
   },
   "outputs": [],
   "source": [
    "def algorithm_script(obj,z,broad2):\n",
    "    (amp_Hb1,amp_Hb2,vel_sigma_Hb1,vel_sigma_Hb2,amp_OIII5007,vel_OIII,vel_sigma_OIII,amp_OIII5007_br,vel_OIII_br,vel_sigma_OIII_br,vel_offset) = par(obj)\n",
    "    (Hb1_blr_br_data,Hb2_blr_br_data) = loadblr('subcube_par_%s.fits'%(obj))\n",
    "    (Hb1_nlr_nr_data,Hb2_nlr_nr_data) = loadnlr('subcube_par_%s.fits'%(obj))\n",
    "\n",
    "    sigma_eff_Hb1 = line_width_recons(vel_sigma_Hb1,rest_line=4861.33,inst_res_fwhm=0)\n",
    "    sigma_eff_Hb2 = line_width_recons(vel_sigma_Hb2,rest_line=4861.33,inst_res_fwhm=0) \n",
    "    \n",
    "    flux = flux_blr(Hb1_blr_br_data,Hb2_blr_br_data,sigma_eff_Hb1,sigma_eff_Hb2,broad2)\n",
    "    flux_2 = flux_nlr(Hb1_nlr_nr_data,Hb2_nlr_nr_data,sigma_eff_Hb1,sigma_eff_Hb2,broad2)\n",
    "    \n",
    "    Hb_lum = Hb_blr_lum(z,flux)\n",
    "    Hb_lum2 = Hb_nlr_lum(z,flux_2)\n",
    "    cor_popt = np.array([amp_OIII5007,amp_OIII5007_br,vel_OIII,vel_sigma_OIII,vel_OIII_br,vel_sigma_OIII_br])\n",
    "    \n",
    "    (wav_min,wav_max) = wavlim(vel_OIII,vel_OIII_br)\n",
    "    (w80,v5) = line_shape_par(z,wav_min,wav_max,cor_popt)\n",
    "    \n",
    "    ratio = ratio_offset_vel_line_shape(vel_offset,vel_sigma_OIII_br)\n",
    "    par_tab(obj,w80,v5,vel_offset,vel_sigma_OIII_br,ratio,flux,Hb_lum,flux_2,Hb_lum2)\n",
    "    return w80,v5"
   ]
  },
  {
   "cell_type": "code",
   "execution_count": 4,
   "metadata": {},
   "outputs": [
    {
     "ename": "KeyError",
     "evalue": "\"Key 'amp_OIII5007' does not exist.\"",
     "output_type": "error",
     "traceback": [
      "\u001b[1;31m---------------------------------------------------------------------------\u001b[0m",
      "\u001b[1;31mValueError\u001b[0m                                Traceback (most recent call last)",
      "\u001b[1;32m~\\Anaconda3\\lib\\site-packages\\astropy\\io\\fits\\column.py\u001b[0m in \u001b[0;36m_get_index\u001b[1;34m(names, key)\u001b[0m\n\u001b[0;32m   1825\u001b[0m         \u001b[1;32mtry\u001b[0m\u001b[1;33m:\u001b[0m\u001b[1;33m\u001b[0m\u001b[0m\n\u001b[1;32m-> 1826\u001b[1;33m             \u001b[0mindx\u001b[0m \u001b[1;33m=\u001b[0m \u001b[0mnames\u001b[0m\u001b[1;33m.\u001b[0m\u001b[0mindex\u001b[0m\u001b[1;33m(\u001b[0m\u001b[0mkey\u001b[0m\u001b[1;33m.\u001b[0m\u001b[0mrstrip\u001b[0m\u001b[1;33m(\u001b[0m\u001b[1;33m)\u001b[0m\u001b[1;33m)\u001b[0m\u001b[1;33m\u001b[0m\u001b[0m\n\u001b[0m\u001b[0;32m   1827\u001b[0m         \u001b[1;32mexcept\u001b[0m \u001b[0mValueError\u001b[0m\u001b[1;33m:\u001b[0m\u001b[1;33m\u001b[0m\u001b[0m\n",
      "\u001b[1;31mValueError\u001b[0m: 'amp_OIII5007' is not in list",
      "\nDuring handling of the above exception, another exception occurred:\n",
      "\u001b[1;31mKeyError\u001b[0m                                  Traceback (most recent call last)",
      "\u001b[1;32m<ipython-input-4-a564361fce82>\u001b[0m in \u001b[0;36m<module>\u001b[1;34m()\u001b[0m\n\u001b[0;32m      4\u001b[0m \u001b[0mbroad2\u001b[0m\u001b[1;33m=\u001b[0m \u001b[1;33m{\u001b[0m\u001b[1;34m'HE0232-0900'\u001b[0m\u001b[1;33m:\u001b[0m\u001b[1;32mFalse\u001b[0m\u001b[1;33m}\u001b[0m\u001b[1;33m\u001b[0m\u001b[0m\n\u001b[0;32m      5\u001b[0m \u001b[1;32mfor\u001b[0m \u001b[0mobj\u001b[0m \u001b[1;32min\u001b[0m \u001b[0mobjs\u001b[0m\u001b[1;33m:\u001b[0m\u001b[1;33m\u001b[0m\u001b[0m\n\u001b[1;32m----> 6\u001b[1;33m     \u001b[0malgorithm_script\u001b[0m\u001b[1;33m(\u001b[0m\u001b[0mobj\u001b[0m\u001b[1;33m,\u001b[0m\u001b[0mz\u001b[0m\u001b[1;33m[\u001b[0m\u001b[0mobj\u001b[0m\u001b[1;33m]\u001b[0m\u001b[1;33m,\u001b[0m\u001b[0mbroad2\u001b[0m\u001b[1;33m[\u001b[0m\u001b[0mobj\u001b[0m\u001b[1;33m]\u001b[0m\u001b[1;33m)\u001b[0m\u001b[1;33m\u001b[0m\u001b[0m\n\u001b[0m",
      "\u001b[1;32m<ipython-input-3-9a91893203a5>\u001b[0m in \u001b[0;36malgorithm_script\u001b[1;34m(obj, z, broad2)\u001b[0m\n\u001b[0;32m      1\u001b[0m \u001b[1;32mdef\u001b[0m \u001b[0malgorithm_script\u001b[0m\u001b[1;33m(\u001b[0m\u001b[0mobj\u001b[0m\u001b[1;33m,\u001b[0m\u001b[0mz\u001b[0m\u001b[1;33m,\u001b[0m\u001b[0mbroad2\u001b[0m\u001b[1;33m)\u001b[0m\u001b[1;33m:\u001b[0m\u001b[1;33m\u001b[0m\u001b[0m\n\u001b[1;32m----> 2\u001b[1;33m     \u001b[1;33m(\u001b[0m\u001b[0mamp_Hb1\u001b[0m\u001b[1;33m,\u001b[0m\u001b[0mamp_Hb2\u001b[0m\u001b[1;33m,\u001b[0m\u001b[0mvel_sigma_Hb1\u001b[0m\u001b[1;33m,\u001b[0m\u001b[0mvel_sigma_Hb2\u001b[0m\u001b[1;33m,\u001b[0m\u001b[0mamp_OIII5007\u001b[0m\u001b[1;33m,\u001b[0m\u001b[0mvel_OIII\u001b[0m\u001b[1;33m,\u001b[0m\u001b[0mvel_sigma_OIII\u001b[0m\u001b[1;33m,\u001b[0m\u001b[0mamp_OIII5007_br\u001b[0m\u001b[1;33m,\u001b[0m\u001b[0mvel_OIII_br\u001b[0m\u001b[1;33m,\u001b[0m\u001b[0mvel_sigma_OIII_br\u001b[0m\u001b[1;33m,\u001b[0m\u001b[0mvel_offset\u001b[0m\u001b[1;33m)\u001b[0m \u001b[1;33m=\u001b[0m \u001b[0mpar\u001b[0m\u001b[1;33m(\u001b[0m\u001b[0mobj\u001b[0m\u001b[1;33m)\u001b[0m\u001b[1;33m\u001b[0m\u001b[0m\n\u001b[0m\u001b[0;32m      3\u001b[0m     \u001b[1;33m(\u001b[0m\u001b[0mHb1_blr_br_data\u001b[0m\u001b[1;33m,\u001b[0m\u001b[0mHb2_blr_br_data\u001b[0m\u001b[1;33m)\u001b[0m \u001b[1;33m=\u001b[0m \u001b[0mloadblr\u001b[0m\u001b[1;33m(\u001b[0m\u001b[1;34m'subcube_par_%s.fits'\u001b[0m\u001b[1;33m%\u001b[0m\u001b[1;33m(\u001b[0m\u001b[0mobj\u001b[0m\u001b[1;33m)\u001b[0m\u001b[1;33m)\u001b[0m\u001b[1;33m\u001b[0m\u001b[0m\n\u001b[0;32m      4\u001b[0m     \u001b[1;33m(\u001b[0m\u001b[0mHb1_nlr_nr_data\u001b[0m\u001b[1;33m,\u001b[0m\u001b[0mHb2_nlr_nr_data\u001b[0m\u001b[1;33m)\u001b[0m \u001b[1;33m=\u001b[0m \u001b[0mloadnlr\u001b[0m\u001b[1;33m(\u001b[0m\u001b[1;34m'subcube_par_%s.fits'\u001b[0m\u001b[1;33m%\u001b[0m\u001b[1;33m(\u001b[0m\u001b[0mobj\u001b[0m\u001b[1;33m)\u001b[0m\u001b[1;33m)\u001b[0m\u001b[1;33m\u001b[0m\u001b[0m\n\u001b[0;32m      5\u001b[0m \u001b[1;33m\u001b[0m\u001b[0m\n",
      "\u001b[1;32m~\\Downloads\\Uni\\ResearchProject2018\\muse.py\u001b[0m in \u001b[0;36mpar\u001b[1;34m(obj)\u001b[0m\n\u001b[0;32m    300\u001b[0m     \u001b[1;33m(\u001b[0m\u001b[0mamp_Hb1\u001b[0m\u001b[1;33m,\u001b[0m\u001b[0mamp_Hb2\u001b[0m\u001b[1;33m)\u001b[0m \u001b[1;33m=\u001b[0m \u001b[1;33m(\u001b[0m\u001b[0mcentral_tab\u001b[0m\u001b[1;33m.\u001b[0m\u001b[0mfield\u001b[0m\u001b[1;33m(\u001b[0m\u001b[1;34m'amp_Hb1'\u001b[0m\u001b[1;33m)\u001b[0m\u001b[1;33m,\u001b[0m\u001b[0mcentral_tab\u001b[0m\u001b[1;33m.\u001b[0m\u001b[0mfield\u001b[0m\u001b[1;33m(\u001b[0m\u001b[1;34m'amp_Hb2'\u001b[0m\u001b[1;33m)\u001b[0m\u001b[1;33m)\u001b[0m\u001b[1;33m\u001b[0m\u001b[0m\n\u001b[0;32m    301\u001b[0m     \u001b[1;33m(\u001b[0m\u001b[0mvel_sigma_Hb1\u001b[0m\u001b[1;33m,\u001b[0m\u001b[0mvel_sigma_Hb2\u001b[0m\u001b[1;33m)\u001b[0m \u001b[1;33m=\u001b[0m \u001b[1;33m(\u001b[0m\u001b[0mcentral_tab\u001b[0m\u001b[1;33m.\u001b[0m\u001b[0mfield\u001b[0m\u001b[1;33m(\u001b[0m\u001b[1;34m'vel_sigma_Hb1'\u001b[0m\u001b[1;33m)\u001b[0m\u001b[1;33m,\u001b[0m\u001b[0mcentral_tab\u001b[0m\u001b[1;33m.\u001b[0m\u001b[0mfield\u001b[0m\u001b[1;33m(\u001b[0m\u001b[1;34m'vel_sigma_Hb2'\u001b[0m\u001b[1;33m)\u001b[0m\u001b[1;33m)\u001b[0m\u001b[1;33m\u001b[0m\u001b[0m\n\u001b[1;32m--> 302\u001b[1;33m     \u001b[1;33m(\u001b[0m\u001b[0mamp_OIII5007\u001b[0m\u001b[1;33m,\u001b[0m\u001b[0mamp_OIII5007_br\u001b[0m\u001b[1;33m)\u001b[0m \u001b[1;33m=\u001b[0m \u001b[1;33m(\u001b[0m\u001b[0mcentral_tab\u001b[0m\u001b[1;33m.\u001b[0m\u001b[0mfield\u001b[0m\u001b[1;33m(\u001b[0m\u001b[1;34m'amp_OIII5007'\u001b[0m\u001b[1;33m)\u001b[0m\u001b[1;33m,\u001b[0m\u001b[0mcentral_tab\u001b[0m\u001b[1;33m.\u001b[0m\u001b[0mfield\u001b[0m\u001b[1;33m(\u001b[0m\u001b[1;34m'amp_OIII5007_br'\u001b[0m\u001b[1;33m)\u001b[0m\u001b[1;33m)\u001b[0m\u001b[1;33m\u001b[0m\u001b[0m\n\u001b[0m\u001b[0;32m    303\u001b[0m     \u001b[1;33m(\u001b[0m\u001b[0mvel_sigma_OIII\u001b[0m\u001b[1;33m,\u001b[0m\u001b[0mvel_sigma_OIII_br\u001b[0m\u001b[1;33m)\u001b[0m \u001b[1;33m=\u001b[0m \u001b[1;33m(\u001b[0m\u001b[0mcentral_tab\u001b[0m\u001b[1;33m.\u001b[0m\u001b[0mfield\u001b[0m\u001b[1;33m(\u001b[0m\u001b[1;34m'vel_sigma_OIII'\u001b[0m\u001b[1;33m)\u001b[0m\u001b[1;33m,\u001b[0m\u001b[0mcentral_tab\u001b[0m\u001b[1;33m.\u001b[0m\u001b[0mfield\u001b[0m\u001b[1;33m(\u001b[0m\u001b[1;34m'vel_sigma_OIII_br'\u001b[0m\u001b[1;33m)\u001b[0m\u001b[1;33m)\u001b[0m\u001b[1;33m\u001b[0m\u001b[0m\n\u001b[0;32m    304\u001b[0m     \u001b[1;33m(\u001b[0m\u001b[0mvel_OIII\u001b[0m\u001b[1;33m,\u001b[0m\u001b[0mvel_OIII_br\u001b[0m\u001b[1;33m)\u001b[0m \u001b[1;33m=\u001b[0m \u001b[1;33m(\u001b[0m\u001b[0mcentral_tab\u001b[0m\u001b[1;33m.\u001b[0m\u001b[0mfield\u001b[0m\u001b[1;33m(\u001b[0m\u001b[1;34m'vel_OIII'\u001b[0m\u001b[1;33m)\u001b[0m\u001b[1;33m,\u001b[0m\u001b[0mcentral_tab\u001b[0m\u001b[1;33m.\u001b[0m\u001b[0mfield\u001b[0m\u001b[1;33m(\u001b[0m\u001b[1;34m'vel_OIII_br'\u001b[0m\u001b[1;33m)\u001b[0m\u001b[1;33m)\u001b[0m\u001b[1;33m\u001b[0m\u001b[0m\n",
      "\u001b[1;32m~\\Anaconda3\\lib\\site-packages\\astropy\\io\\fits\\fitsrec.py\u001b[0m in \u001b[0;36mfield\u001b[1;34m(self, key)\u001b[0m\n\u001b[0;32m    681\u001b[0m         \u001b[1;31m# NOTE: The *column* index may not be the same as the field index in\u001b[0m\u001b[1;33m\u001b[0m\u001b[1;33m\u001b[0m\u001b[0m\n\u001b[0;32m    682\u001b[0m         \u001b[1;31m# the recarray, if the column is a phantom column\u001b[0m\u001b[1;33m\u001b[0m\u001b[1;33m\u001b[0m\u001b[0m\n\u001b[1;32m--> 683\u001b[1;33m         \u001b[0mcolumn\u001b[0m \u001b[1;33m=\u001b[0m \u001b[0mself\u001b[0m\u001b[1;33m.\u001b[0m\u001b[0mcolumns\u001b[0m\u001b[1;33m[\u001b[0m\u001b[0mkey\u001b[0m\u001b[1;33m]\u001b[0m\u001b[1;33m\u001b[0m\u001b[0m\n\u001b[0m\u001b[0;32m    684\u001b[0m         \u001b[0mname\u001b[0m \u001b[1;33m=\u001b[0m \u001b[0mcolumn\u001b[0m\u001b[1;33m.\u001b[0m\u001b[0mname\u001b[0m\u001b[1;33m\u001b[0m\u001b[0m\n\u001b[0;32m    685\u001b[0m         \u001b[0mformat\u001b[0m \u001b[1;33m=\u001b[0m \u001b[0mcolumn\u001b[0m\u001b[1;33m.\u001b[0m\u001b[0mformat\u001b[0m\u001b[1;33m\u001b[0m\u001b[0m\n",
      "\u001b[1;32m~\\Anaconda3\\lib\\site-packages\\astropy\\io\\fits\\column.py\u001b[0m in \u001b[0;36m__getitem__\u001b[1;34m(self, key)\u001b[0m\n\u001b[0;32m   1431\u001b[0m     \u001b[1;32mdef\u001b[0m \u001b[0m__getitem__\u001b[0m\u001b[1;33m(\u001b[0m\u001b[0mself\u001b[0m\u001b[1;33m,\u001b[0m \u001b[0mkey\u001b[0m\u001b[1;33m)\u001b[0m\u001b[1;33m:\u001b[0m\u001b[1;33m\u001b[0m\u001b[0m\n\u001b[0;32m   1432\u001b[0m         \u001b[1;32mif\u001b[0m \u001b[0misinstance\u001b[0m\u001b[1;33m(\u001b[0m\u001b[0mkey\u001b[0m\u001b[1;33m,\u001b[0m \u001b[0mstring_types\u001b[0m\u001b[1;33m)\u001b[0m\u001b[1;33m:\u001b[0m\u001b[1;33m\u001b[0m\u001b[0m\n\u001b[1;32m-> 1433\u001b[1;33m             \u001b[0mkey\u001b[0m \u001b[1;33m=\u001b[0m \u001b[0m_get_index\u001b[0m\u001b[1;33m(\u001b[0m\u001b[0mself\u001b[0m\u001b[1;33m.\u001b[0m\u001b[0mnames\u001b[0m\u001b[1;33m,\u001b[0m \u001b[0mkey\u001b[0m\u001b[1;33m)\u001b[0m\u001b[1;33m\u001b[0m\u001b[0m\n\u001b[0m\u001b[0;32m   1434\u001b[0m \u001b[1;33m\u001b[0m\u001b[0m\n\u001b[0;32m   1435\u001b[0m         \u001b[0mx\u001b[0m \u001b[1;33m=\u001b[0m \u001b[0mself\u001b[0m\u001b[1;33m.\u001b[0m\u001b[0mcolumns\u001b[0m\u001b[1;33m[\u001b[0m\u001b[0mkey\u001b[0m\u001b[1;33m]\u001b[0m\u001b[1;33m\u001b[0m\u001b[0m\n",
      "\u001b[1;32m~\\Anaconda3\\lib\\site-packages\\astropy\\io\\fits\\column.py\u001b[0m in \u001b[0;36m_get_index\u001b[1;34m(names, key)\u001b[0m\n\u001b[0;32m   1833\u001b[0m                 \u001b[0mindx\u001b[0m \u001b[1;33m=\u001b[0m \u001b[0mnames\u001b[0m\u001b[1;33m.\u001b[0m\u001b[0mindex\u001b[0m\u001b[1;33m(\u001b[0m\u001b[0m_key\u001b[0m\u001b[1;33m)\u001b[0m\u001b[1;33m\u001b[0m\u001b[0m\n\u001b[0;32m   1834\u001b[0m             \u001b[1;32melif\u001b[0m \u001b[0mcount\u001b[0m \u001b[1;33m==\u001b[0m \u001b[1;36m0\u001b[0m\u001b[1;33m:\u001b[0m\u001b[1;33m\u001b[0m\u001b[0m\n\u001b[1;32m-> 1835\u001b[1;33m                 \u001b[1;32mraise\u001b[0m \u001b[0mKeyError\u001b[0m\u001b[1;33m(\u001b[0m\u001b[1;34m\"Key '{}' does not exist.\"\u001b[0m\u001b[1;33m.\u001b[0m\u001b[0mformat\u001b[0m\u001b[1;33m(\u001b[0m\u001b[0mkey\u001b[0m\u001b[1;33m)\u001b[0m\u001b[1;33m)\u001b[0m\u001b[1;33m\u001b[0m\u001b[0m\n\u001b[0m\u001b[0;32m   1836\u001b[0m             \u001b[1;32melse\u001b[0m\u001b[1;33m:\u001b[0m              \u001b[1;31m# multiple match\u001b[0m\u001b[1;33m\u001b[0m\u001b[0m\n\u001b[0;32m   1837\u001b[0m                 \u001b[1;32mraise\u001b[0m \u001b[0mKeyError\u001b[0m\u001b[1;33m(\u001b[0m\u001b[1;34m\"Ambiguous key name '{}'.\"\u001b[0m\u001b[1;33m.\u001b[0m\u001b[0mformat\u001b[0m\u001b[1;33m(\u001b[0m\u001b[0mkey\u001b[0m\u001b[1;33m)\u001b[0m\u001b[1;33m)\u001b[0m\u001b[1;33m\u001b[0m\u001b[0m\n",
      "\u001b[1;31mKeyError\u001b[0m: \"Key 'amp_OIII5007' does not exist.\""
     ]
    }
   ],
   "source": [
    "z = {\"HE0232-0900\":0.043143}\n",
    "objs = z.keys()\n",
    "\n",
    "broad2= {'HE0232-0900':False}\n",
    "for obj in objs:\n",
    "    algorithm_script(obj,z[obj],broad2[obj])"
   ]
  },
  {
   "cell_type": "code",
   "execution_count": null,
   "metadata": {},
   "outputs": [],
   "source": [
    "hdu = fits.open('%s_par_table.fits'%(obj))\n",
    "central_tab = hdu[1].data\n",
    "central_columns = hdu[1].header\n",
    "w80 = central_tab.field('w80')[0]\n",
    "print(\"W80: \",w80)\n",
    "\n",
    "vel_offset = central_tab.field('vel_offset')[0] #82.4131\n",
    "\n",
    "Hb_blr_flux = central_tab.field('Hb_blr_flux')[0] #1.07251e-12\n",
    "log_Hb_lum = central_tab.field('log_Hb_lum')[0] #42.6697\n",
    "\n",
    "Hb_nlr_flux = central_tab.field('Hb_nlr_flux')[0] \n",
    "log_Hb_lum2 = central_tab.field('log_Hb_lum2')[0] \n",
    "\n",
    "\n",
    "Hb_blr_lum = 10**log_Hb_lum\n",
    "Hb_nlr_lum = 10**log_Hb_lum2\n",
    "Hb_lum_tot = Hb_blr_lum + Hb_nlr_lum\n",
    "\n",
    "M_s = 1 #in kg = 1.989*10**30 \n",
    "n_e = 3942#reference electron density. units are particles/cm^2\n",
    "M_ionized = (10**7)*(100/n_e)*(Hb_blr_lum/10**41)*M_s \n",
    "print(\"Ionized gas mass in Solar Masses: \",M_ionized)\n",
    "print(\"Hb-blr_lum: \",Hb_blr_lum)\n",
    "\n",
    "print(\"Hb-nlr_lum: \",Hb_nlr_lum)\n",
    "print(\"Total Hb luminosity: \",Hb_lum_tot)"
   ]
  },
  {
   "cell_type": "code",
   "execution_count": null,
   "metadata": {},
   "outputs": [],
   "source": [
    "#Simple conical outflow model\n",
    "d = 1.234*10**15 #39.928 pc to km\n",
    "P_kin = (3/2)*M_ionized*(1.989*10**30)*(vel_offset**3)*(1/d)\n",
    "#M_outflow_s = 3*M_ionized*vel_offset*(1/d)\n",
    "\n",
    "\n",
    "M_outflow_yr = (3*M_ionized*vel_offset*(1/d)*31536000) #This is in Solar mass/year. In (kg/s): 3*M_ionized*vel_offset*(1/d)\n",
    "print(\"Current kinetic power (ergs/s): \",P_kin)\n",
    "\n",
    "\n",
    "#print(\"Mass outflow rate in (kg/s): \",M_outflow_s)\n",
    "print(\"Mass outflow rate in (Solar Mass/year): \",M_outflow_yr)\n",
    "momn_outflow_rate = M_outflow_yr*vel_offset\n",
    "print(\"Mometntum Outlfow Rate: \",momn_outflow_rate) #THis is just force. \n",
    "\n",
    "time = (d/vel_offset)/31536000\n",
    "print(\"Time of outflow (in years): \",time)\n",
    "\n",
    "energy = time*P_kin*31536000\n",
    "print(\"Energy of outflow(ergs)\",energy)"
   ]
  },
  {
   "cell_type": "code",
   "execution_count": null,
   "metadata": {
    "collapsed": true
   },
   "outputs": [],
   "source": [
    "#See Moffat for more accurate results. "
   ]
  }
 ],
 "metadata": {
  "kernelspec": {
   "display_name": "Python 3",
   "language": "python",
   "name": "python3"
  }
 },
 "nbformat": 4,
 "nbformat_minor": 2
}

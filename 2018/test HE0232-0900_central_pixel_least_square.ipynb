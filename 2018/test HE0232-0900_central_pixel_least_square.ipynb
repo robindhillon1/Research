{
 "cells": [
  {
   "cell_type": "code",
   "execution_count": 6,
   "metadata": {
    "collapsed": true
   },
   "outputs": [],
   "source": [
    "import numpy as np\n",
    "import matplotlib.pyplot as plt\n",
    "import astropy.io.fits as fits\n",
    "from scipy.optimize import curve_fit\n",
    "from numpy import exp\n",
    "from astropy.modeling import models, fitting\n",
    "from scipy import ndimage\n",
    "from scipy.optimize import leastsq\n",
    "from scipy.optimize import curve_fit\n",
    "from scipy import asarray as ar,exp"
   ]
  },
  {
   "cell_type": "code",
   "execution_count": 7,
   "metadata": {
    "collapsed": true
   },
   "outputs": [],
   "source": [
    "def redshift(vel):\n",
    "    return vel/300000.0\n",
    "    #This function also represent the line dispersion in A through a velocity dispersion in km/s also taking into account \n",
    "    # that the spectrograph itself already broadens the emission lines. This way you automatically fit for the intrinsic line dispersion\n",
    "def line_width(vel_sigma,rest_line,inst_res_fwhm=2.4):\n",
    "    sigma = vel_sigma/(300000.0-vel_sigma)*rest_line\n",
    "    return np.sqrt(sigma**2+(inst_res_fwhm/2.354)**2)\n",
    "\n",
    "def gauss(wave,amplitude,vel,vel_sigma, rest_wave):\n",
    "    line = (amplitude)*exp(-(wave-(rest_wave*(1+redshift(vel))))**2/(2*(line_width(vel_sigma, rest_wave))**2))\n",
    "    return line                         \n",
    "    # Here we couple the HB and OIII doublet together using the gaussian function defined before\n",
    "def Hb_O3_gauss(wave,amp_Hb,amp_OIII5007,vel,vel_sigma):\n",
    "    Hb = gauss(wave,amp_Hb,vel,vel_sigma,4861.33)\n",
    "    OIII_4959 = (0.33)*gauss(wave,amp_OIII5007,vel,vel_sigma,4958.9)\n",
    "    OIII_5007 = gauss(wave,amp_OIII5007,vel,vel_sigma,5006.8)\n",
    "    return Hb + OIII_4959 + OIII_5007\n",
    "    # Same as before but fore the Fe doublet\n",
    "def Fe_doublet_gauss(wave,amp_Fe4923,amp_Fe5018,vel,vel_sigma):\n",
    "    Fe_4923 = gauss(wave,amp_Fe4923,vel,vel_sigma,4923)\n",
    "    Fe_5018 = gauss(wave,amp_Fe5018,vel,vel_sigma,5018)\n",
    "    return Fe_4923+Fe_5018\n",
    "\n",
    "def Hb_Fe_doublet_gauss(wave,amp_Hb,amp_Fe5018,vel,vel_sigma):\n",
    "    Hb = gauss(wave,amp_Hb,vel,vel_sigma,4861.33)\n",
    "    Fe_4923 = 0.81*gauss(wave,amp_Fe5018,vel,vel_sigma,4923)\n",
    "    Fe_5018 = gauss(wave,amp_Fe5018,vel,vel_sigma,5018)\n",
    "    return Hb+Fe_4923+Fe_5018\n",
    "\n",
    "def full_gauss(p,wave,data,error):\n",
    "    (amp_Hb,amp_OIII5007,vel_OIII,vel_sigma_OIII,amp_Hb_br,amp_OIII5007_br,vel_OIII_br,vel_sigma_OIII_br,amp_Hb1,amp_Fe5018_1,vel_Hb1,vel_sigma_Hb1,amp_Hb2,amp_Fe5018_2,vel_Hb2,vel_sigma_Hb2,m,c) = p \n",
    "    narrow_OIII = Hb_O3_gauss(wave,amp_Hb,amp_OIII5007,vel_OIII,vel_sigma_OIII)\n",
    "    broad_OIII = Hb_O3_gauss(wave,amp_Hb_br,amp_OIII5007_br,vel_OIII_br,vel_sigma_OIII_br)\n",
    "    Hb_broad1 = Hb_Fe_doublet_gauss(wave,amp_Hb1,amp_Fe5018_1,vel_Hb1,vel_sigma_Hb1)\n",
    "    #Hb_broad2 = 0 \n",
    "    Hb_broad2 = Hb_Fe_doublet_gauss(wave,amp_Hb2,amp_Fe5018_2,vel_Hb2,vel_sigma_Hb2) \n",
    "    cont = (wave/1000.0)*m+c\n",
    "    return (narrow_OIII+broad_OIII+Hb_broad1+Hb_broad2+cont-data)/error\n"
   ]
  },
  {
   "cell_type": "code",
   "execution_count": 8,
   "metadata": {
    "collapsed": true
   },
   "outputs": [],
   "source": [
    "hdu = fits.open('HE0232-0900.wo_absorption.fits')\n",
    "qso_data = hdu[0].data\n",
    "qso_error = hdu[1].data\n",
    "qso_header = hdu[0].header\n",
    "wavestart = qso_header['CRVAL3']\n",
    "wavint = qso_header['CD3_3']\n",
    "wave = wavestart+np.arange(qso_data.shape[0])*wavint "
   ]
  },
  {
   "cell_type": "code",
   "execution_count": 9,
   "metadata": {
    "collapsed": true
   },
   "outputs": [],
   "source": [
    "x = wave\n",
    "y = qso_data[:,51,67] # I set the central position manual here, but one can also search for maximum light in principle\n",
    "y_err = qso_error[:,51,67]"
   ]
  },
  {
   "cell_type": "code",
   "execution_count": 10,
   "metadata": {},
   "outputs": [
    {
     "name": "stdout",
     "output_type": "stream",
     "text": [
      "[  2.98299754e+00   3.42594963e+01   1.29034186e+04   1.34572813e+02\n",
      "   7.83542458e-01   1.81459193e+01   1.28271934e+04   2.83263811e+02\n",
      "   7.39972055e+00   1.08600434e+00   1.29485746e+04   2.16583130e+03\n",
      "   5.19666183e-01   4.69836316e-01   1.08458661e+04   5.20354389e+02\n",
      "  -4.11164681e+00   2.91123812e+01]\n"
     ]
    }
   ],
   "source": [
    "z = 0.043143\n",
    "k = z+1\n",
    "select = (x>4750*k) & (x<5090*k)\n",
    "popt_full_fit,pcov_full_fit = leastsq(full_gauss,x0=[2,40,12942,50.0,5,5,12842,100.0,5,1,12942,1000.0,1,1,12942,1000.0,-0.001,0.1],args=(x[select],y[select],y_err[select]),maxfev = 10000000)                                                    \n",
    "print(popt_full_fit)"
   ]
  },
  {
   "cell_type": "code",
   "execution_count": 11,
   "metadata": {},
   "outputs": [
    {
     "data": {
      "image/png": "[encoded data removed]",
      "text/plain": [
       "<matplotlib.figure.Figure at 0x178a5398cf8>"
      ]
     },
     "metadata": {},
     "output_type": "display_data"
    }
   ],
   "source": [
    "plt.xlim([4750*k,5090*k])\n",
    "plt.ylim([-5,62])\n",
    "plt.plot(x[select],y[select],'k-')\n",
    "fit = full_gauss(popt_full_fit,x[select],y[select],y_err[select])*(y_err[select])+y[select]\n",
    "plt.plot(x[select],fit,label='fit')\n",
    "residual = y[select] - fit\n",
    "plt.plot(x[select],residual,'b-')\n",
    "plt.legend\n",
    "plt.title('Fitted')\n",
    "plt.xlabel('Wavelength')\n",
    "plt.ylabel('Flux Density')\n",
    "plt.show()"
   ]
  },
  {
   "cell_type": "code",
   "execution_count": 12,
   "metadata": {},
   "outputs": [
    {
     "data": {
      "text/plain": [
       "Ks_2sampResult(statistic=0.038732394366197187, pvalue=0.98143248689807783)"
      ]
     },
     "execution_count": 12,
     "metadata": {},
     "output_type": "execute_result"
    }
   ],
   "source": [
    "from scipy import stats\n",
    "stats.ks_2samp(y[select], fit)"
   ]
  },
  {
   "cell_type": "code",
   "execution_count": null,
   "metadata": {
    "collapsed": true
   },
   "outputs": [],
   "source": []
  }
 ],
 "metadata": {
  "kernelspec": {
   "display_name": "Python 3",
   "language": "python",
   "name": "python3"
  },
  "language_info": {
   "codemirror_mode": {
    "name": "ipython",
    "version": 3
   },
   "file_extension": ".py",
   "mimetype": "text/x-python",
   "name": "python",
   "nbconvert_exporter": "python",
   "pygments_lexer": "ipython3",
   "version": "3.6.3"
  }
 },
 "nbformat": 4,
 "nbformat_minor": 2
}

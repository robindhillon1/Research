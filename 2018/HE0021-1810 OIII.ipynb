{
 "cells": [
  {
   "cell_type": "code",
   "execution_count": 99,
   "metadata": {
    "collapsed": true
   },
   "outputs": [],
   "source": [
    "import numpy as np\n",
    "import matplotlib.pyplot as plt\n",
    "#%matplotlib inline"
   ]
  },
  {
   "cell_type": "code",
   "execution_count": 100,
   "metadata": {
    "collapsed": true
   },
   "outputs": [],
   "source": [
    "Spec = np.loadtxt('/home/mainak/HE0021-1810_ASCII', unpack=False)"
   ]
  },
  {
   "cell_type": "code",
   "execution_count": 101,
   "metadata": {
    "collapsed": true
   },
   "outputs": [],
   "source": [
    "x = Spec[:,0]\n",
    "y = Spec[:,1]"
   ]
  },
  {
   "cell_type": "code",
   "execution_count": 102,
   "metadata": {
    "collapsed": true
   },
   "outputs": [],
   "source": [
    "#ax = plt.axes([0,0,2,2])\n",
    "#plt.xlim([5260,5290])\n",
    "#plt.xlabel('Wave Length')\n",
    "#plt.ylabel('Flux')\n",
    "#plt.plot(x,y)\n",
    "#plt.show()\n"
   ]
  },
  {
   "cell_type": "code",
   "execution_count": 103,
   "metadata": {
    "collapsed": true
   },
   "outputs": [],
   "source": [
    "from scipy.optimize import curve_fit\n",
    "from scipy import asarray as ar,exp"
   ]
  },
  {
   "cell_type": "code",
   "execution_count": 104,
   "metadata": {},
   "outputs": [
    {
     "name": "stdout",
     "output_type": "stream",
     "text": [
      "[ 5260.8359375  5262.0859375  5263.3359375  5264.5859375  5265.8359375\n",
      "  5267.0859375  5268.3359375  5269.5859375  5270.8359375  5272.0859375\n",
      "  5273.3359375  5274.5859375  5275.8359375  5277.0859375  5278.3359375\n",
      "  5279.5859375  5280.8359375  5282.0859375  5283.3359375  5284.5859375\n",
      "  5285.8359375  5287.0859375  5288.3359375  5289.5859375] [ 11.43003368  11.45561218  11.68057251  12.18324471  13.07058048\n",
      "  14.36092949  16.21694183  18.39595985  20.90534019  24.58959961\n",
      "  30.75757599  36.97540665  38.35743713  33.74161911  26.10998917\n",
      "  19.57779312  15.38376331  13.15325546  12.02444553  11.38606739\n",
      "  10.91779804  10.71107388  10.44461536  10.38135147]\n"
     ]
    }
   ],
   "source": [
    "select = (x>5260) & (x<5290)\n",
    "print x[select],y[select]\n",
    "n = len(x[select])\n",
    "mean = sum(x[select]*y[select])/n\n",
    "sigma = sum(y[select]*(x[select]-mean)**2)/n"
   ]
  },
  {
   "cell_type": "code",
   "execution_count": 105,
   "metadata": {
    "collapsed": true
   },
   "outputs": [],
   "source": [
    "def gaus(wave, amp1, cent1, sigma1,c):\n",
    "    return amp1*exp(-(wave-cent1)**2/(2*sigma1**2)) +  c"
   ]
  },
  {
   "cell_type": "code",
   "execution_count": 109,
   "metadata": {
    "collapsed": true
   },
   "outputs": [],
   "source": [
    "def gaus2(wave, amp1, amp2, cent1, cent2, sigma1, sigma2, c):\n",
    "    return amp1*exp(-(wave-cent1)**2/(2*sigma1**2)) + amp2*exp(-(wave-cent2)**2/(2*sigma2**2)) + c\n",
    "def gaus2_wo(wave, amp1, amp2, cent1, cent2, sigma1, sigma2):\n",
    "    return amp1*exp(-(wave-cent1)**2/(2*sigma1**2)) + amp2*exp(-(wave-cent2)**2/(2*sigma2**2))"
   ]
  },
  {
   "cell_type": "code",
   "execution_count": 110,
   "metadata": {
    "collapsed": true
   },
   "outputs": [],
   "source": [
    "#print mean, sigma\n",
    "#popt,pcov = curve_fit(gaus,x[select],y[select],p0=[1.0,5260,10.0,20.0])\n",
    "#print popt,pcov"
   ]
  },
  {
   "cell_type": "code",
   "execution_count": 111,
   "metadata": {},
   "outputs": [
    {
     "name": "stdout",
     "output_type": "stream",
     "text": [
      "95434.7485813 147067130212.0\n",
      "[  1.78743490e+01   1.08770939e+01   5.27574929e+03   5.27383049e+03\n",
      "   2.13377027e+00   4.76472548e+00   1.05852781e+01] [[  3.48673030e-01  -3.21198118e-01  -8.81508366e-03  -5.98477546e-02\n",
      "    2.27865910e-02   5.55998409e-02  -1.75948674e-02]\n",
      " [ -3.21198118e-01   3.37299761e-01   9.36870702e-03   5.69801988e-02\n",
      "   -2.58628878e-02  -5.01120180e-02   6.04675644e-03]\n",
      " [ -8.81508366e-03   9.36870702e-03   1.50757966e-03  -1.59253339e-04\n",
      "   -5.46789943e-04  -3.79399238e-03   2.03023308e-03]\n",
      " [ -5.98477546e-02   5.69801988e-02  -1.59253339e-04   1.63407053e-02\n",
      "   -4.78144386e-03  -6.14718762e-03   5.45472115e-04]\n",
      " [  2.27865910e-02  -2.58628878e-02  -5.46789943e-04  -4.78144386e-03\n",
      "    2.68553556e-03   3.22828535e-03  -6.38122516e-04]\n",
      " [  5.55998409e-02  -5.01120180e-02  -3.79399238e-03  -6.14718762e-03\n",
      "    3.22828535e-03   2.13961452e-02  -1.37611656e-02]\n",
      " [ -1.75948674e-02   6.04675644e-03   2.03023308e-03   5.45472115e-04\n",
      "   -6.38122516e-04  -1.37611656e-02   1.63087521e-02]]\n"
     ]
    }
   ],
   "source": [
    "print mean, sigma\n",
    "popt2,pcov2 = curve_fit(gaus2,x[select],y[select],p0=[1.0,1.0,5260,5260,10.0,10.0,20.0])\n",
    "print popt2,pcov2"
   ]
  },
  {
   "cell_type": "code",
   "execution_count": 74,
   "metadata": {},
   "outputs": [
    {
     "data": {
      "image/png": "[encoded data removed]",
      "text/plain": [
       "<matplotlib.figure.Figure at 0x7fa6a6c5b650>"
      ]
     },
     "metadata": {},
     "output_type": "display_data"
    }
   ],
   "source": [
    "#ax = plt.axes([0,0,2,2])\n",
    "#plt.xlim([5260,5290])\n",
    "#plt.plot(x,y, 'bo:',label='data')\n",
    "#plt.plot(x,gaus(x,*([popt2[0],popt2[2],popt2[4],popt2[6]])),'b--')\n",
    "#plt.plot(x,gaus(x,*([popt2[1],popt2[3],popt2[5],popt2[6]])),'g--')\n",
    "#plt.plot(x,gaus2(x,*popt2),'r-',label='fit')\n",
    "#plt.legend\n",
    "#plt.title('Fitted')\n",
    "#plt.xlabel('wavelength')\n",
    "#plt.ylabel('flux')\n",
    "#plt.show()"
   ]
  },
  {
   "cell_type": "code",
   "execution_count": 89,
   "metadata": {},
   "outputs": [
    {
     "name": "stdout",
     "output_type": "stream",
     "text": [
      "9.58000000021\n",
      "7.62000000017\n"
     ]
    },
    {
     "data": {
      "image/png": "[encoded data removed]",
      "text/plain": [
       "<matplotlib.figure.Figure at 0x7fa6ad405510>"
      ]
     },
     "metadata": {},
     "output_type": "display_data"
    }
   ],
   "source": [
    "#ax = plt.axes([0,0,2,2])\n",
    "plt.xlim([5260,5290])\n",
    "wave = np.arange(5200,5400,0.02)\n",
    "#plt.plot(x,y, 'bo:',label='data')\n",
    "#plt.plot(x,gaus1(x,*([popt3[0],popt3[2],popt3[4],popt3[6]])),'b--')\n",
    "#plt.plot(x,gaus1(x,*([popt3[1],popt3[3],popt3[5],popt3[6]])),'g--')\n",
    "#plt.plot(wave,gaus3(wave,*popt3),'r-',label='fit')\n",
    "cor_popt2 = np.array(popt2)\n",
    "cor_popt2[4] = np.sqrt(cor_popt2[4]**2-(2.5/2.354)**2)\n",
    "cor_popt2[5] = np.sqrt(cor_popt2[5]**2-(2.5/2.354)**2)\n",
    "cumsum = np.cumsum(gaus2_wo(wave,*cor_popt2[:-1]))\n",
    "norm_sum=cumsum/cumsum[-1]\n",
    "select = (norm_sum>0.1) & (norm_sum<0.9)\n",
    "w80 = wave[select][-1]-wave[select][0]\n",
    "print w80\n",
    "plt.plot(wave[select],norm_sum[select],'-k')\n",
    "select =  (norm_sum>0.05) & (norm_sum<0.5)\n",
    "v5 = wave[select][-1]-wave[select][0]\n",
    "print v5        \n",
    "plt.legend\n",
    "plt.title('Fitted')\n",
    "plt.xlabel('wavelength')\n",
    "plt.ylabel('flux')\n",
    "plt.show()\n"
   ]
  },
  {
   "cell_type": "code",
   "execution_count": 91,
   "metadata": {},
   "outputs": [
    {
     "data": {
      "text/plain": [
       "40572084.467189975"
      ]
     },
     "execution_count": 91,
     "metadata": {},
     "output_type": "execute_result"
    }
   ],
   "source": [
    "z = 0.414757\n",
    "c = 3*(10**10)\n",
    "w80_actual = ((w80)/5007)*(c/(1+z))\n",
    "w80_actual\n",
    "#this is in cm/s"
   ]
  },
  {
   "cell_type": "code",
   "execution_count": 75,
   "metadata": {},
   "outputs": [
    {
     "data": {
      "text/plain": [
       "2.2554506554781072e-14"
      ]
     },
     "execution_count": 75,
     "metadata": {},
     "output_type": "execute_result"
    }
   ],
   "source": [
    "F_total = (2.507*(popt2[0]*popt2[4]) + 2.507*(popt2[1]*popt2[5]))*(10**-16)\n",
    "F_total"
   ]
  },
  {
   "cell_type": "code",
   "execution_count": 76,
   "metadata": {},
   "outputs": [
    {
     "data": {
      "text/plain": [
       "9.561636434104476e-15"
      ]
     },
     "execution_count": 76,
     "metadata": {},
     "output_type": "execute_result"
    }
   ],
   "source": [
    "F_narrow = 2.507*(popt2[0]*popt2[4])*(10**-16)\n",
    "F_narrow"
   ]
  },
  {
   "cell_type": "code",
   "execution_count": 77,
   "metadata": {},
   "outputs": [
    {
     "data": {
      "text/plain": [
       "1.2992870120676599e-14"
      ]
     },
     "execution_count": 77,
     "metadata": {},
     "output_type": "execute_result"
    }
   ],
   "source": [
    "F_broad = 2.507*(popt2[1]*popt2[5])*(10**-16)\n",
    "F_broad"
   ]
  },
  {
   "cell_type": "code",
   "execution_count": 78,
   "metadata": {
    "collapsed": true
   },
   "outputs": [],
   "source": [
    "D_L = 7.0*(10**27)"
   ]
  },
  {
   "cell_type": "code",
   "execution_count": 79,
   "metadata": {},
   "outputs": [
    {
     "data": {
      "text/plain": [
       "1.3886270788713438e+43"
      ]
     },
     "execution_count": 79,
     "metadata": {},
     "output_type": "execute_result"
    }
   ],
   "source": [
    "L_total = 31.5*((D_L)**2)*(F_total)/(2.507)\n",
    "L_total"
   ]
  },
  {
   "cell_type": "code",
   "execution_count": 80,
   "metadata": {},
   "outputs": [
    {
     "data": {
      "text/plain": [
       "5.8868710953491268e+42"
      ]
     },
     "execution_count": 80,
     "metadata": {},
     "output_type": "execute_result"
    }
   ],
   "source": [
    "L_narrow = 31.5*((D_L)**2)*(F_narrow)/(2.507)\n",
    "L_narrow"
   ]
  },
  {
   "cell_type": "code",
   "execution_count": 81,
   "metadata": {},
   "outputs": [
    {
     "data": {
      "text/plain": [
       "7.9993996933643123e+42"
      ]
     },
     "execution_count": 81,
     "metadata": {},
     "output_type": "execute_result"
    }
   ],
   "source": [
    "L_broad = 31.5*((D_L)**2)*(F_broad)/(2.507)\n",
    "L_broad"
   ]
  },
  {
   "cell_type": "code",
   "execution_count": 84,
   "metadata": {},
   "outputs": [
    {
     "data": {
      "text/plain": [
       "1.9188023153274116"
      ]
     },
     "execution_count": 84,
     "metadata": {},
     "output_type": "execute_result"
    }
   ],
   "source": [
    "z = 0.414757\n",
    "c = 3*(10**10)\n",
    "velshift_angstrom = popt2[2]- popt2[3]\n",
    "velshift_angstrom"
   ]
  },
  {
   "cell_type": "code",
   "execution_count": 86,
   "metadata": {},
   "outputs": [
    {
     "data": {
      "text/plain": [
       "7715133.9500061814"
      ]
     },
     "execution_count": 86,
     "metadata": {},
     "output_type": "execute_result"
    }
   ],
   "source": [
    "velshift_actual = ((velshift_angstrom)/popt2[3])*(c/(1+z))\n",
    "velshift_actual"
   ]
  },
  {
   "cell_type": "code",
   "execution_count": null,
   "metadata": {
    "collapsed": true
   },
   "outputs": [],
   "source": []
  }
 ],
 "metadata": {
  "kernelspec": {
   "display_name": "Python 3",
   "language": "python",
   "name": "python3"
  },
  "language_info": {
   "codemirror_mode": {
    "name": "ipython",
    "version": 3
   },
   "file_extension": ".py",
   "mimetype": "text/x-python",
   "name": "python",
   "nbconvert_exporter": "python",
   "pygments_lexer": "ipython3",
   "version": "3.6.3"
  }
 },
 "nbformat": 4,
 "nbformat_minor": 2
}

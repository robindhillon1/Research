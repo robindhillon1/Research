{
 "cells": [
  {
   "cell_type": "code",
   "execution_count": 94,
   "metadata": {
    "collapsed": true
   },
   "outputs": [],
   "source": [
    "import numpy as np\n",
    "import matplotlib.pyplot as plt\n",
    "#%matplotlib inline"
   ]
  },
  {
   "cell_type": "code",
   "execution_count": 95,
   "metadata": {
    "collapsed": true
   },
   "outputs": [],
   "source": [
    "Spec = np.loadtxt('/home/mainak/HE0224_2834_ASCII', unpack=False)\n"
   ]
  },
  {
   "cell_type": "code",
   "execution_count": 96,
   "metadata": {
    "collapsed": true
   },
   "outputs": [],
   "source": [
    "x = Spec[:,0]\n",
    "y = Spec[:,1]"
   ]
  },
  {
   "cell_type": "code",
   "execution_count": 97,
   "metadata": {
    "collapsed": true
   },
   "outputs": [],
   "source": [
    "#ax = plt.axes([0,0,2,2])\n",
    "#plt.xlim([5295,5320])\n",
    "#plt.xlabel('Wave Length')\n",
    "#plt.ylabel('Flux')\n",
    "#plt.plot(x,y)\n",
    "#plt.show()\n"
   ]
  },
  {
   "cell_type": "code",
   "execution_count": 98,
   "metadata": {},
   "outputs": [
    {
     "data": {
      "text/plain": [
       "array([ 4750.31152344,  4751.56152344,  4752.81152344, ...,  9349.06152344,\n",
       "        9350.31152344,  9351.56152344])"
      ]
     },
     "execution_count": 98,
     "metadata": {},
     "output_type": "execute_result"
    }
   ],
   "source": [
    "x\n"
   ]
  },
  {
   "cell_type": "code",
   "execution_count": 99,
   "metadata": {},
   "outputs": [
    {
     "data": {
      "text/plain": [
       "array([ 18.80767632,  19.29088593,  19.47470474, ...,  15.63124466,\n",
       "        15.26995945,   2.98167515])"
      ]
     },
     "execution_count": 99,
     "metadata": {},
     "output_type": "execute_result"
    }
   ],
   "source": [
    "y"
   ]
  },
  {
   "cell_type": "code",
   "execution_count": 100,
   "metadata": {
    "collapsed": true
   },
   "outputs": [],
   "source": [
    "from scipy.optimize import curve_fit\n",
    "from scipy import asarray as ar,exp"
   ]
  },
  {
   "cell_type": "code",
   "execution_count": 128,
   "metadata": {},
   "outputs": [
    {
     "name": "stdout",
     "output_type": "stream",
     "text": [
      "[ 5290.31152344  5291.56152344  5292.81152344  5294.06152344  5295.31152344\n",
      "  5296.56152344  5297.81152344  5299.06152344  5300.31152344  5301.56152344\n",
      "  5302.81152344  5304.06152344  5305.31152344  5306.56152344  5307.81152344\n",
      "  5309.06152344  5310.31152344  5311.56152344  5312.81152344  5314.06152344\n",
      "  5315.31152344  5316.56152344  5317.81152344  5319.06152344  5320.31152344\n",
      "  5321.56152344  5322.81152344  5324.06152344  5325.31152344  5326.56152344\n",
      "  5327.81152344  5329.06152344] [  19.41181374   19.27696991   19.60844612   20.34371185   20.71847153\n",
      "   21.51848412   23.05530739   25.33699608   29.11101913   36.28778839\n",
      "   53.46185684   90.82257843  131.54098511  144.66601562  132.32145691\n",
      "  102.76565552   66.31058502   42.49665451   32.07038116   26.19831085\n",
      "   22.56418991   20.23170853   19.43120003   18.99537659   18.45375633\n",
      "   18.68748283   18.60649109   18.71820831   18.79946899   18.78786469\n",
      "   18.64144325   18.46754456]\n"
     ]
    }
   ],
   "source": [
    "select = (x>5290) & (x<5330)\n",
    "print x[select],y[select]\n",
    "n = len(x[select])\n",
    "mean = sum(x[select]*y[select])/n\n",
    "sigma = sum(y[select]*(x[select]-mean)**2)/n"
   ]
  },
  {
   "cell_type": "code",
   "execution_count": 135,
   "metadata": {
    "collapsed": true
   },
   "outputs": [],
   "source": [
    "def gaus(x, a, x0, sigma,c):\n",
    "    return a*exp(-(x-x0)**2/(2*sigma**2)) + c"
   ]
  },
  {
   "cell_type": "code",
   "execution_count": 136,
   "metadata": {},
   "outputs": [
    {
     "name": "stdout",
     "output_type": "stream",
     "text": [
      "213600.596476 1.74588226038e+12\n",
      "[  1.24721007e+02   5.30674444e+03   2.55285270e+00   2.02884744e+01] [[  2.40182197e+00   9.60378159e-07  -2.56959574e-02  -1.83402742e-01]\n",
      " [  9.60378159e-07   1.26925086e-03  -1.96686037e-08   1.84611085e-10]\n",
      " [ -2.56959574e-02  -1.96686037e-08   1.48658355e-03  -7.50797715e-03]\n",
      " [ -1.83402742e-01   1.84611085e-10  -7.50797715e-03   2.59370637e-01]]\n"
     ]
    }
   ],
   "source": [
    "print mean, sigma\n",
    "popt,pcov = curve_fit(gaus,x[select],y[select],p0=[1.0,5290,10.0,20.0])\n",
    "print popt,pcov"
   ]
  },
  {
   "cell_type": "code",
   "execution_count": null,
   "metadata": {
    "collapsed": true
   },
   "outputs": [],
   "source": []
  },
  {
   "cell_type": "code",
   "execution_count": 137,
   "metadata": {},
   "outputs": [
    {
     "data": {
      "image/png": "[encoded data removed]",
      "text/plain": [
       "<matplotlib.figure.Figure at 0x7f5d44a69890>"
      ]
     },
     "metadata": {},
     "output_type": "display_data"
    }
   ],
   "source": [
    "#ax = plt.axes([0,0,2,2])\n",
    "plt.xlim([5295,5320])\n",
    "plt.plot(x,y, 'b+:',label='data')\n",
    "plt.plot(x,gaus(x,*popt),'ro:',label='fit')\n",
    "plt.legend\n",
    "plt.title('Fitted')\n",
    "plt.xlabel('wavelength')\n",
    "plt.ylabel('flux')\n",
    "plt.show()\n"
   ]
  },
  {
   "cell_type": "code",
   "execution_count": 105,
   "metadata": {},
   "outputs": [
    {
     "data": {
      "text/plain": [
       "array([ 4750.31152344,  4751.56152344,  4752.81152344, ...,  9349.06152344,\n",
       "        9350.31152344,  9351.56152344])"
      ]
     },
     "execution_count": 105,
     "metadata": {},
     "output_type": "execute_result"
    }
   ],
   "source": [
    "x"
   ]
  },
  {
   "cell_type": "code",
   "execution_count": 115,
   "metadata": {},
   "outputs": [
    {
     "data": {
      "text/plain": [
       "3682"
      ]
     },
     "execution_count": 115,
     "metadata": {},
     "output_type": "execute_result"
    }
   ],
   "source": [
    "len(x)"
   ]
  },
  {
   "cell_type": "code",
   "execution_count": 108,
   "metadata": {
    "collapsed": true
   },
   "outputs": [],
   "source": [
    "big_array=np.array([x])\n"
   ]
  },
  {
   "cell_type": "code",
   "execution_count": 110,
   "metadata": {},
   "outputs": [
    {
     "data": {
      "text/plain": [
       "(4750.3115234375, 9351.5615234375)"
      ]
     },
     "execution_count": 110,
     "metadata": {},
     "output_type": "execute_result"
    }
   ],
   "source": [
    "np.min(big_array), np.max(big_array)"
   ]
  },
  {
   "cell_type": "code",
   "execution_count": null,
   "metadata": {
    "collapsed": true
   },
   "outputs": [],
   "source": []
  }
 ],
 "metadata": {
  "kernelspec": {
   "display_name": "Python 3",
   "language": "python",
   "name": "python3"
  },
  "language_info": {
   "codemirror_mode": {
    "name": "ipython",
    "version": 3
   },
   "file_extension": ".py",
   "mimetype": "text/x-python",
   "name": "python",
   "nbconvert_exporter": "python",
   "pygments_lexer": "ipython3",
   "version": "3.6.3"
  }
 },
 "nbformat": 4,
 "nbformat_minor": 2
}

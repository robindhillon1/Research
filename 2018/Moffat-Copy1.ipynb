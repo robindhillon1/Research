{
 "cells": [
  {
   "cell_type": "code",
   "execution_count": 11,
   "metadata": {
    "collapsed": true
   },
   "outputs": [],
   "source": [
    "import numpy as np\n",
    "from astropy.modeling.models import Sersic2D\n",
    "from astropy.modeling import models, fitting\n",
    "import astropy.io.fits as fits \n",
    "import matplotlib.pyplot as plt\n",
    "from scipy import ndimage\n",
    "from scipy import stats\n",
    "import random"
   ]
  },
  {
   "cell_type": "code",
   "execution_count": 12,
   "metadata": {
    "collapsed": true
   },
   "outputs": [],
   "source": [
    "#There's 7times more outflow than Moffat shows. "
   ]
  },
  {
   "cell_type": "code",
   "execution_count": 13,
   "metadata": {},
   "outputs": [],
   "source": [
    "y, x = np.mgrid[:11, :11]\n",
    "hdu = fits.open('subcube_HE0232-0900_new.fits')\n",
    "\n",
    "Hb_1 = hdu[1].data\n",
    "OIII5007_1 = hdu[2].data\n",
    "Hb_2 = hdu[3].data\n",
    "OIII5007_2 = hdu[4].data\n",
    "OIII5007_br = hdu[5].data\n",
    "Hb_br = hdu[6].data\n",
    "Hb1 = hdu[7].data\n",
    "Hb2 = hdu[8].data\n",
    "Fe5018_1 = hdu[9].data\n",
    "Fe5018_2 = hdu[10].data\n",
    "\n",
    "hdu.close()"
   ]
  },
  {
   "cell_type": "code",
   "execution_count": 14,
   "metadata": {
    "collapsed": true
   },
   "outputs": [],
   "source": [
    "amp_Hb_1 = np.max(Hb_1)\n",
    "amp_OIII5007_1 = np.max(OIII5007_1)\n",
    "amp_Hb_2 = np.max(Hb_2)\n",
    "amp_OIII5007_2 = np.max(OIII5007_2)\n",
    "amp_OIII5007_br = np.max(OIII5007_br)\n",
    "amp_Hb_br = np.max(Hb_br)\n",
    "amp_Hb1 = np.max(Hb1)\n",
    "amp_Hb2 = np.max(Hb2)\n",
    "amp_Fe5018_1 = np.max(Fe5018_1)\n",
    "amp_Fe5018_2 = np.max(Fe5018_2)"
   ]
  },
  {
   "cell_type": "code",
   "execution_count": 15,
   "metadata": {
    "collapsed": true
   },
   "outputs": [],
   "source": [
    "hdu = fits.open('subcube_HE0232-0900_err_new.fits')\n",
    "\n",
    "Hb_1_err = hdu[1].data\n",
    "OIII5007_1_err = hdu[2].data\n",
    "Hb_2_err = hdu[3].data\n",
    "OIII5007_2_err = hdu[4].data\n",
    "OIII5007_br_err = hdu[5].data\n",
    "Hb_br_err = hdu[6].data\n",
    "Hb1_err = hdu[7].data\n",
    "Hb2_err = hdu[8].data\n",
    "Fe5018_1_err = hdu[9].data\n",
    "Fe5018_2_err = hdu[10].data\n",
    "\n",
    "hdu.close()"
   ]
  },
  {
   "cell_type": "code",
   "execution_count": 16,
   "metadata": {
    "collapsed": true
   },
   "outputs": [],
   "source": [
    "[y0_blr,x0_blr]= ndimage.measurements.maximum_position(Hb2)"
   ]
  },
  {
   "cell_type": "code",
   "execution_count": 19,
   "metadata": {},
   "outputs": [
    {
     "data": {
      "image/png": "[encoded data removed]",
      "text/plain": [
       "<matplotlib.figure.Figure at 0x16e41809c88>"
      ]
     },
     "metadata": {},
     "output_type": "display_data"
    }
   ],
   "source": [
    "p_init = models.Moffat2D(amplitude = amp_Hb2, x_0=x0_blr, y_0=y0_blr,gamma=3,alpha=3)\n",
    "f = fitting.LevMarLSQFitter()\n",
    "p = f(p_init, x, y, Hb2)\n",
    "res = Hb2 - p(x,y)\n",
    "plt.imshow(p(x,y))\n",
    "plt.show()"
   ]
  },
  {
   "cell_type": "code",
   "execution_count": 30,
   "metadata": {},
   "outputs": [
    {
     "data": {
      "text/plain": [
       "5.9268551438529498"
      ]
     },
     "execution_count": 30,
     "metadata": {},
     "output_type": "execute_result"
    }
   ],
   "source": [
    "[amp1,x1, y1,gamma1,alpha1] = p.parameters\n",
    "amp1"
   ]
  },
  {
   "cell_type": "code",
   "execution_count": 28,
   "metadata": {},
   "outputs": [
    {
     "name": "stderr",
     "output_type": "stream",
     "text": [
      "WARNING: The fit may be unsuccessful; check fit_info['message'] for more information. [astropy.modeling.fitting]\n"
     ]
    }
   ],
   "source": [
    "Monte_Carlo_loops = 100\n",
    "parameters_MC = np.zeros((len(p.parameters),Monte_Carlo_loops))\n",
    "for l in range(Monte_Carlo_loops):\n",
    "        iteration_data = np.random.normal(Hb2,Hb2_err) \n",
    "        p_MC_init = models.Moffat2D(amplitude = amp1,x_0=x1,y_0=y1,gamma=gamma1,alpha=alpha1)\n",
    "        f = fitting.LevMarLSQFitter()\n",
    "        p_MC = f(p_MC_init, x, y, iteration_data)\n",
    "        parameters_MC[:,l]=p_MC.parameters\n",
    "parameters_err = np.std(parameters_MC,1)  \n",
    "[amp1_err, x1_err, y1_err,gamma1_err,alpha1_err] = parameters_err"
   ]
  },
  {
   "cell_type": "code",
   "execution_count": 29,
   "metadata": {},
   "outputs": [
    {
     "data": {
      "text/plain": [
       "array([  6.11093417e+01,   2.91139489e-01,   3.51582499e-01,\n",
       "         3.38164357e+01,   9.58279567e+02])"
      ]
     },
     "execution_count": 29,
     "metadata": {},
     "output_type": "execute_result"
    }
   ],
   "source": [
    "parameters_err"
   ]
  },
  {
   "cell_type": "code",
   "execution_count": 24,
   "metadata": {
    "collapsed": true
   },
   "outputs": [],
   "source": [
    "column_names={'amp':0,'x0':1,'y0':2,'gamma':3,'alpha':4}\n",
    "columns=[]\n",
    "for key in column_names.keys():\n",
    "    columns.append(fits.Column(name=key,format='E',array=[p.parameters[column_names[key]]]))\n",
    "    columns.append(fits.Column(name=key+'_err',format='E',array=[parameters_err[column_names[key]]]))\n",
    "coldefs = fits.ColDefs(columns)\n",
    "hdu = fits.BinTableHDU.from_columns(coldefs)\n",
    "hdu.writeto('HE0232-0900_Hb_blr.fits',overwrite=True)"
   ]
  },
  {
   "cell_type": "code",
   "execution_count": 31,
   "metadata": {},
   "outputs": [],
   "source": [
    "gamma_fix = gamma1\n",
    "alpha_fix = alpha1"
   ]
  },
  {
   "cell_type": "code",
   "execution_count": 33,
   "metadata": {},
   "outputs": [],
   "source": [
    "[y0_br,x0_br]= ndimage.measurements.maximum_position(OIII5007_1)#Find the positions of the maximums of the values of an array at labels."
   ]
  },
  {
   "cell_type": "code",
   "execution_count": 35,
   "metadata": {},
   "outputs": [],
   "source": [
    "p_br_init = models.Moffat2D(amplitude = amp_OIII5007_1, x_0=x0_br, y_0=y0_br,gamma=gamma1,alpha=alpha1,fixed={'gamma':True,'alpha':True})                     \n",
    "f = fitting.LevMarLSQFitter()\n",
    "p_br = f(p_br_init, x, y, OIII5007_1)\n",
    "res = OIII5007_1 - p_br(x,y)"
   ]
  },
  {
   "cell_type": "code",
   "execution_count": 36,
   "metadata": {},
   "outputs": [
    {
     "data": {
      "image/png": "[encoded data removed]",
      "text/plain": [
       "<matplotlib.figure.Figure at 0x16e41f766a0>"
      ]
     },
     "metadata": {},
     "output_type": "display_data"
    }
   ],
   "source": [
    "plt.imshow(p_br(x,y))\n",
    "plt.show()"
   ]
  },
  {
   "cell_type": "code",
   "execution_count": 37,
   "metadata": {
    "collapsed": true
   },
   "outputs": [],
   "source": [
    "[amp2,x2,y2,gamma2,alpha2] = p_br.parameters"
   ]
  },
  {
   "cell_type": "code",
   "execution_count": 15,
   "metadata": {
    "collapsed": true
   },
   "outputs": [],
   "source": [
    "Monte_Carlo_loops = 100\n",
    "parameters_MC = np.zeros((len(p_br.parameters),Monte_Carlo_loops))\n",
    "for l in range(Monte_Carlo_loops):\n",
    "        iteration_data = np.random.normal(OIII_br,OIII_br_err) \n",
    "        p_MC_init = models.Moffat2D(amplitude=amp2,x_0=x2,y_0=y2,gamma=gamma2,alpha=alpha2,fixed={'gamma':True,'alpha':True})\n",
    "        f = fitting.LevMarLSQFitter()\n",
    "        p_MC = f(p_MC_init, x, y, iteration_data)\n",
    "        parameters_MC[:,l]=p_MC.parameters\n",
    "        parameters_err = np.std(parameters_MC,1)  \n",
    "        [amp2_err, x2_err, y2_err,gamma2_err,alpha2_err] = parameters_err"
   ]
  },
  {
   "cell_type": "code",
   "execution_count": 16,
   "metadata": {
    "collapsed": true
   },
   "outputs": [],
   "source": [
    "column_names={'amp':0,'x0':1,'y0':2,'gamma':3,'alpha':4}\n",
    "columns=[]\n",
    "for key in column_names.keys():\n",
    "    columns.append(fits.Column(name=key,format='E',array=[p_br.parameters[column_names[key]]]))\n",
    "    columns.append(fits.Column(name=key+'_err',format='E',array=[parameters_err[column_names[key]]]))\n",
    "coldefs = fits.ColDefs(columns)\n",
    "hdu = fits.BinTableHDU.from_columns(coldefs)\n",
    "hdu.writeto('HE0232-0900_OIII_br_moffat_table2.fits',overwrite=True)"
   ]
  },
  {
   "cell_type": "code",
   "execution_count": 17,
   "metadata": {},
   "outputs": [
    {
     "name": "stdout",
     "output_type": "stream",
     "text": [
      "2.74882\n"
     ]
    }
   ],
   "source": [
    "hdu = fits.open('HE0232-0900_OIII_br_moffat_table2.fits')\n",
    "central_tab = hdu[1].data\n",
    "central_column = hdu[1].header\n",
    "gamma_fix = central_tab.field('gamma')[0]\n",
    "alpha_fix = central_tab.field('alpha')[0]\n",
    "hdu.close()\n",
    "print(gamma_fix)"
   ]
  },
  {
   "cell_type": "code",
   "execution_count": 40,
   "metadata": {
    "collapsed": true
   },
   "outputs": [],
   "source": [
    "[y0_nr,x0_nr]= ndimage.measurements.maximum_position(OIII5007_br)"
   ]
  },
  {
   "cell_type": "code",
   "execution_count": 41,
   "metadata": {},
   "outputs": [],
   "source": [
    "p_nr_init = models.Moffat2D(amplitude = amp_OIII5007_br, x_0=x0_nr, y_0=y0_nr,gamma=gamma_fix,alpha=alpha_fix,fixed={'gamma':True,'alpha':True})                     \n",
    "f = fitting.LevMarLSQFitter()\n",
    "p_nr = f(p_nr_init, x, y, OIII5007_br)\n",
    "res = OIII5007_br - p_nr(x,y)"
   ]
  },
  {
   "cell_type": "code",
   "execution_count": 42,
   "metadata": {
    "collapsed": true
   },
   "outputs": [],
   "source": [
    "[amp3,x3,y3,gamma3,alpha3] = p_nr.parameters"
   ]
  },
  {
   "cell_type": "code",
   "execution_count": 21,
   "metadata": {
    "collapsed": true
   },
   "outputs": [],
   "source": [
    "Monte_Carlo_loops = 100\n",
    "parameters_MC = np.zeros((len(p_nr.parameters),Monte_Carlo_loops))\n",
    "for l in range(Monte_Carlo_loops):\n",
    "        iteration_data = np.random.normal(OIII_nr,OIII_nr_err) \n",
    "        p_MC_init = models.Moffat2D(amplitude=amp3,x_0=x3,y_0=y3,gamma=gamma3,alpha=alpha3,fixed={'gamma':True,'alpha':True})\n",
    "        f = fitting.LevMarLSQFitter()\n",
    "        p_MC = f(p_MC_init, x, y, iteration_data)\n",
    "        parameters_MC[:,l]=p_MC.parameters\n",
    "        parameters_err = np.std(parameters_MC,1)  \n",
    "        [amp3_err, x3_err, y3_err,gamma3_err,alpha3_err] = parameters_err"
   ]
  },
  {
   "cell_type": "code",
   "execution_count": 22,
   "metadata": {
    "collapsed": true
   },
   "outputs": [],
   "source": [
    "column_names={'amp':0,'x0':1,'y0':2,'gamma':3,'alpha':4}\n",
    "columns=[]\n",
    "for key in column_names.keys():\n",
    "    columns.append(fits.Column(name=key,format='E',array=[p_nr.parameters[column_names[key]]]))\n",
    "    columns.append(fits.Column(name=key+'_err',format='E',array=[parameters_err[column_names[key]]]))\n",
    "coldefs = fits.ColDefs(columns)\n",
    "hdu = fits.BinTableHDU.from_columns(coldefs)\n",
    "hdu.writeto('HE0232-0900_OIII_nr_moffat_table2.fits',overwrite=True)"
   ]
  },
  {
   "cell_type": "code",
   "execution_count": 23,
   "metadata": {},
   "outputs": [
    {
     "name": "stdout",
     "output_type": "stream",
     "text": [
      "2.74882\n"
     ]
    }
   ],
   "source": [
    "hdu = fits.open('HE0232-0900_OIII_nr_moffat_table2.fits')\n",
    "central_tab = hdu[1].data\n",
    "central_column = hdu[1].header\n",
    "gamma_fix = central_tab.field('gamma')[0]\n",
    "alpha_fix = central_tab.field('alpha')[0]\n",
    "hdu.close()\n",
    "print(gamma_fix)"
   ]
  },
  {
   "cell_type": "code",
   "execution_count": 24,
   "metadata": {
    "collapsed": true
   },
   "outputs": [],
   "source": [
    "hdus=[]\n",
    "#amp_Hb,amp_OIII5007,amp_OIII5007_br,amp_Hb_br,amp_Hb1,amp_Hb2,amp_Fe5018_1,amp_Fe5018_2,m,c\n",
    "hdus.append(fits.PrimaryHDU())\n",
    "hdus.append(fits.ImageHDU(p(x,y),name='Hb_blr'))\n",
    "hdus.append(fits.ImageHDU(p_br(x,y),name='OIII_br'))\n",
    "hdus.append(fits.ImageHDU(p_nr(x,y),name='OIII_nr'))\n",
    "hdu = fits.HDUList(hdus)\n",
    "hdu.writeto('flux_map_moffat_model_HE0232-0900_new.fits',overwrite='True')"
   ]
  },
  {
   "cell_type": "code",
   "execution_count": 25,
   "metadata": {
    "collapsed": true
   },
   "outputs": [],
   "source": [
    "blr_x = x1\n",
    "blr_y = y1\n",
    "wing_x = x2\n",
    "wing_y = y2"
   ]
  },
  {
   "cell_type": "code",
   "execution_count": 26,
   "metadata": {},
   "outputs": [
    {
     "name": "stdout",
     "output_type": "stream",
     "text": [
      "Centroid Difference size in Arcseconds:  0.0469286931496\n"
     ]
    }
   ],
   "source": [
    "outflow_size_pix = np.sqrt((wing_x -  blr_x)**2 + (wing_y -  blr_y)**2)\n",
    "outflow_size_arc = 0.4*outflow_size_pix   \n",
    "print(\"Centroid Difference size in Arcseconds: \",outflow_size_arc)"
   ]
  },
  {
   "cell_type": "code",
   "execution_count": 27,
   "metadata": {},
   "outputs": [
    {
     "name": "stdout",
     "output_type": "stream",
     "text": [
      "Outflow Offset size in Parsecs:   39.9280584203\n"
     ]
    }
   ],
   "source": [
    "distance = 175.5\n",
    "outflow_size_parsec = (distance*outflow_size_arc)*4.848\n",
    "print(\"Outflow Offset size in Parsecs:  \",outflow_size_parsec)"
   ]
  },
  {
   "cell_type": "code",
   "execution_count": null,
   "metadata": {
    "collapsed": true
   },
   "outputs": [],
   "source": []
  }
 ],
 "metadata": {
  "kernelspec": {
   "display_name": "Python 3",
   "language": "python",
   "name": "python3"
  },
  "language_info": {
   "codemirror_mode": {
    "name": "ipython",
    "version": 3
   },
   "file_extension": ".py",
   "mimetype": "text/x-python",
   "name": "python",
   "nbconvert_exporter": "python",
   "pygments_lexer": "ipython3",
   "version": "3.6.3"
  }
 },
 "nbformat": 4,
 "nbformat_minor": 2
}

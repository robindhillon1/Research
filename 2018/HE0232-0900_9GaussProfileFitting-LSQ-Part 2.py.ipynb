{
 "cells": [
  {
   "cell_type": "code",
   "execution_count": 1,
   "metadata": {
    "collapsed": true
   },
   "outputs": [],
   "source": [
    "import numpy as np\n",
    "import matplotlib.pyplot as plt\n",
    "import astropy.io.fits as fits\n",
    "from scipy.optimize import curve_fit\n",
    "from numpy import exp\n",
    "from astropy.modeling import models, fitting\n",
    "from scipy.optimize import leastsq,curve_fit\n",
    "from scipy import ndimage\n",
    "from scipy import asarray as ar,exp\n",
    "from muse import *"
   ]
  },
  {
   "cell_type": "code",
   "execution_count": 2,
   "metadata": {
    "collapsed": true
   },
   "outputs": [],
   "source": [
    "hdu = fits.open('HE0232-0900.wo_absorption.fits')\n",
    "qso_data = hdu[0].data\n",
    "qso_error = hdu[1].data\n",
    "qso_header = hdu[0].header\n",
    "wavestart = qso_header['CRVAL3']\n",
    "wavint = qso_header['CD3_3']\n",
    "wave = wavestart+np.arange(qso_data.shape[0])*wavint "
   ]
  },
  {
   "cell_type": "code",
   "execution_count": 3,
   "metadata": {
    "collapsed": true
   },
   "outputs": [],
   "source": [
    "x = wave\n",
    "y = qso_data[:,51,67] # I set the central position manual here, but one can also search for maximum light in principle\n",
    "y_err = qso_error[:,51,67]"
   ]
  },
  {
   "cell_type": "code",
   "execution_count": 4,
   "metadata": {},
   "outputs": [],
   "source": [
    "z = 0.043143\n",
    "k = z+1\n",
    "select = (x>4750*k) & (x<5090*k)"
   ]
  },
  {
   "cell_type": "code",
   "execution_count": 5,
   "metadata": {},
   "outputs": [],
   "source": [
    "hdu = fits.open('HE0232-0900_central_fit2.fits')\n",
    "central_tab = hdu[1].data\n",
    "central_columns = hdu[1].header\n",
    "vel_OIII1 = central_tab.field('vel_OIII1')[0]\n",
    "vel_sigma_OIII1 = central_tab.field('vel_sigma_OIII1')[0]\n",
    "vel_OIII2 = central_tab.field('vel_OIII2')[0]\n",
    "vel_sigma_OIII2 = central_tab.field('vel_sigma_OIII2')[0]\n",
    "vel_OIII_br = central_tab.field('vel_OIII_br')[0]\n",
    "vel_sigma_OIII_br = central_tab.field('vel_sigma_OIII_br')[0]\n",
    "vel_Hb1 = central_tab.field('vel_Hb1')[0]\n",
    "vel_Hb2 = central_tab.field('vel_Hb2')[0]\n",
    "vel_sigma_Hb1 = central_tab.field('vel_sigma_Hb1')[0]\n",
    "vel_sigma_Hb2 = central_tab.field('vel_sigma_Hb2')[0]\n",
    "fixed_param = [vel_OIII1,vel_sigma_OIII1,vel_OIII2,vel_sigma_OIII2,vel_OIII_br,vel_sigma_OIII_br,vel_Hb1,vel_sigma_Hb1,vel_Hb2,vel_sigma_Hb2]  \n"
   ]
  },
  {
   "cell_type": "code",
   "execution_count": 12,
   "metadata": {
    "collapsed": true
   },
   "outputs": [],
   "source": [
    "[central_x,central_y]= [67,51]\n",
    "mini_cube = qso_data[:,central_y - 5:central_y + 6,central_x - 5:central_x + 6]\n",
    "mini_cube_error = qso_error[:,central_y - 5:central_y + 6,central_x - 5:central_x + 6]\n",
    "qso_header['CRPIX1'] = qso_header['CRPIX1'] - (central_x - 5)\n",
    "qso_header['CRPIX2'] = qso_header['CRPIX2'] - (central_y - 5)\n",
    "new_hdu = fits.HDUList([fits.PrimaryHDU(mini_cube),fits.ImageHDU(mini_cube_error)])\n",
    "new_hdu[0].header = qso_header\n",
    "\n",
    "mini_data = mini_cube\n",
    "mini_error = mini_data"
   ]
  },
  {
   "cell_type": "code",
   "execution_count": 13,
   "metadata": {
    "collapsed": true
   },
   "outputs": [],
   "source": [
    "par = np.zeros((12,mini_data.shape[1],mini_data.shape[2]),dtype=np.float32) #dtype = datatype. the type of the output array\n",
    "err = np.zeros((12,mini_data.shape[1],mini_data.shape[2]),dtype=np.float32)\n",
    "fitted = np.zeros((np.shape(wave[select])[0],mini_data.shape[1],mini_data.shape[2]),dtype=np.float32)\n",
    "residuals = np.zeros((np.shape(wave[select])[0],mini_data.shape[1],mini_data.shape[2]),dtype=np.float32)"
   ]
  },
  {
   "cell_type": "code",
   "execution_count": 15,
   "metadata": {},
   "outputs": [],
   "source": [
    "for i in range(mini_data.shape[1]):\n",
    "    for j in range(mini_data.shape[2]):\n",
    "        y = mini_data[:,i,j][select]\n",
    "        y_err = mini_error[:,i,j][select]\n",
    "        x = wave[select]    \n",
    "\n",
    "        x0 = [0.1,0.1,0.1,0.1,0.1,0.1,0.1,0.1,0.1,0.1,-0.001,0.7]\n",
    "        popt1,pcov1 = leastsq(full_gauss2_fixkin,x0,args = (x,y,y_err,fixed_param),maxfev=10000000)\n",
    "        par[:,i,j] = popt1\n",
    "        model = full_gauss2_fixkin(popt1,x,y,y_err,fixed_param)*(y_err)+y\n",
    " \n",
    "        fitted[:,i,j] = model\n",
    "        \n",
    "        residuals = mini_data[:,i,j][select] - fitted[:,i,j]\n",
    "        \n",
    "        Monte_Carlo_loops = 5\n",
    "        parameters_MC = np.zeros((len(popt1),Monte_Carlo_loops))\n",
    "        \n",
    "        for l in range(Monte_Carlo_loops):\n",
    "            iteration_data = np.random.normal(y,y_err) \n",
    "            popt_MC,pcov_MC = leastsq(full_gauss2_fixkin,x0=popt1,args=(x,iteration_data,y_err,fixed_param),maxfev = 1000000)\n",
    "            parameters_MC[:,l]=popt_MC\n",
    "            \n",
    "        parameters_err = np.std(parameters_MC,1)\n",
    "        err[:,i,j]=parameters_err"
   ]
  },
  {
   "cell_type": "code",
   "execution_count": 17,
   "metadata": {},
   "outputs": [],
   "source": [
    "import random\n",
    "hdus=[]\n",
    "hdus.append(fits.PrimaryHDU())\n",
    "hdus.append(fits.ImageHDU(par[0,:,:],name='amp_Hb_1'))\n",
    "hdus.append(fits.ImageHDU(par[1,:,:],name='amp_OIII5007_1'))\n",
    "hdus.append(fits.ImageHDU(par[2,:,:],name='amp_Hb_2'))\n",
    "hdus.append(fits.ImageHDU(par[3,:,:],name='amp_OIII5007_2'))\n",
    "hdus.append(fits.ImageHDU(par[4,:,:],name='amp_OIII5007_br'))\n",
    "hdus.append(fits.ImageHDU(par[5,:,:],name='amp_Hb_br'))\n",
    "hdus.append(fits.ImageHDU(par[6,:,:],name='amp_Hb1'))\n",
    "hdus.append(fits.ImageHDU(par[7,:,:],name='amp_Hb2'))\n",
    "hdus.append(fits.ImageHDU(par[8,:,:],name='amp_Fe5018_1'))\n",
    "hdus.append(fits.ImageHDU(par[9,:,:],name='amp_Fe5018_2'))\n",
    "hdus.append(fits.ImageHDU(par[10,:,:],name='m'))\n",
    "hdus.append(fits.ImageHDU(par[11,:,:],name='c'))\n",
    "hdu = fits.HDUList(hdus)\n",
    "\n",
    "hdu.writeto('subcube_HE0232-0900_new.fits',overwrite=True)"
   ]
  },
  {
   "cell_type": "code",
   "execution_count": 18,
   "metadata": {},
   "outputs": [],
   "source": [
    "hdus=[]\n",
    "hdus.append(fits.PrimaryHDU())\n",
    "hdus.append(fits.ImageHDU(err[0,:,:],name='amp_Hb_1'))\n",
    "hdus.append(fits.ImageHDU(err[1,:,:],name='amp_OIII5007_1'))\n",
    "hdus.append(fits.ImageHDU(err[2,:,:],name='amp_Hb_2'))\n",
    "hdus.append(fits.ImageHDU(err[3,:,:],name='amp_OIII5007_2'))\n",
    "hdus.append(fits.ImageHDU(err[4,:,:],name='amp_OIII5007_br'))\n",
    "hdus.append(fits.ImageHDU(err[5,:,:],name='amp_Hb_br'))\n",
    "hdus.append(fits.ImageHDU(err[6,:,:],name='amp_Hb1'))\n",
    "hdus.append(fits.ImageHDU(err[7,:,:],name='amp_Hb2'))\n",
    "hdus.append(fits.ImageHDU(err[8,:,:],name='amp_Fe5018_1'))\n",
    "hdus.append(fits.ImageHDU(err[9,:,:],name='amp_Fe5018_2'))\n",
    "hdus.append(fits.ImageHDU(err[10,:,:],name='m'))\n",
    "hdus.append(fits.ImageHDU(err[11,:,:],name='c'))\n",
    "hdu = fits.HDUList(hdus)\n",
    "\n",
    "hdu.writeto('subcube_HE0232-0900_err_new.fits',overwrite=True)"
   ]
  }
 ],
 "metadata": {
  "kernelspec": {
   "display_name": "Python 3",
   "language": "python",
   "name": "python3"
  },
  "language_info": {
   "codemirror_mode": {
    "name": "ipython",
    "version": 3
   },
   "file_extension": ".py",
   "mimetype": "text/x-python",
   "name": "python",
   "nbconvert_exporter": "python",
   "pygments_lexer": "ipython3",
   "version": "3.6.3"
  }
 },
 "nbformat": 4,
 "nbformat_minor": 2
}

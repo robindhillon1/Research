{
 "cells": [
  {
   "cell_type": "code",
   "execution_count": 1,
   "metadata": {},
   "outputs": [],
   "source": [
    "import numpy as np\n",
    "import astropy.io.fits as fits \n",
    "import matplotlib.pyplot as plt\n",
    "from scipy import ndimage\n",
    "import random\n",
    "from scipy.optimize import leastsq\n",
    "import astropy.units as u\n",
    "from astropy.cosmology import FlatLambdaCDM\n",
    "from muse import *"
   ]
  },
  {
   "cell_type": "code",
   "execution_count": 2,
   "metadata": {
    "collapsed": true
   },
   "outputs": [],
   "source": [
    "hdu = fits.open('HE0232-0900.wo_absorption.fits')\n",
    "#hdu.info()\n",
    "qso_data = hdu[0].data\n",
    "qso_error = hdu[1].data\n",
    "qso_header = hdu[0].header\n",
    "wavstart = qso_header['CRVAL3']\n",
    "wavint = qso_header['CD3_3']\n",
    "wave = wavstart+np.arange(qso_data.shape[0])*wavint #. This is the same as the one below. \n",
    "[central_x,central_y]= [67,51]#"
   ]
  },
  {
   "cell_type": "code",
   "execution_count": 3,
   "metadata": {
    "collapsed": true
   },
   "outputs": [],
   "source": [
    "z =0.043143 \n",
    "k = 1+z\n",
    "select = (wave>4750*k)&(wave<5090*k)"
   ]
  },
  {
   "cell_type": "code",
   "execution_count": 4,
   "metadata": {
    "collapsed": true
   },
   "outputs": [],
   "source": [
    "mini_cube = qso_data[:,central_y - 4:central_y + 5,central_x - 4:central_x + 5][select]\n",
    "mini_cube_error = qso_error[:,central_y - 4:central_y + 5,central_x - 4:central_x + 5][select]\n",
    "qso_header['CRPIX1'] = qso_header['CRPIX1'] - (central_x - 4)\n",
    "qso_header['CRPIX2'] = qso_header['CRPIX2'] - (central_y - 4)\n",
    "new_hdu = fits.HDUList([fits.PrimaryHDU(mini_cube),fits.ImageHDU(mini_cube_error)])\n",
    "new_hdu[0].header = qso_header\n",
    "new_hdu.writeto('3arcsec_minicube.fits',overwrite=True)"
   ]
  },
  {
   "cell_type": "code",
   "execution_count": 5,
   "metadata": {
    "collapsed": true
   },
   "outputs": [],
   "source": [
    "#par = np.zeros((10,mini_data.shape[1],mini_data.shape[2]),dtype=np.float32) #dtype = datatype. the type of the output array\n",
    "#err = np.zeros((10,mini_data.shape[1],mini_data.shape[2]),dtype=np.float32)\n",
    "#fitted = np.zeros((np.shape(wave[select])[0],mini_data.shape[1],mini_data.shape[2]),dtype=np.float32)\n",
    "#residuals = np.zeros((np.shape(wave[select])[0],mini_data.shape[1],mini_data.shape[2]),dtype=np.float32)"
   ]
  },
  {
   "cell_type": "code",
   "execution_count": 6,
   "metadata": {
    "collapsed": true
   },
   "outputs": [],
   "source": [
    "#for i in range(mini_data.shape[1]):\n",
    "#    for j in range(mini_data.shape[2]):\n",
    "        #y = mini_data[:,i,j][select]\n",
    "        #y_err = mini_error[:,i,j][select]\n",
    "        #x = wave[select]    \n",
    "\n",
    "        #x0=[2,40,12942,50.0,5,5,12842,100.0,5,1,12942,1000.0,1,1,12942,1000.0,-0.001,0.1]\n",
    "        #popt1,pcov1 = leastsq(full_gauss2,x0,args = (x,y,y_err),maxfev=10000000)\n",
    "        #model = full_gauss2(popt1,x,y,y_err)*(y_err)+y\n",
    "        \n",
    "        #plt.plot(x,y,label='data')\n",
    "        #plt.plot(x,model,label='fit')\n",
    "        \n",
    "        #fitted[:,i,j] = model\n",
    "        #residuals = y - fitted[:,i,j]\n",
    "        \n",
    "        #plt.plot(x,residuals,label = 'residuals')\n",
    "        #plt.legend()\n",
    "        #plt.show()\n",
    "        \n",
    "        "
   ]
  },
  {
   "cell_type": "code",
   "execution_count": 7,
   "metadata": {},
   "outputs": [],
   "source": [
    "shape = mini_cube.shape[1]*mini_cube.shape[2]\n",
    "int_spectrum = sum(mini_cube[:,i,j] for i in range(mini_cube.shape[1]) for j in range(mini_cube.shape[2]))\n",
    "int_error = np.sqrt(sum((mini_cube_error[:,i,j])**2 for i in range(mini_cube.shape[1]) for j in range(mini_cube.shape[2])))        "
   ]
  },
  {
   "cell_type": "code",
   "execution_count": 8,
   "metadata": {
    "collapsed": true
   },
   "outputs": [],
   "source": [
    "#To add erros, sqaure and add them both, and then square root them: propagation of uncertainty/errors. "
   ]
  },
  {
   "cell_type": "code",
   "execution_count": 9,
   "metadata": {},
   "outputs": [
    {
     "name": "stdout",
     "output_type": "stream",
     "text": [
      "[  4.99917231e+01   5.98278650e+02   1.28153676e+04   9.71273424e+01\n",
      "   2.36753668e+01   2.84929053e+02   1.30104477e+04   7.70367913e+01\n",
      "   2.37973869e+01   3.02412244e+02   1.28533822e+04   2.79347434e+02\n",
      "   7.27684770e+01   9.38046481e+00   1.40134573e+04   1.60048976e+03\n",
      "   6.16670102e+01   1.46637348e+01   1.14137605e+04   1.63339017e+03\n",
      "  -5.96506743e+01   4.16584091e+02]\n"
     ]
    }
   ],
   "source": [
    "y = int_spectrum\n",
    "y_err = int_error\n",
    "x = wave[select]\n",
    "\n",
    "x0=[40,500,12942,50,40,400,12942,50,80,100,12842,100,100,50,12942,1000,40,20,12942,1000,-0.001,100]\n",
    "popt1,pcov1 = leastsq(full_gauss2,x0,args = (x,y,y_err),maxfev=10000000)\n",
    "print (popt1)"
   ]
  },
  {
   "cell_type": "code",
   "execution_count": 10,
   "metadata": {
    "collapsed": true
   },
   "outputs": [],
   "source": [
    "#We see Bipolar outflow from adding another nlr component. One is redshifted, the other is blueshifted. "
   ]
  },
  {
   "cell_type": "code",
   "execution_count": 42,
   "metadata": {},
   "outputs": [
    {
     "data": {
      "image/png": "[encoded data removed]",
      "text/plain": [
       "<matplotlib.figure.Figure at 0x23cd913e518>"
      ]
     },
     "metadata": {},
     "output_type": "display_data"
    }
   ],
   "source": [
    "(amp_Hb_1,amp_OIII50071,vel_OIII1,vel_sigma_OIII1,amp_Hb_2,amp_OIII50072,vel_OIII2,vel_sigma_OIII2,amp_Hb_br,amp_OIII5007_br,vel_OIII_br,vel_sigma_OIII_br,amp_Hb1,amp_Fe5018_1,vel_Hb1,vel_sigma_Hb1,amp_Hb2,amp_Fe5018_2,vel_Hb2,vel_sigma_Hb2,m,c)=popt1\n",
    "\n",
    "fig = plt.figure(figsize=(10,5))\n",
    "model = full_gauss2(popt1,x,y,y_err)*(y_err)+y\n",
    "residual = y - model\n",
    "\n",
    "\n",
    "plt.plot(x,y,'ko',markersize=1.5,label='data')\n",
    "plt.plot(x,model,'r',label='fit')\n",
    "plt.plot(x,residual,label='residual')\n",
    "\n",
    "plt.plot(x,Hb_O3_gauss(x,amp_Hb_1,amp_OIII50071,vel_OIII1,vel_sigma_OIII1)+ continuum(x,m,c),'-g',label='core1')\n",
    "plt.plot(x,Hb_O3_gauss(x,amp_Hb_2,amp_OIII50072,vel_OIII2,vel_sigma_OIII2)+ continuum(x,m,c),'-k',label='core2')\n",
    "plt.plot(x,Hb_O3_gauss(x,amp_Hb_br,amp_OIII5007_br,vel_OIII_br,vel_sigma_OIII_br)+ continuum(x,m,c),color ='blue',label='wing')\n",
    "plt.plot(x,Hb_Fe_doublet_gauss(x,amp_Hb1,amp_Fe5018_1,vel_Hb1,vel_sigma_Hb1)+ continuum(x,m,c),color ='brown',label='BLR1')\n",
    "plt.plot(x,Hb_Fe_doublet_gauss(x,amp_Hb2,amp_Fe5018_2,vel_Hb2,vel_sigma_Hb2)+ continuum(x,m,c),'-c',label='BLR2')\n",
    "\n",
    "#plt.plot(x,Hb_Fe_doublet_gauss(x,amp_Hb2,amp_Fe5018_2,vel_Hb2,vel_sigma_Hb2) + continuum(x,m,c),'-c',label='BLR2')\n",
    "plt.title('_brightest_pixel_fit')\n",
    "plt.xlabel(\"Wavelength ($\\AA$)\")\n",
    "plt.ylabel(r\"Flux Density ($\\times 10^{-16}$ erg s$^{-1}$ cm$^{-2}$ Hz$^{-1}$) \")\n",
    "plt.legend()\n",
    "plt.show() \n",
    "        \n",
    "#plt.legend()\n",
    "plt.show()"
   ]
  },
  {
   "cell_type": "code",
   "execution_count": null,
   "metadata": {
    "collapsed": true
   },
   "outputs": [],
   "source": [
    "### print (vel_OIII1,vel_OIII2,vel_OIII_br)#Black is the core. We can see that it is outflowing. Beacuse velocity should be 12942, and the core is redshifted as it's velocity os 13010. "
   ]
  },
  {
   "cell_type": "code",
   "execution_count": 33,
   "metadata": {},
   "outputs": [
    {
     "name": "stdout",
     "output_type": "stream",
     "text": [
      "195.080029757 157.065466299\n"
     ]
    }
   ],
   "source": [
    "vel_offset1 = vel_OIII2 - vel_OIII1\n",
    "vel_offset2 = vel_OIII2 - vel_OIII_br\n",
    "\n",
    "print(vel_offset1,vel_offset2)#they are coupled. This is more accurate than the 207km/s due to instrumental errors. "
   ]
  },
  {
   "cell_type": "code",
   "execution_count": 36,
   "metadata": {
    "collapsed": true
   },
   "outputs": [],
   "source": [
    "sigma_eff_core1 = line_width_recons(vel_sigma_OIII1,rest_line=5006.8,inst_res_fwhm=0)\n",
    "sigma_eff_wing = line_width_recons(vel_sigma_OIII_br,rest_line=5006.8,inst_res_fwhm=0) \n",
    "    "
   ]
  },
  {
   "cell_type": "code",
   "execution_count": 37,
   "metadata": {
    "collapsed": true
   },
   "outputs": [],
   "source": [
    "flux_core1 = amp_OIII50071*(np.sqrt(2.*np.pi)*np.fabs(sigma_eff_core1))#instead of Hb1_blr, we use SII amp1,amp2. \n",
    "flux_wing = amp_OIII5007_br*(np.sqrt(2.*np.pi)*np.fabs(sigma_eff_wing)) \n"
   ]
  },
  {
   "cell_type": "code",
   "execution_count": 40,
   "metadata": {},
   "outputs": [
    {
     "name": "stdout",
     "output_type": "stream",
     "text": [
      "2431.72557643\n",
      "3537.34619841\n"
     ]
    }
   ],
   "source": [
    "print (flux_core1)\n",
    "print(flux_wing)#The wing is coming from the very compact/dense region. \n",
    "#For next week, re-do the analysis with only 1 nlr core, 1nlr wing, and 1 blr component"
   ]
  },
  {
   "cell_type": "code",
   "execution_count": 39,
   "metadata": {},
   "outputs": [
    {
     "data": {
      "text/plain": [
       "0.9728583545377438"
      ]
     },
     "execution_count": 39,
     "metadata": {},
     "output_type": "execute_result"
    }
   ],
   "source": [
    "3441/3537"
   ]
  },
  {
   "cell_type": "code",
   "execution_count": 43,
   "metadata": {},
   "outputs": [
    {
     "data": {
      "text/plain": [
       "0.078691876150338472"
      ]
     },
     "execution_count": 43,
     "metadata": {},
     "output_type": "execute_result"
    }
   ],
   "source": [
    "ratio = amp_Hb_br/amp_OIII5007_br\n",
    "ratio"
   ]
  },
  {
   "cell_type": "code",
   "execution_count": null,
   "metadata": {
    "collapsed": true
   },
   "outputs": [],
   "source": []
  }
 ],
 "metadata": {
  "kernelspec": {
   "display_name": "Python 3",
   "language": "python",
   "name": "python3"
  },
  "language_info": {
   "codemirror_mode": {
    "name": "ipython",
    "version": 3
   },
   "file_extension": ".py",
   "mimetype": "text/x-python",
   "name": "python",
   "nbconvert_exporter": "python",
   "pygments_lexer": "ipython3",
   "version": "3.6.3"
  }
 },
 "nbformat": 4,
 "nbformat_minor": 2
}

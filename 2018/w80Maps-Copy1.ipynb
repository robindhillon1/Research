{
 "cells": [
  {
   "cell_type": "code",
   "execution_count": 1,
   "metadata": {
    "collapsed": true
   },
   "outputs": [],
   "source": [
    "import numpy as np\n",
    "import astropy.io.fits as fits \n",
    "import matplotlib.pyplot as plt\n",
    "from scipy import ndimage\n",
    "import random\n",
    "from scipy.optimize import leastsq\n",
    "import astropy.units as u\n",
    "from astropy.cosmology import FlatLambdaCDM\n",
    "from muse import *"
   ]
  },
  {
   "cell_type": "code",
   "execution_count": 2,
   "metadata": {
    "collapsed": true
   },
   "outputs": [],
   "source": [
    "hdu = fits.open('HE0232-0900.wo_absorption.fits')\n",
    "#hdu.info()\n",
    "qso_data = hdu[0].data\n",
    "qso_error = hdu[1].data\n",
    "qso_header = hdu[0].header\n",
    "wavstart = qso_header['CRVAL3']\n",
    "wavint = qso_header['CD3_3']\n",
    "#wave = wavestart+np.arange(qso_data.shape[0])*wavint. This is the same as the one below. \n",
    "[central_x,central_y]= [67,51]#"
   ]
  },
  {
   "cell_type": "code",
   "execution_count": 3,
   "metadata": {
    "collapsed": true
   },
   "outputs": [],
   "source": [
    "mini_cube = qso_data[:,central_y - 7:central_y + 8,central_x - 7:central_x + 8]\n",
    "mini_cube_error = qso_error[:,central_y - 7:central_y + 8,central_x - 7:central_x + 8]\n",
    "qso_header['CRPIX1'] = qso_header['CRPIX1'] - (central_x - 7)\n",
    "qso_header['CRPIX2'] = qso_header['CRPIX2'] - (central_y - 7)\n",
    "new_hdu = fits.HDUList([fits.PrimaryHDU(mini_cube),fits.ImageHDU(mini_cube_error)])\n",
    "new_hdu[0].header = qso_header\n",
    "wave = np.arange(wavstart,(wavstart+(wavint*mini_cube.shape[0])),wavint)#start,stop,step"
   ]
  },
  {
   "cell_type": "code",
   "execution_count": 4,
   "metadata": {
    "collapsed": true
   },
   "outputs": [],
   "source": [
    "z =0.043143 \n",
    "k = 1+z\n",
    "mini_data = mini_cube\n",
    "mini_error = mini_cube_error"
   ]
  },
  {
   "cell_type": "code",
   "execution_count": 5,
   "metadata": {},
   "outputs": [
    {
     "data": {
      "image/png": "[encoded data removed]",
      "text/plain": [
       "<matplotlib.figure.Figure at 0x2944c570cc0>"
      ]
     },
     "metadata": {},
     "output_type": "display_data"
    }
   ],
   "source": [
    "image1=mini_cube[0,:,:]\n",
    "plt.imshow(image1,cmap='inferno')\n",
    "plt.show()"
   ]
  },
  {
   "cell_type": "code",
   "execution_count": 6,
   "metadata": {},
   "outputs": [
    {
     "data": {
      "image/png": "[encoded data removed]",
      "text/plain": [
       "<matplotlib.figure.Figure at 0x2944c5922e8>"
      ]
     },
     "metadata": {},
     "output_type": "display_data"
    }
   ],
   "source": [
    "plt.imshow(image1,cmap='inferno',origin='lower',interpolation='nearest')\n",
    "plt.show()"
   ]
  },
  {
   "cell_type": "code",
   "execution_count": 7,
   "metadata": {
    "collapsed": true
   },
   "outputs": [],
   "source": [
    "w80 = np.zeros((mini_data.shape[1],mini_data.shape[2]),dtype=np.float32)\n",
    "vel_diff = np.zeros((mini_data.shape[1],mini_data.shape[2]),dtype=np.float32)\n",
    "flux_narrow = np.zeros((mini_data.shape[1],mini_data.shape[2]),dtype=np.float32)\n",
    "flux_broad = np.zeros((mini_data.shape[1],mini_data.shape[2]),dtype=np.float32)\n",
    "flux_total = np.zeros((mini_data.shape[1],mini_data.shape[2]),dtype=np.float32)\n",
    "v5 = np.zeros((mini_data.shape[1],mini_data.shape[2]),dtype=np.float32)"
   ]
  },
  {
   "cell_type": "code",
   "execution_count": 10,
   "metadata": {},
   "outputs": [
    {
     "ename": "TypeError",
     "evalue": "Improper input: N=18 must not exceed M=10",
     "output_type": "error",
     "traceback": [
      "\u001b[1;31m---------------------------------------------------------------------------\u001b[0m",
      "\u001b[1;31mTypeError\u001b[0m                                 Traceback (most recent call last)",
      "\u001b[1;32m<ipython-input-10-90d7a35d2f98>\u001b[0m in \u001b[0;36m<module>\u001b[1;34m()\u001b[0m\n\u001b[0;32m     15\u001b[0m \u001b[1;33m\u001b[0m\u001b[0m\n\u001b[0;32m     16\u001b[0m         \u001b[0mspec_select\u001b[0m \u001b[1;33m=\u001b[0m \u001b[1;33m(\u001b[0m\u001b[0my\u001b[0m\u001b[1;33m/\u001b[0m\u001b[0my_err\u001b[0m\u001b[1;33m)\u001b[0m\u001b[1;33m>\u001b[0m\u001b[1;36m10\u001b[0m\u001b[1;33m\u001b[0m\u001b[0m\n\u001b[1;32m---> 17\u001b[1;33m         \u001b[0mpopt2\u001b[0m\u001b[1;33m,\u001b[0m\u001b[0mpcov2\u001b[0m \u001b[1;33m=\u001b[0m \u001b[0mleastsq\u001b[0m\u001b[1;33m(\u001b[0m\u001b[0mfull_gauss2\u001b[0m\u001b[1;33m,\u001b[0m\u001b[0mx0\u001b[0m\u001b[1;33m=\u001b[0m\u001b[1;33m[\u001b[0m\u001b[1;36m2\u001b[0m\u001b[1;33m,\u001b[0m\u001b[1;36m40\u001b[0m\u001b[1;33m,\u001b[0m\u001b[1;36m12942\u001b[0m\u001b[1;33m,\u001b[0m\u001b[1;36m50.0\u001b[0m\u001b[1;33m,\u001b[0m\u001b[1;36m5\u001b[0m\u001b[1;33m,\u001b[0m\u001b[1;36m5\u001b[0m\u001b[1;33m,\u001b[0m\u001b[1;36m12842\u001b[0m\u001b[1;33m,\u001b[0m\u001b[1;36m100.0\u001b[0m\u001b[1;33m,\u001b[0m\u001b[1;36m5\u001b[0m\u001b[1;33m,\u001b[0m\u001b[1;36m1\u001b[0m\u001b[1;33m,\u001b[0m\u001b[1;36m12942\u001b[0m\u001b[1;33m,\u001b[0m\u001b[1;36m1000.0\u001b[0m\u001b[1;33m,\u001b[0m\u001b[1;36m1\u001b[0m\u001b[1;33m,\u001b[0m\u001b[1;36m1\u001b[0m\u001b[1;33m,\u001b[0m\u001b[1;36m12942\u001b[0m\u001b[1;33m,\u001b[0m\u001b[1;36m1000.0\u001b[0m\u001b[1;33m,\u001b[0m\u001b[1;33m-\u001b[0m\u001b[1;36m0.001\u001b[0m\u001b[1;33m,\u001b[0m\u001b[1;36m0.1\u001b[0m\u001b[1;33m]\u001b[0m\u001b[1;33m,\u001b[0m\u001b[0margs\u001b[0m\u001b[1;33m=\u001b[0m\u001b[1;33m(\u001b[0m\u001b[0mx\u001b[0m\u001b[1;33m[\u001b[0m\u001b[0mspec_select\u001b[0m\u001b[1;33m]\u001b[0m\u001b[1;33m,\u001b[0m\u001b[0my\u001b[0m\u001b[1;33m[\u001b[0m\u001b[0mspec_select\u001b[0m\u001b[1;33m]\u001b[0m\u001b[1;33m,\u001b[0m\u001b[0my_err\u001b[0m\u001b[1;33m[\u001b[0m\u001b[0mspec_select\u001b[0m\u001b[1;33m]\u001b[0m\u001b[1;33m)\u001b[0m\u001b[1;33m,\u001b[0m\u001b[0mmaxfev\u001b[0m\u001b[1;33m=\u001b[0m\u001b[1;36m100000000\u001b[0m\u001b[1;33m)\u001b[0m\u001b[1;33m\u001b[0m\u001b[0m\n\u001b[0m\u001b[0;32m     18\u001b[0m \u001b[1;33m\u001b[0m\u001b[0m\n\u001b[0;32m     19\u001b[0m         \u001b[0mplt\u001b[0m\u001b[1;33m.\u001b[0m\u001b[0mplot\u001b[0m\u001b[1;33m(\u001b[0m\u001b[0mx\u001b[0m\u001b[1;33m[\u001b[0m\u001b[0mspec_select\u001b[0m\u001b[1;33m]\u001b[0m\u001b[1;33m,\u001b[0m\u001b[0my\u001b[0m\u001b[1;33m[\u001b[0m\u001b[0mspec_select\u001b[0m\u001b[1;33m]\u001b[0m\u001b[1;33m)\u001b[0m\u001b[1;33m\u001b[0m\u001b[0m\n",
      "\u001b[1;32m~\\Anaconda3\\lib\\site-packages\\scipy\\optimize\\minpack.py\u001b[0m in \u001b[0;36mleastsq\u001b[1;34m(func, x0, args, Dfun, full_output, col_deriv, ftol, xtol, gtol, maxfev, epsfcn, factor, diag)\u001b[0m\n\u001b[0;32m    378\u001b[0m     \u001b[0mm\u001b[0m \u001b[1;33m=\u001b[0m \u001b[0mshape\u001b[0m\u001b[1;33m[\u001b[0m\u001b[1;36m0\u001b[0m\u001b[1;33m]\u001b[0m\u001b[1;33m\u001b[0m\u001b[0m\n\u001b[0;32m    379\u001b[0m     \u001b[1;32mif\u001b[0m \u001b[0mn\u001b[0m \u001b[1;33m>\u001b[0m \u001b[0mm\u001b[0m\u001b[1;33m:\u001b[0m\u001b[1;33m\u001b[0m\u001b[0m\n\u001b[1;32m--> 380\u001b[1;33m         \u001b[1;32mraise\u001b[0m \u001b[0mTypeError\u001b[0m\u001b[1;33m(\u001b[0m\u001b[1;34m'Improper input: N=%s must not exceed M=%s'\u001b[0m \u001b[1;33m%\u001b[0m \u001b[1;33m(\u001b[0m\u001b[0mn\u001b[0m\u001b[1;33m,\u001b[0m \u001b[0mm\u001b[0m\u001b[1;33m)\u001b[0m\u001b[1;33m)\u001b[0m\u001b[1;33m\u001b[0m\u001b[0m\n\u001b[0m\u001b[0;32m    381\u001b[0m     \u001b[1;32mif\u001b[0m \u001b[0mepsfcn\u001b[0m \u001b[1;32mis\u001b[0m \u001b[1;32mNone\u001b[0m\u001b[1;33m:\u001b[0m\u001b[1;33m\u001b[0m\u001b[0m\n\u001b[0;32m    382\u001b[0m         \u001b[0mepsfcn\u001b[0m \u001b[1;33m=\u001b[0m \u001b[0mfinfo\u001b[0m\u001b[1;33m(\u001b[0m\u001b[0mdtype\u001b[0m\u001b[1;33m)\u001b[0m\u001b[1;33m.\u001b[0m\u001b[0meps\u001b[0m\u001b[1;33m\u001b[0m\u001b[0m\n",
      "\u001b[1;31mTypeError\u001b[0m: Improper input: N=18 must not exceed M=10"
     ]
    }
   ],
   "source": [
    "np.seterr(divide='ignore', invalid='ignore')\n",
    "for i in range(mini_data.shape[1]):\n",
    "    for j in range(mini_data.shape[2]):\n",
    "        spectrum = mini_data[:,i,j]\n",
    "        wave = np.arange(wavstart,(wavstart+(wavint*mini_data.shape[0])),wavint)\n",
    "        select = (wave > 4750*k) & (wave < 5090*k) \n",
    "        select1 = (spectrum> 0.08)\n",
    "        n = len(wave[select])\n",
    "        mean = sum(wave[select]*spectrum[select])/n\n",
    "        sigma = sum(spectrum[select]*(wave[select]-mean)**2)/n  \n",
    "        \n",
    "        x = wave[select]\n",
    "        y = spectrum[select]\n",
    "        y_err = mini_error[:,i,j][select]\n",
    "        \n",
    "        spec_select = (y/y_err)>10\n",
    "        popt2,pcov2 = leastsq(full_gauss2,x0=[2,40,12942,50.0,5,5,12842,100.0,5,1,12942,1000.0,1,1,12942,1000.0,-0.001,0.1],args=(x[spec_select],y[spec_select],y_err[spec_select]),maxfev=100000000)\n",
    "                \n",
    "        plt.plot(x[spec_select],y[spec_select])\n",
    "        fit = full_gauss2(popt2,x[spec_select],y[spec_select],y_err[spec_select])*(y_err[spec_select])+y[spec_select]\n",
    "        plt.plot(x[spec_select],fit,'r-',label='fit')\n",
    "        plt.show()\n",
    "                \n",
    "        (amp_Hb,amp_OIII5007,vel_OIII,vel_sigma_OIII,amp_Hb_br,amp_OIII5007_br,vel_OIII_br,vel_sigma_OIII_br,amp_Hb1,amp_Fe5018_1,vel_Hb1,vel_sigma_Hb1,amp_Hb2,amp_Fe5018_2,vel_Hb2,vel_sigma_Hb2,m,c)=popt2\n",
    "        cor_popt2 = np.array([amp_OIII5007,amp_OIII5007_br,vel_OIII,vel_sigma_OIII,vel_OIII_br,vel_sigma_OIII_br])\n",
    "                \n",
    "        c = 3*(10**5)\n",
    "        (wav_min,wav_max)=(4967*k,5037*k)\n",
    "        wave = np.arange(wav_min,wav_max,0.02) \n",
    "        cumsum = np.cumsum(OIII_wo_cont(wave,*cor_popt2))\n",
    "        norm_sum=cumsum/cumsum[-1]\n",
    "    \n",
    "        select = (norm_sum>0.1) & (norm_sum<0.9)\n",
    "        w80_spec = wave[select][-1]-wave[select][0]\n",
    "                \n",
    "        select =  (norm_sum>0.05) & (norm_sum<0.5)\n",
    "        v5_spec = wave[select][0]-wave[select][-1]\n",
    "\n",
    "        w80[i,j]=((w80_spec)/5006.8)*(c/(1+z))\n",
    "        v5[i,j] = ((v5_spec)/5006.8)*(c/(1+z))\n",
    "                \n",
    "                #plt.legend\n",
    "                #F_total = (2.507*(cor_popt2[0]*cor_popt2[4]) + 2.507*(cor_popt2[1]*cor_popt2[5]))*(10**-16)\n",
    "                #flux_total[i,j] =  F_total\n",
    "                #F_narrow = 2.507*(cor_popt2[0]*cor_popt2[4])*(10**-16)\n",
    "                #F_broad = 2.507*(cor_popt2[1]*cor_popt2[5])*(10**-16)\n",
    "        velshift_angstrom = (cor_popt2[2]-cor_popt2[3])\n",
    "                #print cor_popt2[3]\n",
    "        velshift_actual = (velshift_angstrom)/(cor_popt2[3])*(c/(1+z)) \n",
    "        vel_diff[i,j] = velshift_actual/100000 \n",
    "        print('velocity shift is', vel_diff[i,j])"
   ]
  },
  {
   "cell_type": "code",
   "execution_count": null,
   "metadata": {},
   "outputs": [],
   "source": [
    "from matplotlib.colors import LogNorm\n",
    "from matplotlib import cm\n",
    "cmap=cm.gray\n",
    "plt.imshow(w80,origin='lower',interpolation='nearest', cmap='gray', norm=LogNorm())\n",
    "cbar = plt.colorbar()\n",
    "plt.show()\n",
    "\n",
    "#plt.savefig('w80_fig.png',format='png')"
   ]
  },
  {
   "cell_type": "code",
   "execution_count": null,
   "metadata": {
    "collapsed": true
   },
   "outputs": [],
   "source": [
    "fig = plt.figure()\n",
    "\n",
    "cmap = cm.plasma\n",
    "cmap.set_bad('white',1)\n",
    "\n",
    "frame = plt.imshow(w80, origin='lower', cmap=cmap, norm=LogNorm(), interpolation='nearest')\n",
    "cbar = plt.colorbar()\n",
    "cbar.set_label(r\"w80\")"
   ]
  },
  {
   "cell_type": "code",
   "execution_count": null,
   "metadata": {},
   "outputs": [],
   "source": [
    "plt.imshow(vel_diff,origin='lower',interpolation='nearest',cmap='gray')\n",
    "cbar = plt.colorbar()\n",
    "cmap.set_bad('white',1)\n",
    "plt.show()"
   ]
  },
  {
   "cell_type": "code",
   "execution_count": null,
   "metadata": {
    "collapsed": true
   },
   "outputs": [],
   "source": [
    "fig = plt.figure()\n",
    "\n",
    "cmap = cm.RdBu\n",
    "cmap.set_bad('white',1)\n",
    "\n",
    "frame = plt.imshow(vel_diff, origin='lower', cmap=cmap, norm=LogNorm(), interpolation='nearest')\n",
    "cbar = plt.colorbar()\n",
    "cbar.set_label(r\"velocity shift\")"
   ]
  },
  {
   "cell_type": "code",
   "execution_count": null,
   "metadata": {
    "collapsed": true
   },
   "outputs": [],
   "source": [
    "w80_hdu = fits.PrimaryHDU(data=w80)\n",
    "w80_hdu.writeto('w80_myfit.fits',clobber=True)"
   ]
  },
  {
   "cell_type": "code",
   "execution_count": null,
   "metadata": {
    "collapsed": true
   },
   "outputs": [],
   "source": [
    "plt.imshow(v5,origin='lower',interpolation='nearest',cmap='gray', norm=LogNorm())\n",
    "cbar = plt.colorbar()\n",
    "plt.show()"
   ]
  },
  {
   "cell_type": "code",
   "execution_count": null,
   "metadata": {
    "collapsed": true
   },
   "outputs": [],
   "source": [
    "plt.imshow(flux_total,origin='lower',interpolation='nearest',cmap='gray',norm=LogNorm())\n",
    "cbar = plt.colorbar()\n",
    "plt.show()"
   ]
  },
  {
   "cell_type": "code",
   "execution_count": null,
   "metadata": {
    "collapsed": true
   },
   "outputs": [],
   "source": [
    "vel_diff_hdu = fits.PrimaryHDU(data=vel_diff)\n",
    "vel_diff_hdu.writeto('vel_diff_myfit.fits',clobber=True)"
   ]
  },
  {
   "cell_type": "code",
   "execution_count": null,
   "metadata": {
    "collapsed": true
   },
   "outputs": [],
   "source": [
    "flux_total_hdu = fits.PrimaryHDU(data=flux_total)\n",
    "flux_total_hdu.writeto('flux_total_myfit.fits',clobber=True)"
   ]
  },
  {
   "cell_type": "code",
   "execution_count": null,
   "metadata": {
    "collapsed": true
   },
   "outputs": [],
   "source": [
    "Flux= np.sum(flux_total)\n",
    "Flux"
   ]
  },
  {
   "cell_type": "code",
   "execution_count": null,
   "metadata": {
    "collapsed": true
   },
   "outputs": [],
   "source": [
    "D_L = 7.31*(10**26)\n",
    "L_total = 31.5*((D_L)**2)*(Flux)/(2.507)\n",
    "L_total"
   ]
  },
  {
   "cell_type": "code",
   "execution_count": null,
   "metadata": {
    "collapsed": true
   },
   "outputs": [],
   "source": [
    "velocity_shift = velshift_actual/100000\n",
    "velocity_shift"
   ]
  },
  {
   "cell_type": "code",
   "execution_count": null,
   "metadata": {
    "collapsed": true
   },
   "outputs": [],
   "source": [
    "v5_final = v5_spec\n",
    "v5_final"
   ]
  },
  {
   "cell_type": "code",
   "execution_count": null,
   "metadata": {
    "collapsed": true
   },
   "outputs": [],
   "source": [
    "velocity_dispersion = w80_final/3.29\n",
    "velocity_dispersion"
   ]
  },
  {
   "cell_type": "code",
   "execution_count": null,
   "metadata": {
    "collapsed": true
   },
   "outputs": [],
   "source": [
    "from scipy import math\n",
    "math.log10(L_total)"
   ]
  },
  {
   "cell_type": "code",
   "execution_count": null,
   "metadata": {
    "collapsed": true
   },
   "outputs": [],
   "source": [
    "np.max(w80)"
   ]
  }
 ],
 "metadata": {
  "kernelspec": {
   "display_name": "Python 3",
   "language": "python",
   "name": "python3"
  }
 },
 "nbformat": 4,
 "nbformat_minor": 2
}
